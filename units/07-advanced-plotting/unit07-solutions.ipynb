{
 "cells": [
  {
   "cell_type": "markdown",
   "metadata": {},
   "source": [
    "# Solutions: Unit 7\n",
    "-------------------\n",
    "\n",
    "Complete the problems below in your copy of the Jupyter Notebook."
   ]
  },
  {
   "cell_type": "markdown",
   "metadata": {},
   "source": [
    "## Problem 7.1.\n",
    "\n",
    "The `seaborn` library offers some conveniences, but you can also acheive these results using other methods. Recreate the plot from section 7.2.1. using just the `matplotlib` and `pandas` packages. You may need to consult the [`matplotlib` documentation](https://matplotlib.org/stable/api/axes_api.html) to add some of the features to this plot. Compare this to the `seaborn` solution. "
   ]
  },
  {
   "cell_type": "code",
   "execution_count": null,
   "metadata": {},
   "outputs": [],
   "source": [
    "# problem 7.1. solution\n",
    "\n",
    "import pandas as pd\n",
    "import matplotlib.pyplot as plt\n",
    "\n",
    "plt.style.use('ggplot')\n",
    "\n",
    "# read in the physical properties dataset that we have used previously\n",
    "films_df = pd.read_excel('../../data/film_testing.xlsx', sheet_name='physical_properties')\n",
    "\n",
    "# filter the data to select just the Elongation at Break property\n",
    "elongation_df = films_df[films_df['Property']=='Elongation at Break']\n",
    "\n",
    "# pivot the data to produce columns by direction, calculate the mean and standard devation\n",
    "elongation_pt = elongation_df.pivot_table(index='FilmID', columns='Direction', \n",
    "                                          values='Measurement', aggfunc=['mean', 'std'])\n",
    "\n",
    "# resets the index to numerical values, instead of the FilmID labels\n",
    "# FilmID becomes a data column\n",
    "elongation_pt.reset_index(inplace=True)\n",
    "elongation_pt"
   ]
  },
  {
   "cell_type": "code",
   "execution_count": null,
   "metadata": {},
   "outputs": [],
   "source": [
    "# start the plot\n",
    "fig, ax = plt.subplots()\n",
    "\n",
    "# need to set the bar width, so that we can shift the two data series\n",
    "bar_width = 0.4\n",
    "\n",
    "# plot the MD series align='edge', with a negative bar width shifts the bar left\n",
    "ax.bar(elongation_pt.index, elongation_pt['mean', 'MD'], \n",
    "       align='edge', width=-bar_width, yerr=elongation_pt['std', 'MD'], \n",
    "       tick_label=elongation_pt['FilmID', ''], label='MD')\n",
    "\n",
    "ax.bar(elongation_pt.index, elongation_pt['mean', 'TD'], \n",
    "       align='edge', width=bar_width, yerr=elongation_pt['std', 'TD'], \n",
    "       tick_label=elongation_pt['FilmID', ''], label='TD')\n",
    "\n",
    "ax.legend(title='Film Orientation')\n",
    "ax.set_xlabel(\"Film Grade\")\n",
    "ax.set_ylabel(\"Elongation at Break (%)\")"
   ]
  },
  {
   "cell_type": "markdown",
   "metadata": {},
   "source": [
    "## Problem 7.2.\n",
    "\n",
    "The `seaborn` libraries are most useful with long-form datasets, but this isn't always what you have to work with. Research the [`pandas.DataFrame.melt()`](https://pandas.pydata.org/pandas-docs/stable/reference/api/pandas.DataFrame.melt.html) function to convert the file `film_classification_extended.csv` from wide-form to long-form, retaining the film type as an identifier variable.\n",
    "\n",
    "Then, create a faceted plot showing the distributions of the tensile strength measurements (`strength-MD`, `strength-TD`). Display film types by row and the two measured properties by column."
   ]
  },
  {
   "cell_type": "code",
   "execution_count": null,
   "metadata": {},
   "outputs": [],
   "source": [
    "# problem 7.2. solution\n",
    "\n",
    "import pandas as pd\n",
    "import seaborn as sns\n",
    "\n",
    "# load the film classification dataset from Unit 6 problems\n",
    "film_class_df = pd.read_csv('../../data/film_classification_extended.csv')\n",
    "film_class_df.head()"
   ]
  },
  {
   "cell_type": "code",
   "execution_count": null,
   "metadata": {},
   "outputs": [],
   "source": [
    "# \"melt\" the DataFrame to long-form, preserving film type as an identifier\n",
    "# by selecting only the value_vars columns of interest, we can avoid filtering the DataFrame layer\n",
    "film_long_df = film_class_df.melt(id_vars='filmtype', value_vars=['strength-MD', 'strength-TD'])\n",
    "\n",
    "# ALTERNATIVE: you could melt all columns, and then filter the DataFrame to the values of interest\n",
    "# film_long_df = film_long_df[(film_long_df['variable']=='strength-MD') | (film_long_df['variable']=='strength-TD')]\n",
    "\n",
    "film_long_df.head()"
   ]
  },
  {
   "cell_type": "code",
   "execution_count": null,
   "metadata": {},
   "outputs": [],
   "source": [
    "# use the displot to plot the faceted histograms\n",
    "g = sns.displot(data=film_long_df,\n",
    "                x='value', \n",
    "                row='filmtype', col='variable',\n",
    "                facet_kws=dict(margin_titles=True))\n",
    "\n",
    "# relable the axes\n",
    "g.set_axis_labels('Tensile Strength (MPa)', 'Count')"
   ]
  },
  {
   "cell_type": "markdown",
   "metadata": {},
   "source": [
    "## Problem 7.3.\n",
    "\n",
    "To visualize the relationship between variables in a dataset, it is a common practice to create a faceted grid, with each variable represented as both a row and a column. Where the variable the row matches the variand column, the histogram for that variable is plotted. Where one variable in a row is paired with a different variable in the column, a scatterplot of this pair-wise relationship is plotted.\n",
    "\n",
    "$$\\begin{array}{|r|ccc|}\n",
    "\\hline\n",
    "var1 & hist & scatter & scatter \\\\\n",
    "var2 & scatter & hist & scatter \\\\\n",
    "var3 & scatter & scatter & hist \\\\\n",
    "\\hline\n",
    " &  var1 & var2 & var3 \\\\\n",
    " \\hline\n",
    "\\end{array}$$\n",
    "\n",
    "Use the `dart`, `strength-MD` and `strength-TD` variables from the `film_classification_extended.csv` dataset. You can leave the data in wide-form for this exercise. \n",
    "\n",
    "1. Create this faceted plot using the `plt.subplots()` function and the basic `matplotlib` functionality\n",
    "2. Review the documentation for the [`seaborn.pairplot()`](https://seaborn.pydata.org/generated/seaborn.pairplot.html) function and create a second version of the plot using `seaborn`. Also use the `filmtype` attribute to set the color of the points."
   ]
  },
  {
   "cell_type": "code",
   "execution_count": null,
   "metadata": {},
   "outputs": [],
   "source": [
    "# problem 7.3. solution\n",
    "\n",
    "import pandas as pd\n",
    "import numpy as np\n",
    "import matplotlib.pyplot as plt\n",
    "import seaborn as sns\n",
    "\n",
    "plt.style.use('ggplot')\n",
    "\n",
    "# load the film classification dataset from Unit 6 problems\n",
    "film_class_df = pd.read_csv('../../data/film_classification_extended.csv')\n",
    "film_class_df.head()"
   ]
  },
  {
   "cell_type": "code",
   "execution_count": null,
   "metadata": {},
   "outputs": [],
   "source": [
    "# create the faceted grid\n",
    "fig, ax = plt.subplots(nrows=3, ncols=3, sharex='col', dpi=120)\n",
    "\n",
    "# plot the histograms, removing the y tick labesl for the histograms\n",
    "ax[0, 0].hist(film_class_df['dart'], density=True)\n",
    "ax[0, 0].set_yticklabels([])\n",
    "\n",
    "ax[1, 1].hist(film_class_df['strength-MD'], density=True)\n",
    "ax[1, 1].set_yticklabels([])\n",
    "\n",
    "ax[2, 2].hist(film_class_df['strength-TD'], density=True)\n",
    "ax[2, 2].set_yticklabels([])\n",
    "\n",
    "# scatterplots with s=2 to make the marker smaller\n",
    "# plot the scatterplots in the first column\n",
    "ax[1, 0].scatter(film_class_df['dart'], film_class_df['strength-MD'], s=2)\n",
    "ax[2, 0].scatter(film_class_df['dart'], film_class_df['strength-TD'], s=2)\n",
    "\n",
    "ax[2, 0].set_xlabel('Dart Impact', fontsize='x-small')\n",
    "ax[0, 0].set_ylabel('Dart Impact', fontsize='x-small')\n",
    "\n",
    "# plot the scatterplots in the second column\n",
    "ax[0, 1].scatter(film_class_df['strength-MD'], film_class_df['dart'], s=2)\n",
    "ax[2, 1].scatter(film_class_df['strength-MD'], film_class_df['strength-TD'], s=2)\n",
    "\n",
    "ax[2, 1].set_xlabel('Tensile Strength\\n(MD)', fontsize='x-small')\n",
    "ax[1, 0].set_ylabel('Tensile Strength\\n(MD)', fontsize='x-small')\n",
    "\n",
    "# plot the scatterplots in the third column\n",
    "ax[0, 2].scatter(film_class_df['strength-TD'], film_class_df['dart'], s=2)\n",
    "ax[1, 2].scatter(film_class_df['strength-TD'], film_class_df['strength-MD'], s=2)\n",
    "\n",
    "ax[2, 2].set_xlabel('Tensile Strength\\n(TD)', fontsize='x-small')\n",
    "ax[2, 0].set_ylabel('Tensile Strength\\n(TD)', fontsize='x-small')\n",
    "\n",
    "# set the y-axis ticks for the first row\n",
    "ax[0, 1].set_yticks(np.arange(0, 2, 0.5))\n",
    "ax[0, 1].tick_params(labelsize='x-small')\n",
    "\n",
    "ax[0, 2].set_yticks(np.arange(0, 2, 0.5))\n",
    "ax[0, 2].tick_params(labelsize='x-small')\n",
    "\n",
    "# set the y-axis ticks for the second row\n",
    "ax[1, 0].set_yticks(np.arange(0, 400, 50))\n",
    "ax[1, 0].tick_params(labelsize='x-small')\n",
    "\n",
    "ax[1, 2].set_yticks(np.arange(0, 400, 50))\n",
    "ax[1, 2].tick_params(labelsize='x-small')\n",
    "\n",
    "# set the y-axis ticks for the second row\n",
    "ax[2, 0].set_yticks(np.arange(0, 400, 50))\n",
    "ax[2, 0].tick_params(labelsize='x-small')\n",
    "\n",
    "ax[2, 1].set_yticks(np.arange(0, 400, 50))\n",
    "ax[2, 1].tick_params(labelsize='x-small')\n",
    "\n",
    "# set the font size for the bottom right plot tick labels\n",
    "ax[2, 2].tick_params(labelsize='x-small')"
   ]
  },
  {
   "cell_type": "code",
   "execution_count": null,
   "metadata": {},
   "outputs": [],
   "source": [
    "# we can recreate this using pairplot() in a single line\n",
    "g = sns.pairplot(film_class_df, hue='filmtype', vars=['dart', 'strength-MD', 'strength-TD'])"
   ]
  },
  {
   "cell_type": "markdown",
   "metadata": {},
   "source": [
    "--------------\n",
    "## Next Steps:\n",
    "\n",
    "1. Advance to [Unit 8](../08-image-analysis/unit08-lesson.ipynb) when you're ready for the next step"
   ]
  }
 ],
 "metadata": {
  "kernelspec": {
   "display_name": "Python 3.9.12 ('base')",
   "language": "python",
   "name": "python3"
  },
  "language_info": {
   "codemirror_mode": {
    "name": "ipython",
    "version": 3
   },
   "file_extension": ".py",
   "mimetype": "text/x-python",
   "name": "python",
   "nbconvert_exporter": "python",
   "pygments_lexer": "ipython3",
   "version": "3.9.12"
  },
  "orig_nbformat": 4,
  "vscode": {
   "interpreter": {
    "hash": "2857618fbf4d4bb3d9a88a0331cc9f5539aea2b45b45163c4b048952b7884495"
   }
  }
 },
 "nbformat": 4,
 "nbformat_minor": 2
}
