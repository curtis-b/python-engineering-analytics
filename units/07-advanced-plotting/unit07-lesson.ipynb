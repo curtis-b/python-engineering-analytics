{
 "cells": [
  {
   "cell_type": "markdown",
   "metadata": {},
   "source": [
    "# Unit 7: Advanced Data Visualization\n",
    "-------------------------------------\n",
    "\n",
    "**After completing this unit, you should be able to:**\n",
    "\n",
    "- Create faceted plots in `matplotlib`\n",
    "- Use the `seaborn` package for more advanced plots"
   ]
  },
  {
   "cell_type": "markdown",
   "metadata": {},
   "source": [
    "## 7.1. Creating faceted plots\n",
    "\n",
    "In Unit 4, we created an example where we plotted a time-series data set, and it's derivative. Let's dissect this code to understand how the subplots were created. The key difference, compared to what we have done previously, it that we have introduced new parameters for the [`plt.subplots()`](https://matplotlib.org/stable/api/figure_api.html#matplotlib.figure.Figure.subplots) function. \n",
    "\n",
    "| Parameter | Default Value | Possible Values | Description |\n",
    "|-----------|---------------|-----------------|-------------|\n",
    "| `nrows` | 1 | integer | number of rows of plots to create |\n",
    "| `ncols` | 1 | integer | number of columns of plots to create |\n",
    "| `sharex` | `False` | `True`, `False`, `'row'`, `'col'` | should each axis share the same x-ticks? |\n",
    "| `sharey` | `False` | `True`, `False`, `'row'`, `'col'` | should each axis share the same y-ticks? |\n",
    "\n",
    "In this example, we have created 2 *rows* of plots, with the default value of 1 *column*. Because these share the same time scale, it is appropriate for them to share the same x-tick positions and labels. However, the y-scale for the signal and its derivative are not in the same units, so these are not shared (because the default argument is `False`).\n",
    "\n",
    "When `nrows` or `ncols` is greater than 1 the `ax` object becomes an array, instead of a single `axis`. So, to select the specific axis, array indexing is required. By default, when `nrows==ncols==1`, the `plt.subplots()` function collapses the array to a scalar value so that indexing is not required. This is why we have not needed to use array indexing previously. In contrast if both `nrows` *and* `ncols` are greater than 1, then the return `ax` array will be 2-dimensional. When this is true, then the axis will be selected in a $row \\times column$ form, just like other 2-dimensional matrices. For example, the `axis` in the first row and first column would be selected with `ax[0, 0]`. Try changing this plot to display the two signals side-by-side, instead of top and bottom."
   ]
  },
  {
   "cell_type": "code",
   "execution_count": null,
   "metadata": {},
   "outputs": [],
   "source": [
    "import pandas as pd\n",
    "import matplotlib.pyplot as plt\n",
    "\n",
    "plt.style.use('ggplot')\n",
    "\n",
    "# read a .csv file into a DataFrame variable named df\n",
    "fid_df = pd.read_csv('../../data/pcr-polyethylene_gc-fid.csv')\n",
    "fid_df['seconds'] = fid_df['minutes'] * 60\n",
    "\n",
    "# calculate the first derivative (change in FID signal) / (change in time)\n",
    "fid_df['1st_derivative'] = fid_df['fid'].diff() / fid_df['seconds'].diff()\n",
    "\n",
    "# plot the FID signal and its 1st derivative\n",
    "# the \\n in the label is the new-line character to split the label into 2 lines\n",
    "fig, ax = plt.subplots(nrows=2, sharex=True)\n",
    "\n",
    "ax[0].plot(fid_df['seconds'], fid_df['fid'])\n",
    "ax[0].set_ylabel('Original\\nFID Signal')\n",
    "\n",
    "ax[1].plot(fid_df['seconds'], fid_df['1st_derivative'])\n",
    "ax[1].set_xlabel('Seconds')\n",
    "ax[1].set_ylabel('1st Derivative\\nof FID Signal')"
   ]
  },
  {
   "cell_type": "markdown",
   "metadata": {},
   "source": [
    "Creating faceted plots can be especially useful when we have data that has multiple scales, or if we need to separate data. Separating the plots can be easier for a reader to interpret, versus plotting using multiple y-scales on the same plot."
   ]
  },
  {
   "cell_type": "code",
   "execution_count": null,
   "metadata": {},
   "outputs": [],
   "source": []
  },
  {
   "cell_type": "markdown",
   "metadata": {},
   "source": [
    "## 7.2. Advanced plotting using the `seaborn` package\n",
    "\n",
    "The [`seaborn`](https://seaborn.pydata.org/) package was developed on top of `matplotlib` to provide easy-to-use functions to produce more complicated plots, especially when you there are multiple categories to display on the same plot.\n",
    "\n",
    "### 7.2.1. Faceted histogram\n",
    "\n",
    "In Unit 5, we explored the `axis.hist()` function for the creation of histograms. In that unit, we plotted histograms on a single axis. When there are many categories to be explored, a single axis can get crowded. Using what we learned in section 7.1, we could create faceted plots by from scratch. The `seaborn.displot()` function will automatically create the facets on our behalf, speeding up the creation of new plots."
   ]
  },
  {
   "cell_type": "code",
   "execution_count": null,
   "metadata": {},
   "outputs": [],
   "source": [
    "import seaborn as sns\n",
    "\n",
    "df = sns.load_dataset(\"penguins\")\n",
    "\n",
    "sns.displot(\n",
    "    df, x=\"flipper_length_mm\", col=\"species\", row=\"sex\",\n",
    "    binwidth=3, height=3, facet_kws=dict(margin_titles=True)\n",
    ")\n",
    "\n",
    "df.head()"
   ]
  },
  {
   "cell_type": "markdown",
   "metadata": {},
   "source": [
    "### 7.2.2. Grouped bar plot\n",
    "\n"
   ]
  },
  {
   "cell_type": "code",
   "execution_count": null,
   "metadata": {},
   "outputs": [],
   "source": [
    "penguins = sns.load_dataset(\"penguins\")\n",
    "\n",
    "# Draw a nested barplot by species and sex\n",
    "g = sns.catplot(\n",
    "    data=penguins, kind=\"bar\",\n",
    "    x=\"species\", y=\"body_mass_g\", hue=\"sex\",\n",
    "    ci=\"sd\", palette=\"dark\", alpha=.6, height=6\n",
    ")\n",
    "g.despine(left=True)\n",
    "g.set_axis_labels(\"\", \"Body mass (g)\")\n",
    "g.legend.set_title(\"\")"
   ]
  },
  {
   "cell_type": "markdown",
   "metadata": {},
   "source": [
    "### 7.2.3. Scatter plot with categorical value\n",
    "\n"
   ]
  },
  {
   "cell_type": "code",
   "execution_count": null,
   "metadata": {},
   "outputs": [],
   "source": [
    "# Load the example diamonds dataset\n",
    "diamonds = sns.load_dataset(\"diamonds\")\n",
    "\n",
    "# Draw a scatter plot while assigning point colors and sizes to different\n",
    "# variables in the dataset\n",
    "f, ax = plt.subplots(figsize=(6.5, 6.5))\n",
    "sns.despine(f, left=True, bottom=True)\n",
    "clarity_ranking = [\"I1\", \"SI2\", \"SI1\", \"VS2\", \"VS1\", \"VVS2\", \"VVS1\", \"IF\"]\n",
    "sns.scatterplot(x=\"carat\", y=\"price\",\n",
    "                hue=\"clarity\", size=\"depth\",\n",
    "                palette=\"ch:r=-.2,d=.3_r\",\n",
    "                hue_order=clarity_ranking,\n",
    "                sizes=(1, 8), linewidth=0,\n",
    "                data=diamonds, ax=ax)"
   ]
  },
  {
   "cell_type": "markdown",
   "metadata": {},
   "source": [
    "### 7.2.4. Time series with a confidence interval"
   ]
  },
  {
   "cell_type": "code",
   "execution_count": null,
   "metadata": {},
   "outputs": [],
   "source": [
    "import seaborn as sns\n",
    "sns.set_theme(style=\"darkgrid\")\n",
    "\n",
    "# Load an example dataset with long-form data\n",
    "fmri = sns.load_dataset(\"fmri\")\n",
    "\n",
    "# Plot the responses for different events and regions\n",
    "sns.lineplot(x=\"timepoint\", y=\"signal\",\n",
    "             hue=\"region\", style=\"event\",\n",
    "             data=fmri)"
   ]
  },
  {
   "cell_type": "markdown",
   "metadata": {},
   "source": [
    "### 7.2.5. Linear regression plot\n",
    "\n"
   ]
  },
  {
   "cell_type": "code",
   "execution_count": null,
   "metadata": {},
   "outputs": [],
   "source": [
    "# Load the penguins dataset\n",
    "penguins = sns.load_dataset(\"penguins\")\n",
    "\n",
    "# Plot sepal width as a function of sepal_length across days\n",
    "g = sns.lmplot(\n",
    "    data=penguins,\n",
    "    x=\"bill_length_mm\", y=\"bill_depth_mm\", hue=\"species\",\n",
    "    height=5\n",
    ")\n",
    "\n",
    "# Use more informative axis labels than are provided by default\n",
    "g.set_axis_labels(\"Snoot length (mm)\", \"Snoot depth (mm)\")"
   ]
  },
  {
   "cell_type": "markdown",
   "metadata": {},
   "source": [
    "### 7.2.6. Box plot with observations\n",
    "\n"
   ]
  },
  {
   "cell_type": "code",
   "execution_count": null,
   "metadata": {},
   "outputs": [],
   "source": [
    "# Initialize the figure with a logarithmic x axis\n",
    "f, ax = plt.subplots(figsize=(7, 6))\n",
    "ax.set_xscale(\"log\")\n",
    "\n",
    "# Load the example planets dataset\n",
    "planets = sns.load_dataset(\"planets\")\n",
    "\n",
    "# Plot the orbital period with horizontal boxes\n",
    "sns.boxplot(x=\"distance\", y=\"method\", data=planets,\n",
    "            whis=[0, 100], width=.6, palette=\"vlag\")\n",
    "\n",
    "# Add in points to show each observation\n",
    "sns.stripplot(x=\"distance\", y=\"method\", data=planets,\n",
    "              size=4, color=\".3\", linewidth=0)\n",
    "\n",
    "# Tweak the visual presentation\n",
    "ax.xaxis.grid(True)\n",
    "ax.set(ylabel=\"\")\n",
    "sns.despine(trim=True, left=True)"
   ]
  },
  {
   "cell_type": "markdown",
   "metadata": {},
   "source": [
    "### 7.2.7. Joint plot\n",
    "\n"
   ]
  },
  {
   "cell_type": "code",
   "execution_count": null,
   "metadata": {},
   "outputs": [],
   "source": [
    "import seaborn as sns\n",
    "\n",
    "tips = sns.load_dataset(\"tips\")\n",
    "g = sns.jointplot(x=\"total_bill\", y=\"tip\", data=tips,\n",
    "                  kind=\"reg\", truncate=False,\n",
    "                  xlim=(0, 60), ylim=(0, 12),\n",
    "                  color=\"m\", height=7)"
   ]
  },
  {
   "cell_type": "code",
   "execution_count": null,
   "metadata": {},
   "outputs": [],
   "source": []
  },
  {
   "cell_type": "code",
   "execution_count": null,
   "metadata": {},
   "outputs": [],
   "source": []
  },
  {
   "cell_type": "markdown",
   "metadata": {},
   "source": [
    "--------------\n",
    "## Next Steps:\n",
    "\n",
    "1. Complete the [Unit 7 Problems](./unit07-solutions.ipynb) to test your understanding\n",
    "2. Advance to [Unit 8](../08-image-analysis/unit08-lesson.ipynb) when you're ready for the next step"
   ]
  }
 ],
 "metadata": {
  "kernelspec": {
   "display_name": "Python 3.8.13 ('base')",
   "language": "python",
   "name": "python3"
  },
  "language_info": {
   "codemirror_mode": {
    "name": "ipython",
    "version": 3
   },
   "file_extension": ".py",
   "mimetype": "text/x-python",
   "name": "python",
   "nbconvert_exporter": "python",
   "pygments_lexer": "ipython3",
   "version": "3.8.13"
  },
  "vscode": {
   "interpreter": {
    "hash": "2af3520cf2d099315c509e23b0f679c1508a4671732b5e09eee0e9586de4a344"
   }
  }
 },
 "nbformat": 4,
 "nbformat_minor": 2
}
