{
 "cells": [
  {
   "cell_type": "markdown",
   "metadata": {},
   "source": [
    "# Assessment: Unit 7\n",
    "--------------------\n",
    "\n",
    "Complete the problems below in your copy of the Jupyter Notebook."
   ]
  },
  {
   "cell_type": "markdown",
   "metadata": {},
   "source": [
    "## Problem 7.1.\n",
    "\n",
    "The `seaborn` library offers some conveniences, but you can also acheive these results using other methods. Recreate the plot from section 7.2.1. using just the `matplotlib` and `pandas` packages. You may need to consult the [`matplotlib` documentation](https://matplotlib.org/stable/api/axes_api.html) to add some of the features to this plot. Compare this to the `seaborn` solution. "
   ]
  },
  {
   "cell_type": "code",
   "execution_count": 5,
   "metadata": {},
   "outputs": [],
   "source": [
    "# problem 7.1. solution\n"
   ]
  },
  {
   "cell_type": "markdown",
   "metadata": {},
   "source": [
    "## Problem 7.2.\n",
    "\n",
    "The `seaborn` libraries are most useful with long-form datasets, but this isn't always what you have to work with. Research the [`pandas.DataFrame.melt()`](https://pandas.pydata.org/pandas-docs/stable/reference/api/pandas.DataFrame.melt.html) function to convert the file `film_classification_extended.csv` from wide-form to long-form, retaining the film type as an identifier variable.\n",
    "\n",
    "Then, create a faceted plot showing the distributions of the tensile strength measurements (`strength-MD`, `strength-TD`). Display film types by row and the two measured properties by column."
   ]
  },
  {
   "cell_type": "code",
   "execution_count": 4,
   "metadata": {},
   "outputs": [],
   "source": [
    "# problem 7.2. solution\n"
   ]
  },
  {
   "cell_type": "markdown",
   "metadata": {},
   "source": [
    "## Problem 7.3.\n",
    "\n",
    "To visualize the relationship between variables in a dataset, it is a common practice to create a faceted grid, with each variable represented as both a row and a column. Where the variable the row matches the variand column, the histogram for that variable is plotted. Where one variable in a row is paired with a different variable in the column, a scatterplot of this pair-wise relationship is plotted.\n",
    "\n",
    "$$\\begin{array}{|r|ccc|}\n",
    "\\hline\n",
    "var1 & hist & scatter & scatter \\\\\n",
    "var2 & scatter & hist & scatter \\\\\n",
    "var3 & scatter & scatter & hist \\\\\n",
    "\\hline\n",
    " &  var1 & var2 & var3 \\\\\n",
    " \\hline\n",
    "\\end{array}$$\n",
    "\n",
    "Use the `dart`, `strength-MD` and `strength-TD` variables from the `film_classification_extended.csv` dataset. You can leave the data in wide-form for this exercise. \n",
    "\n",
    "1. Create this faceted plot using the `plt.subplots()` function and the basic `matplotlib` functionality\n",
    "2. Review the documentation for the [`seaborn.pairplot()`](https://seaborn.pydata.org/generated/seaborn.pairplot.html) function and create a second version of the plot using `seaborn`. Also use the `filmtype` attribute to set the color of the points."
   ]
  },
  {
   "cell_type": "code",
   "execution_count": 3,
   "metadata": {},
   "outputs": [],
   "source": [
    "# problem 7.3. solution\n"
   ]
  },
  {
   "cell_type": "markdown",
   "metadata": {},
   "source": [
    "--------------\n",
    "## Next Steps:\n",
    "\n",
    "1. Check your work with the [Unit 7 Solutions](./unit07-solutions.ipynb)\n",
    "2. Advance to [Unit 8](../08-image-analysis/unit08-lesson.ipynb) when you're ready for the next step"
   ]
  }
 ],
 "metadata": {
  "kernelspec": {
   "display_name": "Python 3.9.12 ('base')",
   "language": "python",
   "name": "python3"
  },
  "language_info": {
   "codemirror_mode": {
    "name": "ipython",
    "version": 3
   },
   "file_extension": ".py",
   "mimetype": "text/x-python",
   "name": "python",
   "nbconvert_exporter": "python",
   "pygments_lexer": "ipython3",
   "version": "3.9.12"
  },
  "orig_nbformat": 4,
  "vscode": {
   "interpreter": {
    "hash": "2857618fbf4d4bb3d9a88a0331cc9f5539aea2b45b45163c4b048952b7884495"
   }
  }
 },
 "nbformat": 4,
 "nbformat_minor": 2
}
