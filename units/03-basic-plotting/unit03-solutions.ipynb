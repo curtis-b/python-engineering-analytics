{
 "cells": [
  {
   "cell_type": "markdown",
   "metadata": {},
   "source": [
    "# Assessment: Unit 3\n",
    "--------------------\n",
    "\n",
    "Complete the problems below in your copy of the Jupyter Notebook."
   ]
  },
  {
   "cell_type": "markdown",
   "metadata": {},
   "source": [
    "## Problem 3.1.\n",
    "\n",
    "1. Load the file <> and create a horizontal bar chart for the values of <>, with axis labels and title.\n",
    "   - Plot the bars at 50% transparency\n",
    "   - Plot the top 3 values in another color to highlight these values\n",
    "2. Save the plot to the output directory as `problem3-1a.png` at 60 dpi\n",
    "3. Save the plot to the output directory as `problem3-1b.png` at 600 dpi\n",
    "4. Write down the differences between these files in terms of file size and quality"
   ]
  },
  {
   "cell_type": "code",
   "execution_count": null,
   "metadata": {},
   "outputs": [],
   "source": []
  },
  {
   "cell_type": "markdown",
   "metadata": {},
   "source": [
    "## Problem 3.2.\n",
    "\n",
    "Modify the function that you created for Unit 1 to represent the Gaussian (normal) probability distribution to use the `numpy` math functions.\n",
    "\n",
    "1. Create a figure, axis using `plt.subplots()` and set the y-axis limits to $\\left[0,0.5\\right]$\n",
    "2. Plot this function, with $\\mu_1=2$ and $\\sigma_1=1.5$, as a line on the interval [-5, 10], using 100 points in the range\n",
    "   - Add dashed vertical lines at $\\mu_1 \\pm 3\\sigma_1$\n",
    "   - Add text centered on the mean in the $x$ direction and 10% above the maximum value of $y$ to provide the value of the mean\n",
    "   - Plot the function and lines in red\n",
    "3. On the same plot add this function, with $\\mu_2=10$ and $\\sigma_2=1$, as a line on the interval [5, 15], using 10 points in the range\n",
    "   - Add dashed vertical lines at $\\mu_2 \\pm 3\\sigma_2$\n",
    "   - Add text centered on the mean in the $x$ direction and 10% above the maximum value of $y$ to provide the value of the mean\n",
    "   - Plot the function and lines in blue\n",
    "4. Save the plot to the output directory as `problem3-2.pdf`\n",
    "5. Open the file and zoom in to 600%\n",
    "   - What happens to the image quality?\n",
    "   - What are the differences between the curves for parts 2 and 3?"
   ]
  },
  {
   "cell_type": "code",
   "execution_count": null,
   "metadata": {},
   "outputs": [],
   "source": [
    "# modified gaussian function\n",
    "import numpy as np\n",
    "import matplotlib.pyplot as plt\n",
    "\n",
    "def gaussian(x, mu, sigma):\n",
    "\n",
    "    # parts of equation broken out for improved readability (not required)\n",
    "    scale_factor = 1 / (sigma * np.sqrt(2 * np.pi))\n",
    "    exponent = -0.5 * (x - mu)**2 / sigma**2\n",
    "\n",
    "    # complete the equation, using the pieces defined above, and return result\n",
    "    return scale_factor * np.exp(exponent)\n",
    "\n",
    "\n",
    "# part 1\n",
    "fig, ax = plt.subplots()\n",
    "ax.set_ylim((0, 0.5))\n",
    "\n",
    "\n",
    "# part 2\n",
    "x1 = np.linspace(-5, 15, 100)\n",
    "mu1 = 2\n",
    "sigma1 = 1.5\n",
    "\n",
    "# calculate the resulting function, given the values that we've defined\n",
    "y1 = gaussian(x1, mu1, sigma1)\n",
    "ax.plot(x1, y1, c='red')\n",
    "\n",
    "# add the vertical lines and text\n",
    "ax.axvline(mu1-3*sigma1, ls='--', c='red')\n",
    "ax.axvline(mu1+3*sigma1, ls='--', c='red')\n",
    "\n",
    "ax.text(mu1, y1.max()*1.1, f'$\\mu=${mu1}', ha='center')\n",
    "\n",
    "\n",
    "# part 3\n",
    "x2 = np.linspace(5, 15, 10)\n",
    "mu2 = 10\n",
    "sigma2 = 1\n",
    "\n",
    "# calculate the resulting function, given the values that we've defined\n",
    "y2 = gaussian(x2, mu2, sigma2)\n",
    "ax.plot(x2, y2, c='blue')\n",
    "\n",
    "# add the vertical lines and text\n",
    "ax.axvline(mu2-3*sigma2, ls='--', c='blue')\n",
    "ax.axvline(mu2+3*sigma2, ls='--', c='blue')\n",
    "\n",
    "ax.text(mu2, y2.max()*1.1, f'$\\mu=${mu2}', ha='center')\n",
    "\n",
    "\n",
    "# part 4\n",
    "plt.savefig('../../output/problem3-2.pdf')\n"
   ]
  },
  {
   "cell_type": "markdown",
   "metadata": {},
   "source": [
    "## Problem 3.3.\n",
    "\n",
    "Open file <>\n",
    "\n",
    "Repeat these steps to create a separate plot for each of the `default`, `ggplot` and `seaborn` plot styles:\n",
    "\n",
    "1. Plot the individual points as an 'x'\n",
    "2. Plot a dotted line connecting the points\n",
    "3. Add a dashed horizontal line at <>\n",
    "4. Plot any points > <> as circles\n",
    "5. Save the plot to the output directory as `problem3-3-<stylename>.png` at 300 dpi"
   ]
  },
  {
   "cell_type": "code",
   "execution_count": null,
   "metadata": {},
   "outputs": [],
   "source": [
    "x = np.arange(50)\n",
    "y = np.random.random(50)*10\n",
    "\n",
    "# create arrays with only the large values\n",
    "y_lim = 9\n",
    "\n",
    "large_x = x[y > y_lim]\n",
    "large_y = y[y > y_lim]\n",
    "\n",
    "\n",
    "# STYLE=default\n",
    "plt.style.use('default')\n",
    "\n",
    "fig, ax = plt.subplots()\n",
    "ax.scatter(x, y, marker='x')\n",
    "ax.plot(x, y, ls=':')\n",
    "ax.axhline(y_lim)\n",
    "ax.scatter(large_x, large_y, marker='o')\n",
    "\n",
    "\n",
    "plt.savefig('../../output/problem3-3-default.png', dpi=300)\n",
    "\n",
    "\n",
    "# STYLE=ggplot\n",
    "plt.style.use('ggplot')\n",
    "\n",
    "fig, ax = plt.subplots()\n",
    "ax.scatter(x, y, marker='x')\n",
    "ax.plot(x, y, ls=':')\n",
    "ax.axhline(y_lim)\n",
    "ax.scatter(large_x, large_y, marker='o')\n",
    "\n",
    "plt.savefig('../../output/problem3-3-ggplot.png', dpi=300)\n",
    "\n",
    "\n",
    "# STYLE=seaborn\n",
    "plt.style.use('seaborn')\n",
    "\n",
    "fig, ax = plt.subplots()\n",
    "ax.scatter(x, y, marker='x')\n",
    "ax.plot(x, y, ls=':')\n",
    "ax.axhline(y_lim)\n",
    "ax.scatter(large_x, large_y, marker='o')\n",
    "\n",
    "plt.savefig('../../output/problem3-3-seaborn.png', dpi=300)"
   ]
  },
  {
   "cell_type": "markdown",
   "metadata": {},
   "source": [
    "--------------\n",
    "## Next Steps:\n",
    "\n",
    "1. Advance to [Unit 4](../04-pandas-dataframe/unit04-lesson.ipynb) when you're ready for the next step"
   ]
  }
 ],
 "metadata": {
  "kernelspec": {
   "display_name": "Python 3.8.13 ('base')",
   "language": "python",
   "name": "python3"
  },
  "language_info": {
   "codemirror_mode": {
    "name": "ipython",
    "version": 3
   },
   "file_extension": ".py",
   "mimetype": "text/x-python",
   "name": "python",
   "nbconvert_exporter": "python",
   "pygments_lexer": "ipython3",
   "version": "3.8.13"
  },
  "orig_nbformat": 4,
  "vscode": {
   "interpreter": {
    "hash": "2af3520cf2d099315c509e23b0f679c1508a4671732b5e09eee0e9586de4a344"
   }
  }
 },
 "nbformat": 4,
 "nbformat_minor": 2
}
