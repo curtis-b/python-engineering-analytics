{
 "cells": [
  {
   "cell_type": "markdown",
   "metadata": {},
   "source": [
    "# Solutions: Unit 3\n",
    "-------------------\n",
    "\n",
    "Complete the problems below in your copy of the Jupyter Notebook."
   ]
  },
  {
   "cell_type": "markdown",
   "metadata": {},
   "source": [
    "## Problem 3.1.\n",
    "\n",
    "The [American Chemistry Council (ACC)](https://www.americanchemistry.com/chemistry-in-america/data-industry-statistics/statistics-on-the-plastic-resins-industry) tracks the annual production of polymers in the United States. Some of the basic industry statistics are made publicly available for download. The file `polymer_production.csv` contains information from the [PIPS Resin Sales and Production CY Figures, 2021 v 2020](https://www.americanchemistry.com/content/download/10906/file/ACC-PIPS-Resin-Sales-and-Production-CY-Figures-2021vs2020.pdf) report, giving 2021 production of thermoplastics in millions of pounds. Visualize this data, highlighting the top 3 polymers produced in 2021. To make the units more globally-relevent, plot the data in metric kilotons (1 kt = 2.2 million pounds).\n",
    "\n",
    "1. Load the file `polymer_production.csv` and create a horizontal bar chart for the production volumes, with axis labels and title.\n",
    "   - Plot the bars at 50% transparency\n",
    "   - Plot the top 3 values in another color to highlight these values\n",
    "2. Save the plot to the output directory as `problem3-1a.png` at 60 dpi\n",
    "3. Save the plot to the output directory as `problem3-1b.png` at 600 dpi\n",
    "4. Write down the differences between these files in terms of file size and quality\n",
    "\n",
    "BONUS: determine a method to sort the data frame with production volume in descending order *and* with the \"Other thermoplastics\" category remaining at the bottom of the list. Plot the data using this order, again highlighting the top 3 polymers. Save this to the output directory as `problem3-1c.png`."
   ]
  },
  {
   "cell_type": "code",
   "execution_count": null,
   "metadata": {},
   "outputs": [],
   "source": [
    "# problem 3.1. solution\n",
    "\n",
    "import pandas as pd\n",
    "import matplotlib.pyplot as plt\n",
    "\n",
    "# optional, but I prefer the ggplot style\n",
    "plt.style.use('ggplot')\n",
    "\n",
    "# read the raw data, print out the head of the DataFrame to get the column names\n",
    "polymer_df = pd.read_csv('../../data/polymer_production.csv')\n",
    "polymer_df.head()"
   ]
  },
  {
   "cell_type": "code",
   "execution_count": null,
   "metadata": {},
   "outputs": [],
   "source": [
    "# create a new column for the converted units\n",
    "polymer_df['Production-kt'] = polymer_df['Production-MillionLbs'] / 2.2\n",
    "\n",
    "# sort by volume\n",
    "polymer_df = polymer_df.sort_values('Production-kt', ascending=False)\n",
    "\n",
    "# select top 3\n",
    "polymer_df_top3 = polymer_df.head(3)\n",
    "\n",
    "# plot the initial values\n",
    "fig, ax = plt.subplots()\n",
    "ax.barh(polymer_df.index, polymer_df['Production-kt'], tick_label=polymer_df['Polymer'], alpha=0.5, color='gray')\n",
    "ax.barh(polymer_df_top3.index, polymer_df_top3['Production-kt'])\n",
    "\n",
    "# flip the axis to match the order in the DataFrame top-to-bottom\n",
    "ax.invert_yaxis()\n",
    "\n",
    "# always label your numerical axes\n",
    "ax.set_xlabel('2021 U.S. Polymer Production (kt)')\n",
    "\n",
    "# save files, use plt.tight_layout() force matplotlib to render the plot before saving\n",
    "plt.tight_layout()\n",
    "plt.savefig('../../output/problem3-1a-solution.png', dpi=60)\n",
    "plt.savefig('../../output/problem3-1b-solution.png', dpi=600)"
   ]
  },
  {
   "cell_type": "markdown",
   "metadata": {},
   "source": [
    "Looking at the file sizes, we observe that the 60 dpi file is only 15 KB whereas the 600 dpi file is 209 KB. There is a marked difference in image quality and the 60 dpi image probably isn't useful for anything. The 600 dpi could be printed at a high quality, but may be unnecessarily large for a presentation file."
   ]
  },
  {
   "cell_type": "code",
   "execution_count": null,
   "metadata": {},
   "outputs": [],
   "source": [
    "# BONUS: create a copy of the DataFrame, so that we don't modify the original\n",
    "bonus_df = polymer_df.copy()\n",
    "\n",
    "# create a new column with True/False values to indicate the \"Other\" \n",
    "bonus_df['IsOther'] = bonus_df['Polymer']=='Other thermoplastics'\n",
    "\n",
    "# sort the values first on the new column (to push \"Other\" to the bottom), then Production volume\n",
    "bonus_df = bonus_df.sort_values(['IsOther', 'Production-kt'], ascending=[True, False])\n",
    "\n",
    "# reset the index to renumber the rows in the sorted order\n",
    "# inplace=True means that the existing DataFrame will be modified\n",
    "bonus_df.reset_index(drop=True, inplace=True)\n",
    "\n",
    "# from here, it should be the same as before\n",
    "# select top 3\n",
    "bonus_df_top3 = bonus_df.head(3)\n",
    "\n",
    "# plot the initial values\n",
    "fig, ax = plt.subplots()\n",
    "ax.barh(bonus_df.index, bonus_df['Production-kt'], tick_label=bonus_df['Polymer'], alpha=0.5, color='gray')\n",
    "ax.barh(bonus_df_top3.index, bonus_df_top3['Production-kt'])\n",
    "\n",
    "# flip the axis to match the order in the DataFrame top-to-bottom\n",
    "ax.invert_yaxis()\n",
    "\n",
    "# always label your numerical axes\n",
    "ax.set_xlabel('2021 U.S. Polymer Production (kt)')\n",
    "\n",
    "# save file, use plt.tight_layout() force matplotlib to render the plot before saving\n",
    "plt.tight_layout()\n",
    "plt.savefig('../../output/problem3-1c-solution.png', dpi=300)"
   ]
  },
  {
   "cell_type": "markdown",
   "metadata": {},
   "source": [
    "## Problem 3.2.\n",
    "\n",
    "Modify the function that you created for Unit 1 to represent the Gaussian (normal) probability distribution to use the `numpy` math functions in place of `math`.\n",
    "\n",
    "1. Create a figure, axis and set the y-axis limits to $\\left[0,0.5\\right]$\n",
    "2. Plot this function, with $\\mu_1=2$ and $\\sigma_1=1.5$, as a line on the interval [-5, 10], using 100 points in the range\n",
    "   - Add dashed vertical lines at $\\mu_1 \\pm 3\\sigma_1$\n",
    "   - Add text centered on the mean in the $x$ direction and 10% above the maximum value of $y$ to provide the value of the mean\n",
    "   - Plot the function and lines in red\n",
    "3. On the same plot add this function, with $\\mu_2=10$ and $\\sigma_2=1$, as a line on the interval [5, 15], using 10 points in the range\n",
    "   - Add dashed vertical lines at $\\mu_2 \\pm 3\\sigma_2$\n",
    "   - Add text centered on the mean in the $x$ direction and 10% above the maximum value of $y$ to provide the value of the mean\n",
    "   - Plot the function and lines in blue\n",
    "4. Save the plot to the output directory as `problem3-2.pdf`\n",
    "5. Open the file and zoom in to 600%\n",
    "   - What happens to the image quality?\n",
    "   - What are the differences between the curves for parts 2 and 3?"
   ]
  },
  {
   "cell_type": "code",
   "execution_count": null,
   "metadata": {},
   "outputs": [],
   "source": [
    "# problem 3.2. solution\n",
    "\n",
    "# modified gaussian function\n",
    "import numpy as np\n",
    "import matplotlib.pyplot as plt\n",
    "\n",
    "def gaussian(x, mu, sigma):\n",
    "\n",
    "    # parts of equation broken out for improved readability (not required)\n",
    "    scale_factor = 1 / (sigma * np.sqrt(2 * np.pi))\n",
    "    exponent = -0.5 * (x - mu)**2 / sigma**2\n",
    "\n",
    "    # complete the equation, using the pieces defined above, and return result\n",
    "    return scale_factor * np.exp(exponent)\n",
    "\n",
    "\n",
    "# part 1\n",
    "fig, ax = plt.subplots()\n",
    "ax.set_ylim((0, 0.5))\n",
    "\n",
    "\n",
    "# part 2\n",
    "x1 = np.linspace(-5, 15, 100)\n",
    "mu1 = 2\n",
    "sigma1 = 1.5\n",
    "\n",
    "# calculate the resulting function, given the values that we've defined\n",
    "y1 = gaussian(x1, mu1, sigma1)\n",
    "ax.plot(x1, y1, c='red')\n",
    "\n",
    "# add the vertical lines and text\n",
    "ax.axvline(mu1-3*sigma1, ls='--', c='red')\n",
    "ax.axvline(mu1+3*sigma1, ls='--', c='red')\n",
    "\n",
    "ax.text(mu1, y1.max()*1.1, f'$\\mu=${mu1}', ha='center')\n",
    "\n",
    "\n",
    "# part 3\n",
    "x2 = np.linspace(5, 15, 10)\n",
    "mu2 = 10\n",
    "sigma2 = 1\n",
    "\n",
    "# calculate the resulting function, given the values that we've defined\n",
    "y2 = gaussian(x2, mu2, sigma2)\n",
    "ax.plot(x2, y2, c='blue')\n",
    "\n",
    "# add the vertical lines and text\n",
    "ax.axvline(mu2-3*sigma2, ls='--', c='blue')\n",
    "ax.axvline(mu2+3*sigma2, ls='--', c='blue')\n",
    "\n",
    "ax.text(mu2, y2.max()*1.1, f'$\\mu=${mu2}', ha='center')\n",
    "\n",
    "\n",
    "# part 4\n",
    "plt.savefig('../../output/problem3-2-solution.pdf')"
   ]
  },
  {
   "cell_type": "markdown",
   "metadata": {},
   "source": [
    "Because the plot is saved as a pdf, there is no loss in image quality when zooming in at 600%. Comparing the two examples, we notice the impact of the number of points in our x arrays. By only using 10 points to plot the second distribution, we do not see a smooth curve. This may be confusing to the reader if we are trying to explain the shape of the Gaussian distribution."
   ]
  },
  {
   "cell_type": "markdown",
   "metadata": {},
   "source": [
    "## Problem 3.3.\n",
    "\n",
    "Retail food packages are commonly made by welding plastic films under pressure, at temperatures above their melting point. To test the welding behavior of different polymers, *heat seal curve* is generated, which measures the force required to separate the weld as a function of increasing temperature. For many materials, there is some critical temperature where the failure mode shifts from a peelable seal to a *destruct* seal (where the film fails catastrophically). If you have struggled to open a package that was *supposed* to be peelable, you have experienced this phenomena first hand.\n",
    "\n",
    "The file `seal_curve.csv` contains such a seal curve, with columns for the temperature (°C), replicate, breaking force (N) and failure mode (0=peelable, 1=destruct). \n",
    "\n",
    "Repeat these steps to create a separate plot for each of the `default`, `ggplot` plot styles:\n",
    "\n",
    "1. Plot the peelable data points as an 'x'\n",
    "2. Plot points where the film broke as squares\n",
    "3. Add a dashed horizontal line to indicate the force where the failure mode changes from peelable to film destruct. Calculate this as the average between the strongest peelable strength value and weakest destruct strength value.\n",
    "4. Add text to the plot, indicating the temperature where the failure mode changes from peelable to film destruct. Calculate this as the average between the highest temperature where peelable seals are observed and the lowest temperature where destruct seals are observed.\n",
    "5. Save the plot to the output directory as `problem3-3-<stylename>.png` at 300 dpi"
   ]
  },
  {
   "cell_type": "code",
   "execution_count": null,
   "metadata": {},
   "outputs": [],
   "source": [
    "# problem 3.3. solution\n",
    " \n",
    "# load the dataset\n",
    "seal_df = pd.read_csv('../../data/seal_curve.csv')\n",
    "seal_df.head()"
   ]
  },
  {
   "cell_type": "code",
   "execution_count": null,
   "metadata": {},
   "outputs": [],
   "source": [
    "# create separate DataFrames, filtered on the failure mode\n",
    "peelable_df = seal_df[seal_df['failure_mode']==0]\n",
    "destruct_df = seal_df[seal_df['failure_mode']==1]\n",
    "\n",
    "# calculate the force of the film as described in the problem statement\n",
    "destruct_force = (peelable_df['peak_strength'].max() + destruct_df['peak_strength'].min())/2\n",
    "\n",
    "# calculate the temperature where the failure mode changes\n",
    "initiation_temp = (peelable_df['temperature'].max() + destruct_df['temperature'].min())/2\n",
    "\n",
    "\n",
    "# STYLE=default\n",
    "plt.style.use('default')\n",
    "\n",
    "fig, ax = plt.subplots()\n",
    "\n",
    "# plot the peelable points as 'x'\n",
    "ax.scatter(peelable_df['temperature'], peelable_df['peak_strength'], marker='x')\n",
    "\n",
    "# plot the destruct points as 'x'\n",
    "ax.scatter(destruct_df['temperature'], destruct_df['peak_strength'], marker='s')\n",
    "\n",
    "ax.set_xlabel('Temperature (°C)')\n",
    "ax.set_ylabel('Force (N)')\n",
    "\n",
    "ax.axhline(destruct_force, ls='--', zorder=0, alpha=0.5)\n",
    "ax.text(80, 65, f'Initiation Temperature: {initiation_temp:0.0f}°C')\n",
    "\n",
    "plt.savefig('../../output/problem3-3-default-solution.png', dpi=300)\n",
    "\n",
    "\n",
    "# STYLE=ggplot\n",
    "plt.style.use('ggplot')\n",
    "\n",
    "fig, ax = plt.subplots()\n",
    "\n",
    "ax.scatter(peelable_df['temperature'], peelable_df['peak_strength'], marker='x')\n",
    "ax.scatter(destruct_df['temperature'], destruct_df['peak_strength'], marker='s')\n",
    "\n",
    "ax.set_xlabel('Temperature (°C)')\n",
    "ax.set_ylabel('Force (N)')\n",
    "\n",
    "ax.axhline(destruct_force, ls='--', zorder=0, alpha=0.5)\n",
    "ax.text(80, 65, f'Initiation Temperature: {initiation_temp:0.0f}°C')\n",
    "\n",
    "plt.savefig('../../output/problem3-3-ggplot-solution.png', dpi=300)\n"
   ]
  },
  {
   "cell_type": "markdown",
   "metadata": {},
   "source": [
    "--------------\n",
    "## Next Steps:\n",
    "\n",
    "1. Advance to [Unit 4](../04-pandas-dataframe/unit04-lesson.ipynb) when you're ready for the next step"
   ]
  }
 ],
 "metadata": {
  "kernelspec": {
   "display_name": "Python 3.8.13 ('base')",
   "language": "python",
   "name": "python3"
  },
  "language_info": {
   "codemirror_mode": {
    "name": "ipython",
    "version": 3
   },
   "file_extension": ".py",
   "mimetype": "text/x-python",
   "name": "python",
   "nbconvert_exporter": "python",
   "pygments_lexer": "ipython3",
   "version": "3.8.13"
  },
  "orig_nbformat": 4,
  "vscode": {
   "interpreter": {
    "hash": "2af3520cf2d099315c509e23b0f679c1508a4671732b5e09eee0e9586de4a344"
   }
  }
 },
 "nbformat": 4,
 "nbformat_minor": 2
}
