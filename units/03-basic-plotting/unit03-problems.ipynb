{
 "cells": [
  {
   "cell_type": "markdown",
   "metadata": {},
   "source": [
    "# Assessment: Unit 3\n",
    "--------------------\n",
    "\n",
    "Complete the problems below in your copy of the Jupyter Notebook."
   ]
  },
  {
   "cell_type": "markdown",
   "metadata": {},
   "source": [
    "## Problem 3.1.\n",
    "\n",
    "The [American Chemistry Council (ACC)](https://www.americanchemistry.com/chemistry-in-america/data-industry-statistics/statistics-on-the-plastic-resins-industry) tracks the annual production of polymers in the United States. Some of the basic industry statistics are made publicly available for download. The file `polymer_production.csv` contains information from the [PIPS Resin Sales and Production CY Figures, 2021 v 2020](https://www.americanchemistry.com/content/download/10906/file/ACC-PIPS-Resin-Sales-and-Production-CY-Figures-2021vs2020.pdf) report, giving 2021 production of thermoplastics in millions of pounds. Visualize this data, highlighting the top 3 polymers produced in 2021. To make the units more globally-relevent, plot the data in metric kilotons (1 kt = 2.2 million pounds).\n",
    "\n",
    "1. Load the file `polymer_production.csv` and create a horizontal bar chart for the production volumes, with axis labels and title.\n",
    "   - Plot the bars at 50% transparency\n",
    "   - Plot the top 3 values in another color to highlight these values\n",
    "2. Save the plot to the output directory as `problem3-1a.png` at 60 dpi\n",
    "3. Save the plot to the output directory as `problem3-1b.png` at 600 dpi\n",
    "4. Write down the differences between these files in terms of file size and quality\n",
    "\n",
    "BONUS: determine a method to sort the data frame with production volume in descending order *and* with the \"Other thermoplastics\" category remaining at the bottom of the list. Plot the data using this order, again highlighting the top 3 polymers. Save this to the output directory as `problem3-1c.png`."
   ]
  },
  {
   "cell_type": "code",
   "execution_count": 4,
   "metadata": {},
   "outputs": [],
   "source": [
    "# problem 3.1. solution\n"
   ]
  },
  {
   "cell_type": "markdown",
   "metadata": {},
   "source": [
    "## Problem 3.2.\n",
    "\n",
    "Modify the function that you created for Unit 1 to represent the Gaussian (normal) probability distribution to use the `numpy` math functions in place of `math`.\n",
    "\n",
    "1. Create a figure, axis and set the y-axis limits to $\\left[0,0.5\\right]$\n",
    "2. Plot this function, with $\\mu_1=2$ and $\\sigma_1=1.5$, as a line on the interval [-5, 10], using 100 points in the range\n",
    "   - Add dashed vertical lines at $\\mu_1 \\pm 3\\sigma_1$\n",
    "   - Add text centered on the mean in the $x$ direction and 10% above the maximum value of $y$ to provide the value of the mean\n",
    "   - Plot the function and lines in red\n",
    "3. On the same plot add this function, with $\\mu_2=10$ and $\\sigma_2=1$, as a line on the interval [5, 15], using 10 points in the range\n",
    "   - Add dashed vertical lines at $\\mu_2 \\pm 3\\sigma_2$\n",
    "   - Add text centered on the mean in the $x$ direction and 10% above the maximum value of $y$ to provide the value of the mean\n",
    "   - Plot the function and lines in blue\n",
    "4. Save the plot to the output directory as `problem3-2.pdf`\n",
    "5. Open the file and zoom in to 600%\n",
    "   - What happens to the image quality?\n",
    "   - What are the differences between the curves for parts 2 and 3?"
   ]
  },
  {
   "cell_type": "code",
   "execution_count": 5,
   "metadata": {},
   "outputs": [],
   "source": [
    "# problem 3.2. solution\n"
   ]
  },
  {
   "cell_type": "markdown",
   "metadata": {},
   "source": [
    "## Problem 3.3.\n",
    "\n",
    "Retail food packages are commonly made by welding plastic films under pressure, at temperatures above their melting point. To test the welding behavior of different polymers, *heat seal curve* is generated, which measures the force required to separate the weld as a function of increasing temperature. For many materials, there is some critical temperature where the failure mode shifts from a peelable seal to a *destruct* seal (where the film fails catastrophically). If you have struggled to open a package that was *supposed* to be peelable, you have experienced this phenomena first hand.\n",
    "\n",
    "The file `seal_curve.csv` contains such a seal curve, with columns for the temperature (°C), replicate, breaking force (N) and failure mode (0=peelable, 1=destruct). \n",
    "\n",
    "Repeat these steps to create a separate plot for each of the `default`, `ggplot` plot styles:\n",
    "\n",
    "1. Plot the peelable data points as an 'x'\n",
    "2. Plot points where the film broke as squares\n",
    "3. Add a dashed horizontal line to indicate the force where the failure mode changes from peelable to film destruct. Calculate this as the average between the strongest peelable strength value and weakest destruct strength value.\n",
    "4. Add text to the plot, indicating the temperature where the failure mode changes from peelable to film destruct. Calculate this as the average between the highest temperature where peelable seals are observed and the lowest temperature where destruct seals are observed.\n",
    "5. Save the plot to the output directory as `problem3-3-<stylename>.png` at 300 dpi"
   ]
  },
  {
   "cell_type": "code",
   "execution_count": 6,
   "metadata": {},
   "outputs": [],
   "source": [
    "# problem 3.3. solution\n"
   ]
  },
  {
   "cell_type": "markdown",
   "metadata": {},
   "source": [
    "--------------\n",
    "## Next Steps:\n",
    "\n",
    "1. Check your work with the [Unit 3 Solutions](./unit03-solutions.ipynb)\n",
    "2. Advance to [Unit 4](../04-pandas-dataframe/unit04-lesson.ipynb) when you're ready for the next step"
   ]
  }
 ],
 "metadata": {
  "kernelspec": {
   "display_name": "Python 3.8.13 ('base')",
   "language": "python",
   "name": "python3"
  },
  "language_info": {
   "codemirror_mode": {
    "name": "ipython",
    "version": 3
   },
   "file_extension": ".py",
   "mimetype": "text/x-python",
   "name": "python",
   "nbconvert_exporter": "python",
   "pygments_lexer": "ipython3",
   "version": "3.8.13"
  },
  "orig_nbformat": 4,
  "vscode": {
   "interpreter": {
    "hash": "2af3520cf2d099315c509e23b0f679c1508a4671732b5e09eee0e9586de4a344"
   }
  }
 },
 "nbformat": 4,
 "nbformat_minor": 2
}
