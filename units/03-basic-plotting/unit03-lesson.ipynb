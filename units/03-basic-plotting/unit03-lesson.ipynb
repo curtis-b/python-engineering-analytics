{
 "cells": [
  {
   "cell_type": "markdown",
   "metadata": {},
   "source": [
    "# Unit 3: Introduction to Data Visualization\n",
    "--------------------------------------------\n",
    "\n",
    "Observing data graphically can help you to quickly spot patterns that would be more difficult to discern from the numbers alone. When well executed, visualizations can also be a powerful aid in communicating results to others. \n",
    "\n",
    "To illustrate the importance of data visualization, take a look at the output of the example below (don't worry about the code for now). Is the pattern in the data more apparent in the numerical table, or in the scatter plot?"
   ]
  },
  {
   "cell_type": "code",
   "execution_count": null,
   "metadata": {},
   "outputs": [],
   "source": [
    "import numpy as np\n",
    "import matplotlib.pyplot as plt\n",
    "\n",
    "# create 10 (x, y) data points \n",
    "x = np.random.random(10)\n",
    "y = 2*x + 2\n",
    "\n",
    "# plot the points\n",
    "fig, ax = plt.subplots()\n",
    "ax.scatter(x, y)\n",
    "\n",
    "# print the (x, y) data\n",
    "# vstack combines (stacks) the x and y arrays into a 2d matrix\n",
    "# the .T is the matrix transpose, so that the x and y become columns\n",
    "np.vstack([x, y]).T"
   ]
  },
  {
   "cell_type": "markdown",
   "metadata": {},
   "source": [
    "Obviously, we can more easily see the linear trend (which we created with a random set of x values, and the function $f(x)=2x+2$) in the plot.\n",
    "\n",
    "Data visualization is an art and a science. Beyond what we might consider to be the aesthetic aspects of a graph, there are real ways in which humans interpret visuals that play a role in how the image is perceived. We are much better at comparing lengths of objects, for example, than we are at comparing angles or areas. This is one reason that a bar graph is typically a better choice than the much-maligned pie chart. We'll focus in this section on the mechanics of creating charts, but it is important to also think about the design aspects. I recommend picking up a copy of Cole Nussbaumer Knaflic's [Storytelling with Data](https://storytellingwithdata.com).\n",
    "\n",
    "A few tips that will improve your data visualization (regardless of the tool you use):\n",
    "\n",
    "1. Consider the message that you are trying to deliver, and the level of understanding in your audience. If your audience is highly technical, a high level of detail may be appropriate and technical jargon may be easily understood. When conveying information to a less technical audience, you may need to streamline the message to avoid confusion.\n",
    "2. Sketch out (prototype) your plot before starting to build the plot on the computer. Conceptualizing a design can sometimes be more challenging than writing the code.\n",
    "3. Try to remove or minimize any elements that distract from the data.\n",
    "3. Seek out candid and constructive feedback on your designs.\n",
    "4. Think critically about other data visualizations that you observe in literature or presentations. You don't need to share your unsolicited feedback, but mindfully observe what works and what doesn't. Use this to improve your visualizations. If you need some [sometimes amusing] examples of what not to do, check out [WTF Visualizations](https://vis.wtf).\n",
    "\n",
    "Why create a plot using Python code, when it's so easy to do in a spreadsheet? Customization and automation! By writing code that creates the plot, I find it easier to customize the look and match styles between graphics that I am using in a presentation or report. Additionally, you can use the `numpy` and `pandas` data structures that we've already introduced to populate the data in a plot. Then, if the data changes, or you need to duplicate the plot with a new dataset, you can just re-run the code and have a matching image.\n",
    "\n",
    "**After completing this unit, you should be able to:**\n",
    "\n",
    "- Understand basic design principles for data visualization, and where to learn more (because we cannot show every aspect of `matplotlib` here!)\n",
    "- Create basic plots using numerical data (line, scatter, bar) using a numpy or pandas dataset\n",
    "- Customize plot elements including axis labels, tick marks, legend, color scheme\n",
    "- Save the finished plot to a file"
   ]
  },
  {
   "cell_type": "markdown",
   "metadata": {},
   "source": [
    "## 3.1. Creating a line plot in `matplotlib`\n",
    "\n",
    "As in our previous section, we will be importing several Python packages for our plotting work. We can build on our knowledge of `numpy` and `pandas` to manage the data, and then add `matplotlib` for the plotting functionality. Specifically, we'll demonstrate the use of the `matplotlib.pyplot` sub-package, which is typically imported as:\n",
    "\n",
    "```\n",
    "import matplotlib.pyplot as plt\n",
    "```\n",
    "\n",
    "We'll begin with a line plot. This style is typically used to visualize series of connected points, such as a time series or the result of evaluating a function.\n",
    "\n",
    "### 3.1.1. The plotting the $sin(x)$ function\n",
    "\n",
    "Recall our use of the `numpy` functions to create 100 evenly-spaced values for the $x$ axis on the interval $[0,4\\pi]$ and then calculate and plot the `sin(x)` function. "
   ]
  },
  {
   "cell_type": "code",
   "execution_count": null,
   "metadata": {},
   "outputs": [],
   "source": [
    "import numpy as np\n",
    "import pandas as pd\n",
    "import matplotlib.pyplot as plt\n",
    "\n",
    "# create an array of 100 x values on the interval [0, 4pi]\n",
    "x_arr = np.linspace(0, 4*np.pi, 100)\n",
    "y_sin = np.sin(x_arr)\n",
    "\n",
    "# create the blank figure and axis for the plot \n",
    "fig, ax = plt.subplots()\n",
    "\n",
    "# plot the x, y values as a line plot on the blank axis\n",
    "ax.plot(x_arr, y_sin)"
   ]
  },
  {
   "cell_type": "markdown",
   "metadata": {},
   "source": [
    "We start the plot by calling the `plt.subplots` function from the `matplotlib.pyplot` package. If we do not pass any arguments to the functions, This creates a `figure`, which we have stored in a variable named `fig`, and a single `axis`, which we store in a variable named `ax`. You may find examples on the internet where this line is omitted, and the `matplotlib.pyplot` package creates the `figure` and `axis` automatically. However, I think it's a good habit to create this explicitly to generate references to the `figure` and `axis` objects. This is necessary when we make more complicated plots (such as multiple faceted plots) so, if we get in the habit now, we won't need to learn a new approach. \n",
    "\n",
    "The `axis.plot` function takes has 2 positional parameters for $x$ and $y$ arrays. There are several additional attributes that can be set within this function. To add additional parameters, enter `<parameter name>=<attribute value>` in the `plot` function. Each additional parameter will be separated with a comma.\n",
    "\n",
    "| Attribute | Description | Example Values |\n",
    "|-----------|-------------|----------------|\n",
    "| `ls` | line style | `':'`, `'--'`, `'-'` |\n",
    "| `lw` | line width | real number |\n",
    "| `c` | color | named color: `'red'`, `'blue'`, ... or RGB hex code |\n",
    "| `marker` | data point marker | `'o'`, `'.'`, `'d'`, `'^'`, ... |\n",
    "| `ms` | marker size | real number | \n",
    "\n",
    "Modify the `plot` function below to experiment with different parameters and adjust the format of the plot."
   ]
  },
  {
   "cell_type": "code",
   "execution_count": null,
   "metadata": {},
   "outputs": [],
   "source": [
    "# create the blank figure and axis for the plot \n",
    "fig, ax = plt.subplots()\n",
    "\n",
    "# use optional parameters of ls and c to modify the line properties\n",
    "ax.plot(x_arr, y_sin, ls=':', c='green')"
   ]
  },
  {
   "cell_type": "markdown",
   "metadata": {},
   "source": [
    "When plotting in a Jupyter Notebook, we start with an empty plot in each new cell. To plot multiple lines in the same plot, you will call the plot function multiple times within the cell."
   ]
  },
  {
   "cell_type": "code",
   "execution_count": null,
   "metadata": {},
   "outputs": [],
   "source": [
    "# calculate the cosine function for every x value in our array\n",
    "y_cos = np.cos(x_arr)\n",
    "\n",
    "# create the blank figure and axis for the plot \n",
    "fig, ax = plt.subplots()\n",
    "\n",
    "# plot the sine array on the axis\n",
    "ax.plot(x_arr, y_sin)\n",
    "\n",
    "# plot the cosine array on the axis\n",
    "ax.plot(x_arr, y_cos)"
   ]
  },
  {
   "cell_type": "markdown",
   "metadata": {},
   "source": [
    "### 3.1.2. Adding a legend and axis labels\n",
    "\n",
    "Notice two things in the plot above. First, `matplotlib` is automatically making these two lines different colors, through the use of a color `cycler`. Second, as we add additional data to the plot, it may be important for us to add a legend. \n",
    "\n",
    "Our Python code doesn't know what this data array represents, unless we tell it. To provide a description of the line, we add the `label` attribute to our plot command, and enter our chosen description in quotes. Then, we need to call the `plt.legend` function to instruct `matplotlib` to display the legend on this plot. If you remember back to our discussion of LaTeX formatting in Unit 1, we can format legend items in `matplotlib` as math equations by enclosing them in dollar signs (`$`)."
   ]
  },
  {
   "cell_type": "code",
   "execution_count": null,
   "metadata": {},
   "outputs": [],
   "source": [
    "# create the blank figure and axis for the plot \n",
    "fig, ax = plt.subplots()\n",
    "\n",
    "# plot the sine and cosine, adding text axis labels\n",
    "ax.plot(x_arr, y_sin, label='$\\sin (x)$')\n",
    "ax.plot(x_arr, y_cos, label='$\\cos (x)$')\n",
    "\n",
    "# call the legend() function to add the legend to the axis\n",
    "ax.legend()"
   ]
  },
  {
   "cell_type": "markdown",
   "metadata": {},
   "source": [
    "Now, we may want to add axis labels, and a title, to our plot. Similar to calling the `axis.legend()` function above, the `axis` object has functions available to add and modify these other plot elements. In general, these functions look like `axis.set_<element name>()`. In the example below, we set the labels for the $x$ and $y$ axes, along with the title for the axes."
   ]
  },
  {
   "cell_type": "code",
   "execution_count": null,
   "metadata": {},
   "outputs": [],
   "source": [
    "fig, ax = plt.subplots()\n",
    "ax.plot(x_arr, y_sin, label='$\\sin (x)$')\n",
    "ax.plot(x_arr, y_cos, label='$\\cos (x)$')\n",
    "\n",
    "ax.legend()\n",
    "\n",
    "# add axis labels by providing a text string as the first argument\n",
    "ax.set_xlabel('x')\n",
    "ax.set_ylabel('y')\n",
    "\n",
    "# add a title by providing a text string as the first argument\n",
    "ax.set_title('Introduction to plotting with matplotlib')"
   ]
  },
  {
   "cell_type": "markdown",
   "metadata": {},
   "source": [
    "When we called the `set_<element name>` functions in the example above, we used the default color (black) and sizing for the elements. The only argument provided to these functions was the text label. We may want to further customize these elements. This can be helpful if, for instance, you need to modify font sizes to make labels easier to read.\n",
    "\n",
    "In the example below, some different examples are provided using the optional `c` (color) and `fontsize` parameters.  Just remember, take care to not add distraction or clutter by making each plot element different. \n",
    "\n",
    "`fontsize` options: [`xx-small`, `x-small`, `small`, `medium`, `large`, `x-large`, `xx-large`]\n",
    "\n",
    "Feel free to modify and execute this cell to experiment with different selections."
   ]
  },
  {
   "cell_type": "code",
   "execution_count": null,
   "metadata": {},
   "outputs": [],
   "source": [
    "fig, ax = plt.subplots()\n",
    "ax.plot(x_arr, y_sin, label='$\\sin (x)$')\n",
    "ax.plot(x_arr, y_cos, label='$\\cos (x)$')\n",
    "\n",
    "ax.legend()\n",
    "\n",
    "# add axis labels by providing a text string as the first argument\n",
    "ax.set_xlabel('x', c='blue', fontsize='xx-large')\n",
    "ax.set_ylabel('y', c='gray', fontsize='medium')\n",
    "\n",
    "# add a title by providing a text string as the first argument\n",
    "ax.set_title('Introduction to plotting with matplotlib', c='red', fontsize='large')"
   ]
  },
  {
   "cell_type": "markdown",
   "metadata": {},
   "source": [
    "### 3.1.3. Modifying the axes ticks and limits\n",
    "\n",
    "Continuing on our mission to customize the plot design, we now turn to the axis ticks and tick labels which communicate the scale for the plot. When we use the `axis.set_xticks` or `axis.set_yticks` functions, we provide a `list` or `ndarray` of values which will be used in place of the default labels. \n",
    "\n",
    "For the $x$-axis for this trig function, we might choose to set the axis ticks in terms of multiples of $\\pi$. This can be done a few different ways using either `numpy` or a list comprehension. We'll demonstrate the use of the `np.linspace()` function.\n",
    "\n",
    "As another option, for the $y$-axis, we use a manually-generated list to provide the desired options. \n",
    "\n"
   ]
  },
  {
   "cell_type": "code",
   "execution_count": null,
   "metadata": {},
   "outputs": [],
   "source": [
    "fig, ax = plt.subplots()\n",
    "\n",
    "ax.plot(x_arr, y_sin, label='$\\sin (x)$')\n",
    "ax.plot(x_arr, y_cos, label='$\\cos (x)$')\n",
    "\n",
    "ax.legend()\n",
    "\n",
    "ax.set_xlabel('x')\n",
    "ax.set_ylabel('y')\n",
    "ax.set_title('Introduction to plotting with matplotlib')\n",
    "\n",
    "ax.set_xticks(np.linspace(0, 4*np.pi, 9))\n",
    "ax.set_yticks([-1, -0.5, 0, 0.5, 1])"
   ]
  },
  {
   "cell_type": "markdown",
   "metadata": {},
   "source": [
    "If you know that your data will *always* fall within a well-defined range, manually coding these lists can be ok. But, this can become difficult to manage. It can be preferable to write code to space out the labels. For instance, if you definitely want the spacing in between $y$ ticks to be 0.25, you can use the `min`/`max` functions, together with an `np.arange` to generate the appropriate labels.\n",
    "\n",
    "Here, I use all caps as a style to indicate that `YTICK_SPACING` is a constant that can be tweaked to modify how the code behaves. When we create the `np.arange`, recall that the stop value is not included in the resulting array so we need to add one extra `YTICK_SPACING` to the maximum value of the array."
   ]
  },
  {
   "cell_type": "code",
   "execution_count": null,
   "metadata": {},
   "outputs": [],
   "source": [
    "YTICK_SPACING = 0.25\n",
    "\n",
    "fig, ax = plt.subplots()\n",
    "\n",
    "ax.plot(x_arr, y_sin, label='$\\sin (x)$')\n",
    "ax.plot(x_arr, y_cos, label='$\\cos (x)$')\n",
    "\n",
    "ax.legend()\n",
    "\n",
    "ax.set_xlabel('x')\n",
    "ax.set_ylabel('y')\n",
    "ax.set_title('Introduction to plotting with matplotlib')\n",
    "\n",
    "yticks = np.arange(y_sin.min(), y_sin.max() + YTICK_SPACING, YTICK_SPACING)\n",
    "\n",
    "ax.set_xticks(np.linspace(0, 4*np.pi, 9))\n",
    "ax.set_yticks(yticks)"
   ]
  },
  {
   "cell_type": "markdown",
   "metadata": {},
   "source": [
    "Looking at the $x$ ticks in decimal form isn't the most attractive representation, and probably makes it less clear that we have set ticks as fractions of $\\pi$. We can further improve upon this by separately setting both the `xticks` (the position) and `xticklabels` (the text). The tick values are identical to the example above. But, here we use a list comprehension and an *f-string* to format the value as a multiple of $\\pi$. Inside of the *f-string*, you can see that we use `$\\pi$` to print the Greek letter *pi*. This is a LaTeX code for the Greek character. The other Greek characters are available in LaTeX by using their name after the backslash. Also, you can capitalize the first letter of the  character name to get an upper-case Greek letter. "
   ]
  },
  {
   "cell_type": "code",
   "execution_count": null,
   "metadata": {},
   "outputs": [],
   "source": [
    "fig, ax = plt.subplots()\n",
    "ax.plot(x_arr, y_sin, label='$\\sin (x)$')\n",
    "ax.plot(x_arr, y_cos, label='$\\cos (x)$')\n",
    "\n",
    "ax.legend()\n",
    "\n",
    "ax.set_xlabel('x')\n",
    "ax.set_ylabel('y')\n",
    "ax.set_title('Introduction to plotting with matplotlib')\n",
    "\n",
    "x_ticks = np.linspace(0, 4*np.pi, 9)\n",
    "x_ticklabels = [f'{x}$\\pi$' for x in x_ticks/np.pi]\n",
    "\n",
    "ax.set_xticks(x_ticks)\n",
    "ax.set_xticklabels(x_ticklabels)"
   ]
  },
  {
   "cell_type": "markdown",
   "metadata": {},
   "source": [
    "One additional feature that we'll introduce on this line plot is the straight horizontal or vertical line. This can be helpful for visualizing a threshold value that must be met. \n",
    "\n",
    "Below, we have added a horizontal line at $y=0$ using the `ax.axhline` function. For a horizontal line, the constant $y$ value is provided as the first argument. There is a companion function, `ax.axvline`, for vertical lines that you can experiment with in the code block below. The same optional parameters that we used for customizing our `ax.plot` will also apply to these constant lines. Here, we introduce a new parameter, `alpha`, that is used to set the percent opacity of the line from 0 (fully-transparent) to 1 (fully-opaque).   "
   ]
  },
  {
   "cell_type": "code",
   "execution_count": null,
   "metadata": {},
   "outputs": [],
   "source": [
    "fig, ax = plt.subplots()\n",
    "ax.plot(x_arr, y_sin, label='$\\sin (x)$')\n",
    "ax.plot(x_arr, y_cos, label='$\\cos (x)$')\n",
    "\n",
    "ax.legend()\n",
    "\n",
    "ax.set_xlabel('x')\n",
    "ax.set_ylabel('y')\n",
    "ax.set_title('Introduction to plotting with matplotlib')\n",
    "\n",
    "x_ticks = np.linspace(0, 4*np.pi, 9)\n",
    "x_ticklabels = [f'{x}$\\pi$' for x in x_ticks/np.pi]\n",
    "\n",
    "ax.set_xticks(x_ticks)\n",
    "ax.set_xticklabels(x_ticklabels)\n",
    "\n",
    "\n",
    "ax.axhline(0, c='gray', ls='--', alpha=0.5)"
   ]
  },
  {
   "cell_type": "markdown",
   "metadata": {},
   "source": [
    "## 3.2. Creating a scatter plot\n",
    "\n",
    "The scatter plot is very common in science and engineering to represent the relationship between two variables. \n",
    "\n",
    "### 3.2.1. The basic scatter plot\n",
    "\n",
    "Everything we learned in the section above is directly applicable to the scatter plot, the key difference is that we use the `ax.scatter` function in place of plot!"
   ]
  },
  {
   "cell_type": "code",
   "execution_count": null,
   "metadata": {},
   "outputs": [],
   "source": [
    "# create 10 (x, y) data points \n",
    "x = np.random.random(10)\n",
    "y = 2*x + (0.2 * np.random.random(10))\n",
    "\n",
    "# plot the points\n",
    "fig, ax = plt.subplots()\n",
    "ax.scatter(x, y)"
   ]
  },
  {
   "cell_type": "markdown",
   "metadata": {},
   "source": [
    "### 3.2.2. Modifying marker properties\n",
    "\n",
    "With the scatter plot we modify the properties of the marker, including its shape (`marker`), size (`s`) and color (`c`). "
   ]
  },
  {
   "cell_type": "code",
   "execution_count": null,
   "metadata": {},
   "outputs": [],
   "source": [
    "# create 10 (x, y) data points \n",
    "x = np.random.random(10)\n",
    "y = 2*x + (0.2 * np.random.random(10))\n",
    "\n",
    "# plot the points\n",
    "fig, ax = plt.subplots()\n",
    "ax.scatter(x, y, marker='^', s=30, c='blue')"
   ]
  },
  {
   "cell_type": "markdown",
   "metadata": {},
   "source": [
    "Interestingly, we can also set the size based on a array of values. Here, we create a new variable $z=20\\left( x^2 + y^2 \\right)$. This is used to set both the marker size."
   ]
  },
  {
   "cell_type": "code",
   "execution_count": null,
   "metadata": {},
   "outputs": [],
   "source": [
    "z = 20 * (x**2 + y**2)\n",
    "\n",
    "# plot the points\n",
    "fig, ax = plt.subplots()\n",
    "ax.scatter(x, y, marker='^', s=z)"
   ]
  },
  {
   "cell_type": "markdown",
   "metadata": {},
   "source": [
    "Sometimes, we'll use multiple calls to the `scatter` function to highlight certain points in the plot. Here, we use the `ndarray.argsort` function. This returns a new array of the *index* values of the `z` array that would put the `z` into sorted order."
   ]
  },
  {
   "cell_type": "code",
   "execution_count": null,
   "metadata": {},
   "outputs": [],
   "source": [
    "fig, ax = plt.subplots()\n",
    "\n",
    "# all points are plotted in gray, at 50% opacity\n",
    "ax.scatter(x, y, color='gray', alpha=0.5)\n",
    "\n",
    "# the argsort function returns an array of the index values, in sorted order\n",
    "# we use array slicing to select the last 3 indexes from the sorted array\n",
    "top3_indices = z.argsort()[-3:]\n",
    "\n",
    "# the selected top 3 points are plotted in red\n",
    "ax.scatter(x[top3_indices], y[top3_indices], color='red')"
   ]
  },
  {
   "cell_type": "markdown",
   "metadata": {},
   "source": [
    "If you want to dig further into how this works, take a look at the code below. This will print out the valus of the `z` array, along with the results of the `argsort` function, and the sorted `x`, `y` and `z` arrays."
   ]
  },
  {
   "cell_type": "code",
   "execution_count": null,
   "metadata": {},
   "outputs": [],
   "source": [
    "# display the z-values\n",
    "print(f'z values: {np.round(z, 2)}')\n",
    "\n",
    "# display the sort order - the first value is the index of the smallest value in z\n",
    "print(f'z indices in sorted order: {z.argsort()}')\n",
    "\n",
    "# display the x, y, z values in sorted order (by z)\n",
    "df = pd.DataFrame({'x': x[z.argsort()], 'y': y[z.argsort()], 'z': z[z.argsort()]})\n",
    "print(df)"
   ]
  },
  {
   "cell_type": "markdown",
   "metadata": {},
   "source": [
    "### 3.2.3 Modifying the style\n",
    "\n",
    "Many people choose to use an alternate to the default `matplotlib` color scheme. There are several options built-in to the package that you can easily select by name with the `plt.style.use` function. Two styles that I particularly like are the `ggplot` style which is patterned after the popular `ggplot` (grammar of graphics) plotting library in the R language, and the `seaborn` style with is patterned after the default style in the Python `seaborn` package that we will introduce in the next unit. Both of these styles have a light gray background, with white major gridlines that both provide a reference for the reader, while not competing for attention with the data that is being shown.\n",
    "\n",
    "To set the style, just place this line at the top of your code. All subsequent plots, including plots created in other cells, will use the selected style. "
   ]
  },
  {
   "cell_type": "code",
   "execution_count": null,
   "metadata": {},
   "outputs": [],
   "source": [
    "plt.style.use('ggplot')\n",
    "\n",
    "fig, ax = plt.subplots()\n",
    "\n",
    "# all points are plotted in gray, at 50% opacity\n",
    "ax.scatter(x, y, color='gray', alpha=0.5)\n",
    "\n",
    "# the argsort function returns an array of the index values, in sorted order\n",
    "# we use array slicing to select the last 3 indexes from the sorted array\n",
    "top3_indices = z.argsort()[-3:]\n",
    "\n",
    "# the selected top 3 points are plotted in red\n",
    "ax.scatter(x[top3_indices], y[top3_indices], color='red')"
   ]
  },
  {
   "cell_type": "markdown",
   "metadata": {},
   "source": [
    "## 3.3. Creating a bar chart\n",
    "\n",
    "Bar charts are often used for comparing categorical data. If you think you need a pie chart - try the bar chart instead! It is much easier to compare the lengths of bars than the area/angles of a pie chart.\n",
    "\n",
    "### 3.3.1. Vertical bar chart"
   ]
  },
  {
   "cell_type": "code",
   "execution_count": null,
   "metadata": {},
   "outputs": [],
   "source": [
    "fig, ax = plt.subplots()\n",
    "\n",
    "categories = ['a', 'b', 'c', 'd']\n",
    "category_index = np.arange(len(categories))\n",
    "values = np.random.random(4)*100\n",
    "\n",
    "ax.bar(category_index, values)\n",
    "ax.set_xticks(category_index)\n",
    "ax.set_xticklabels(categories)"
   ]
  },
  {
   "cell_type": "markdown",
   "metadata": {},
   "source": [
    "### 3.3.2. Horizontal bar chart\n",
    "\n",
    "If you have long category labels it can be easier to quickly read a horizontal bar chart, since the labels will be oriented for left-to-right reading. The main difference is that, instead of `ax.bar`, we add an \"h\" for horizontal and use the function `ax.barh`. Also, our category labels are now on the y-axis. "
   ]
  },
  {
   "cell_type": "code",
   "execution_count": null,
   "metadata": {},
   "outputs": [],
   "source": [
    "fig, ax = plt.subplots()\n",
    "\n",
    "categories = ['a', 'b', 'c', 'd']\n",
    "category_index = np.arange(len(categories))\n",
    "values = np.random.random(4)*100\n",
    "\n",
    "ax.barh(category_index, values)\n",
    "ax.set_yticks(category_index)\n",
    "ax.set_yticklabels(categories)"
   ]
  },
  {
   "cell_type": "markdown",
   "metadata": {},
   "source": [
    "## 3.4. Saving your plot\n",
    "\n",
    "Now that we have demonstrated the ability to create common plots in `matplotlib`, how do we save them for use in a presentation or report? We have the ability using the `savefig` functiotn to easily save these plots to a file using the png, pdf or svg file formats.\n",
    "\n",
    "- **png**: A *portable network graphics* (png) file is a bitmap image format that is easily imported into office documents, or used on the web. You will need to set the image size and resolution, in \"dots per inch\" (dpi), to scale the image to larger or smaller displays. The file size will increase as you increase either of these variables. \n",
    "- **pdf**: You are probably familiar with the common pdf format from documents, but this can be used for images as well. A pdf image is stored in a vector format. The technical details are not important, but with a vector format you don't need to worry about an image getting fuzzy as you increase the size. This can be a good choice for publication graphics, but also has compatibility issues with current versions of some office software.\n",
    "- **svg**: The *standardized vector graphics* (svg) file is an xml-based file format that can be used for web graphics. Image files are stored as plain text, and can be edited in a graphics editor like [Inkscape]().\n",
    "\n",
    "For most uses, I recommend using the *png* format. If you're going to make large (or high resolution) prints of a graph, choose *pdf*. \n",
    "\n",
    "In the example below, we'll save our plot in 3 formats:\n",
    "\n",
    "- **png**, at 30 dpi\n",
    "- **png**, at 300 dpi\n",
    "- **pdf**\n",
    "\n",
    "The file type is inferred from the filename that you provide as the first argument. The `dpi` parameter is optional. Take a look at (and, optionally, print) the image files and observe the differences between the formats.\n",
    "\n",
    "You'll notice that I have added another function before saving the files. The function `tight_layout` will render the plot to fit the plot axes to the file, to eliminate whitespace. Alternatively, you can set the layout to *tight* using the `bbox_inches` (bounding box inches) parameter in the `savefig` function."
   ]
  },
  {
   "cell_type": "code",
   "execution_count": null,
   "metadata": {},
   "outputs": [],
   "source": [
    "fig, ax = plt.subplots()\n",
    "\n",
    "ax.plot(x_arr, y_sin, label='$\\sin (x)$')\n",
    "ax.plot(x_arr, y_cos, label='$\\cos (x)$')\n",
    "\n",
    "ax.legend()\n",
    "\n",
    "plt.tight_layout()\n",
    "\n",
    "plt.savefig('../../output/unit3_plot_30dpi.png', dpi=30)\n",
    "plt.savefig('../../output/unit3_plot_300dpi.png', dpi=300)\n",
    "plt.savefig('../../output/unit3_plot.pdf')\n",
    "plt.savefig('../../output/unit3_plot_bboxinches.pdf', bbox_inches='tight')"
   ]
  },
  {
   "cell_type": "markdown",
   "metadata": {},
   "source": [
    "--------------\n",
    "## Next Steps:\n",
    "\n",
    "1. Complete the [Unit 3 Problems](./unit03-solutions.ipynb) to test your understanding\n",
    "2. Advance to [Unit 4](../04-pandas-dataframe/unit04-lesson.ipynb) when you're ready for the next step"
   ]
  }
 ],
 "metadata": {
  "kernelspec": {
   "display_name": "Python 3.8.5 ('base')",
   "language": "python",
   "name": "python3"
  },
  "language_info": {
   "codemirror_mode": {
    "name": "ipython",
    "version": 3
   },
   "file_extension": ".py",
   "mimetype": "text/x-python",
   "name": "python",
   "nbconvert_exporter": "python",
   "pygments_lexer": "ipython3",
   "version": "3.8.5"
  },
  "orig_nbformat": 4,
  "vscode": {
   "interpreter": {
    "hash": "2af3520cf2d099315c509e23b0f679c1508a4671732b5e09eee0e9586de4a344"
   }
  }
 },
 "nbformat": 4,
 "nbformat_minor": 2
}
