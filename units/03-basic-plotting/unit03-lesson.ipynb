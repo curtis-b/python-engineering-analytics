{
 "cells": [
  {
   "cell_type": "markdown",
   "metadata": {},
   "source": [
    "# Unit 3: Introduction to Data Visualization\n",
    "--------------------------------------------\n",
    "\n",
    "Observing data graphically can help you to quickly spot patterns that would be more difficult to discern from the numbers alone. When well executed, visualizations can also be a powerful aid in communicating results to others. To illustrate the importance of data visualization, take a look at the output of the example below (don't worry about the code for now). Is the pattern in the data more apparent in the numerical table, or in the scatter plot?"
   ]
  },
  {
   "cell_type": "code",
   "execution_count": null,
   "metadata": {},
   "outputs": [],
   "source": [
    "import numpy as np\n",
    "import matplotlib.pyplot as plt\n",
    "\n",
    "# create 10 (x, y) data points \n",
    "x = np.random.random(10)\n",
    "y = 2*x + 2\n",
    "\n",
    "# plot the points\n",
    "fig, ax = plt.subplots()\n",
    "ax.scatter(x, y)\n",
    "\n",
    "# print the (x, y) data\n",
    "# vstack combines (stacks) the x and y arrays into a 2d matrix\n",
    "# the .T is the matrix transpose, so that the x and y become columns\n",
    "np.vstack([x, y]).T"
   ]
  },
  {
   "cell_type": "markdown",
   "metadata": {},
   "source": [
    "Obviously, we can more easily see the linear trend (which we created with the function $f(x)=2x+2$) in the plot.\n",
    "\n",
    "Data visualization is an art and a science. Beyond what we might consider to be the aesthetic aspects of a graph, there are real ways in which humans interpret visuals that play a role in how the image is perceived. We are much better at comparing lengths of objects, for example, than we are at comparing angles or areas. This is one reason that a bar graph is typically a better choice than the much-maligned pie chart. We'll focus in this section on the mechanics of creating charts, but it is equally important to consider the design aspects. To help you learn to increase the impact of your visuals, I recommend picking up a copy of Cole Nussbaumer Knaflic's excellent [Storytelling with Data](https://storytellingwithdata.com).\n",
    "\n",
    "A few tips that will improve your data visualization:\n",
    "\n",
    "1. Consider the message that you are trying to deliver, and the level of understanding in your audience. If your audience is highly technical, a high level of detail may be appropriate and technical jargon may be easily understood. When conveying information to a less technical audience, you may need to streamline the message to avoid confusion.\n",
    "2. Sketch out (prototype) your plot on paper before starting to create the visual on the computer. Conceptualizing a design can sometimes be more challenging than writing the code.\n",
    "3. Try to remove or minimize any elements that distract from the data and the story you are trying to tell.\n",
    "3. Seek out candid and constructive feedback on your designs.\n",
    "4. Think critically about other data visualizations that you observe in literature or presentations. You don't need to share your unsolicited feedback, but mindfully observe what works and what doesn't. Use this to improve your visualizations. If you need some [sometimes amusing] examples of what not to do, do an internet search for \"WTF Visualizations\" and check out the image results.\n",
    "\n",
    "We can understand the importance of a good visual, but why create a plot using Python code when it's so easy to do in a spreadsheet? Customization and automation! By writing code to create a plot, I find it easier to customize the look and match styles between graphics that I am using in a presentation or report. Additionally, you can use the `numpy` and `pandas` data structures that we've already introduced to populate the data. Then, if the data changes, or you need to duplicate the plot with a new dataset, you can just re-run the code and have a matching image.\n",
    "\n",
    "**After completing this unit, you should be able to:**\n",
    "\n",
    "- Understand basic design principles for data visualization, and where to learn more\n",
    "- Create basic plots using numerical data (line, scatter, bar) using a `numpy` or `pandas` dataset\n",
    "- Customize plot elements including axis labels, tick marks, legend, color scheme\n",
    "- Save the finished plot to a file"
   ]
  },
  {
   "cell_type": "markdown",
   "metadata": {},
   "source": [
    "## 3.1. Creating a line plot in `matplotlib`\n",
    "\n",
    "As in our previous section, we will be importing several Python packages for our plotting work. We can build on our knowledge of `numpy` and `pandas` to manage the data, and then add `matplotlib` for the plotting functionality. Specifically, we'll demonstrate the use of the `matplotlib.pyplot` sub-package, which is typically imported as:\n",
    "\n",
    "```\n",
    "import matplotlib.pyplot as plt\n",
    "```\n",
    "\n",
    "We'll begin with a line plot. This style is typically used to visualize series of connected points, such as a time series or the result of evaluating a function.\n",
    "\n",
    "### 3.1.1. Plotting the $sin(x)$ function\n",
    "\n",
    "Recall the `numpy` functions from Unit 2. We'll use these to create 100 evenly-spaced values for the $x$ axis on the interval $[0,4\\pi]$ and then calculate and plot the $\\sin x$ function. "
   ]
  },
  {
   "cell_type": "code",
   "execution_count": null,
   "metadata": {},
   "outputs": [],
   "source": [
    "import numpy as np\n",
    "import pandas as pd\n",
    "import matplotlib.pyplot as plt\n",
    "\n",
    "# create an array of 100 x values on the interval [0, 4pi]\n",
    "x_arr = np.linspace(0, 4*np.pi, 100)\n",
    "y_sin = np.sin(x_arr)\n",
    "\n",
    "# create the blank figure and axis for the plot \n",
    "fig, ax = plt.subplots()\n",
    "\n",
    "# plot the x, y values as a line plot on the blank axis\n",
    "ax.plot(x_arr, y_sin)"
   ]
  },
  {
   "cell_type": "markdown",
   "metadata": {},
   "source": [
    "We start by calling the `plt.subplots()` function from the `matplotlib.pyplot` package to generate a blank plot. This function creates a `Figure`, which we have stored in a variable named `fig`, and a single `Axes` object, which we store in a variable named `ax`. You may find examples on the internet where this line is omitted, and the `matplotlib.pyplot` package creates the `Figure` and `Axes` automatically. It's a good habit to call this function explicitly to generate references to the `Figure` and `Axes` objects, and we will use this later on to create more complicated plots.\n",
    "\n",
    "The [`Axes.plot()`](https://matplotlib.org/stable/api/_as_gen/matplotlib.axes.Axes.plot.html) function takes parameters for $x$ and $y$ arrays. We have the option to put them in the correct order, or to reference them by name (`x=<x-array>`, `y=<y-array>`). There are several additional attributes that can be set within this function. To add additional parameters, enter `<parameter name>=<attribute value>` in the `plot()` function. Each additional parameter will be separated with a comma.\n",
    "\n",
    "| Attribute | Description | Example Values |\n",
    "|-----------|-------------|----------------|\n",
    "| `ls` | line style | `':'`, `'--'`, `'-'` |\n",
    "| `lw` | line width | real number |\n",
    "| `c` | color | named color: `'red'`, `'blue'`, ... or RGB hex code |\n",
    "| `marker` | data point marker | `'o'`, `'.'`, `'d'`, `'^'`, ... |\n",
    "| `ms` | marker size | real number | \n",
    "\n",
    "Modify the `Axes.plot()` function below to experiment with different parameters and adjust the format of the plot."
   ]
  },
  {
   "cell_type": "code",
   "execution_count": null,
   "metadata": {},
   "outputs": [],
   "source": [
    "# create the blank figure and axis for the plot \n",
    "fig, ax = plt.subplots()\n",
    "\n",
    "# use optional parameters of ls and c to modify the line properties\n",
    "ax.plot(x_arr, y_sin, ls=':', c='green')"
   ]
  },
  {
   "cell_type": "markdown",
   "metadata": {},
   "source": [
    "When plotting in a Jupyter Notebook, we start with an empty plot in each new cell. To plot multiple lines in the same plot, you will call the plot function multiple times within the cell."
   ]
  },
  {
   "cell_type": "code",
   "execution_count": null,
   "metadata": {},
   "outputs": [],
   "source": [
    "# calculate the cosine function for every x value in our array\n",
    "y_cos = np.cos(x_arr)\n",
    "\n",
    "# create the blank figure and axis for the plot \n",
    "fig, ax = plt.subplots()\n",
    "\n",
    "# plot the sine array on the axis\n",
    "ax.plot(x_arr, y_sin)\n",
    "\n",
    "# plot the cosine array on the axis\n",
    "ax.plot(x_arr, y_cos)"
   ]
  },
  {
   "cell_type": "markdown",
   "metadata": {},
   "source": [
    "### 3.1.2. Adding a legend and axis labels\n",
    "\n",
    "Notice two things in the plot above. First, `matplotlib` is automatically making these two lines different colors, through the use of a color `cycler`. Second, as we add additional data to the plot, it may be important for us to add a legend to label what the data represents. \n",
    "\n",
    "Our Python code doesn't know what this array represents unless we tell it. To provide a description of the line, we add the `label` attribute to our plot command, and enter our chosen description in quotes. Then, we need to call the [`Axes.legend()`](https://matplotlib.org/stable/api/_as_gen/matplotlib.axes.Axes.legend.html) function to instruct `matplotlib` to display the legend on this plot. If you remember back to our discussion of LaTeX formatting in Unit 1, we can format legend items in `matplotlib` as math equations by enclosing them in dollar signs (`$`)."
   ]
  },
  {
   "cell_type": "code",
   "execution_count": null,
   "metadata": {},
   "outputs": [],
   "source": [
    "# create the blank figure and axis for the plot \n",
    "fig, ax = plt.subplots()\n",
    "\n",
    "# plot the sine and cosine, adding text axis labels\n",
    "ax.plot(x_arr, y_sin, label='$\\sin (x)$')\n",
    "ax.plot(x_arr, y_cos, label='$\\cos (x)$')\n",
    "\n",
    "# create the legend, using the labels defined in the plot() function\n",
    "ax.legend()"
   ]
  },
  {
   "cell_type": "markdown",
   "metadata": {},
   "source": [
    "Now, we may want to add axis labels, and a title, to our plot. Similar to calling the `Axes.legend()` function above, the `Axes` object has functions available to add and modify these other plot elements. In general, these functions look like `Axes.set_<element name>()`. In the example below, we set the labels for the $x$ and $y$ axes, along with the title for the axes."
   ]
  },
  {
   "cell_type": "code",
   "execution_count": null,
   "metadata": {},
   "outputs": [],
   "source": [
    "fig, ax = plt.subplots()\n",
    "ax.plot(x_arr, y_sin, label='$\\sin (x)$')\n",
    "ax.plot(x_arr, y_cos, label='$\\cos (x)$')\n",
    "\n",
    "# create the legend, using the labels defined in the plot() function\n",
    "ax.legend()\n",
    "\n",
    "# add axis labels by providing a text string as the first argument\n",
    "ax.set_xlabel('x')\n",
    "ax.set_ylabel('y')\n",
    "\n",
    "# add a title by providing a text string as the first argument\n",
    "ax.set_title('Introduction to plotting with matplotlib')"
   ]
  },
  {
   "cell_type": "markdown",
   "metadata": {},
   "source": [
    "When we called the `Axes.set_<element name>()` functions in the example above, they are displayed using the default color (black) and sizing for the elements. The only argument provided to these functions was the text label. The text labels can be further customized to, for example, modify the font size and color. In the example below, some different examples are provided using the optional `c` (color) and `fontsize` parameters.  Just remember, take care to not add distraction or clutter by making each plot element different. \n",
    "\n",
    "`fontsize` options: [`xx-small`, `x-small`, `small`, `medium`, `large`, `x-large`, `xx-large`]\n",
    "\n",
    "Feel free to modify and execute this cell to experiment with different selections."
   ]
  },
  {
   "cell_type": "code",
   "execution_count": null,
   "metadata": {},
   "outputs": [],
   "source": [
    "fig, ax = plt.subplots()\n",
    "ax.plot(x_arr, y_sin, label='$\\sin (x)$')\n",
    "ax.plot(x_arr, y_cos, label='$\\cos (x)$')\n",
    "\n",
    "# create the legend, using the labels defined in the plot() function\n",
    "ax.legend()\n",
    "\n",
    "# add axis labels by providing a text string as the first argument\n",
    "ax.set_xlabel('x', c='blue', fontsize='xx-large')\n",
    "ax.set_ylabel('y', c='gray', fontsize='medium')\n",
    "\n",
    "# add a title by providing a text string as the first argument\n",
    "ax.set_title('Introduction to plotting with matplotlib', c='red', fontsize='large')"
   ]
  },
  {
   "cell_type": "markdown",
   "metadata": {},
   "source": [
    "### 3.1.3. Modifying the axes ticks and limits\n",
    "\n",
    "Continuing to customize the plot design, we now turn to the axis ticks and tick labels which communicate the scale for the plot. When we use the `Axes.set_xticks()` or `Axes.set_yticks()` functions, we provide a `list` or `ndarray` of values which will be used in place of the default labels. \n",
    "\n",
    "For the $x$-axis for this trig function, we might choose to set the axis ticks in terms of multiples of $\\pi$. This can be done a few different ways using either `numpy` or a list comprehension. We'll demonstrate the use of the `np.linspace()` function.\n",
    "\n",
    "As another option, for the $y$-axis, we use a manually-generated list to provide the desired options. "
   ]
  },
  {
   "cell_type": "code",
   "execution_count": null,
   "metadata": {},
   "outputs": [],
   "source": [
    "fig, ax = plt.subplots()\n",
    "\n",
    "ax.plot(x_arr, y_sin, label='$\\sin (x)$')\n",
    "ax.plot(x_arr, y_cos, label='$\\cos (x)$')\n",
    "\n",
    "# create the legend, using the labels defined in the plot() function\n",
    "ax.legend()\n",
    "\n",
    "# add axis labels by providing a text string as the first argument\n",
    "ax.set_xlabel('x')\n",
    "ax.set_ylabel('y')\n",
    "\n",
    "# add a title by providing a text string as the first argument\n",
    "ax.set_title('Introduction to plotting with matplotlib')\n",
    "\n",
    "# modify tick positions\n",
    "ax.set_xticks(np.linspace(0, 4*np.pi, 9))\n",
    "ax.set_yticks([-1, -0.5, 0, 0.5, 1])"
   ]
  },
  {
   "cell_type": "markdown",
   "metadata": {},
   "source": [
    "If you know that your data will *always* fall within a well-defined range, manually coding these lists can be ok. But, this can become difficult to manage. It can be preferable to write code to space out the labels. For instance, if you definitely want the spacing in between $y$ ticks to be 0.25, you can use the `ndarray.min()`/`ndarray.max()` functions, together with an `np.arange()` to generate the appropriate labels.\n",
    "\n",
    "Here, I use all caps as a style to indicate that `ytick_spacing` is a constant that can be tweaked to modify how the code behaves. When we create the `np.arange()`, recall that the stop value is not included in the resulting array so we need to add one extra `ytick_spacing` to the maximum value of the array."
   ]
  },
  {
   "cell_type": "code",
   "execution_count": null,
   "metadata": {},
   "outputs": [],
   "source": [
    "ytick_spacing = 0.25\n",
    "\n",
    "fig, ax = plt.subplots()\n",
    "\n",
    "ax.plot(x_arr, y_sin, label='$\\sin (x)$')\n",
    "ax.plot(x_arr, y_cos, label='$\\cos (x)$')\n",
    "\n",
    "# create the legend, using the labels defined in the plot() function\n",
    "ax.legend()\n",
    "\n",
    "# add axis labels by providing a text string as the first argument\n",
    "ax.set_xlabel('x')\n",
    "ax.set_ylabel('y')\n",
    "\n",
    "# add a title by providing a text string as the first argument\n",
    "ax.set_title('Introduction to plotting with matplotlib')\n",
    "\n",
    "# modify tick positions\n",
    "yticks = np.arange(y_sin.min(), y_sin.max() + ytick_spacing, ytick_spacing)\n",
    "\n",
    "ax.set_xticks(np.linspace(0, 4*np.pi, 9))\n",
    "ax.set_yticks(yticks)"
   ]
  },
  {
   "cell_type": "markdown",
   "metadata": {},
   "source": [
    "Looking at the $x$ ticks in decimal form isn't the most attractive representation, and probably makes it less clear that we have set ticks as fractions of $\\pi$. We can further improve upon this by separately setting both the *xticks* (the position) and *xticklabels* (the text). The tick values are identical to the example above. But, here we use a list comprehension and an *f-string* to format the value as a multiple of $\\pi$. Inside of the *f-string*, you can see that we use the LaTeX code `$\\pi$` to print the Greek letter *pi*. The other Greek characters are available in LaTeX by using their name after the backslash. Also, you can capitalize the first letter of the  character name to get an upper-case Greek letter. "
   ]
  },
  {
   "cell_type": "code",
   "execution_count": null,
   "metadata": {},
   "outputs": [],
   "source": [
    "fig, ax = plt.subplots()\n",
    "ax.plot(x_arr, y_sin, label='$\\sin (x)$')\n",
    "ax.plot(x_arr, y_cos, label='$\\cos (x)$')\n",
    "\n",
    "# create the legend, using the labels defined in the plot() function\n",
    "ax.legend()\n",
    "\n",
    "# add axis labels by providing a text string as the first argument\n",
    "ax.set_xlabel('x')\n",
    "ax.set_ylabel('y')\n",
    "\n",
    "# add a title by providing a text string as the first argument\n",
    "ax.set_title('Introduction to plotting with matplotlib')\n",
    "\n",
    "# modify tick positions\n",
    "x_ticks = np.linspace(0, 4*np.pi, 9)\n",
    "x_ticklabels = [f'{x}$\\pi$' for x in x_ticks/np.pi]\n",
    "\n",
    "ax.set_xticks(x_ticks)\n",
    "ax.set_xticklabels(x_ticklabels)"
   ]
  },
  {
   "cell_type": "markdown",
   "metadata": {},
   "source": [
    "One additional feature that we'll introduce on this line plot is the straight horizontal or vertical line. This can be helpful for visualizing a threshold value that must be met. \n",
    "\n",
    "Below, we have added a horizontal line at $y=0$ using the `Axes.axhline()` function. For a horizontal line, the constant $y$ value is provided as the first argument. There is a companion function, `Axes.axvline()`, for vertical lines that you can experiment with in the code block below. The same optional parameters that we used for customizing our `Axes.plot()` will also apply to these constant lines. Here, we introduce a new parameter, `alpha`, that is used to set the percent opacity of the line from 0 (fully-transparent) to 1 (fully-opaque). Making some design elements semi-transparent can help them blend into the background and be less distracting."
   ]
  },
  {
   "cell_type": "code",
   "execution_count": null,
   "metadata": {},
   "outputs": [],
   "source": [
    "fig, ax = plt.subplots()\n",
    "ax.plot(x_arr, y_sin, label='$\\sin (x)$')\n",
    "ax.plot(x_arr, y_cos, label='$\\cos (x)$')\n",
    "\n",
    "# create the legend, using the labels defined in the plot() function\n",
    "ax.legend()\n",
    "\n",
    "# add axis labels by providing a text string as the first argument\n",
    "ax.set_xlabel('x')\n",
    "ax.set_ylabel('y')\n",
    "\n",
    "# add a title by providing a text string as the first argument\n",
    "ax.set_title('Introduction to plotting with matplotlib')\n",
    "\n",
    "# modify tick positions\n",
    "x_ticks = np.linspace(0, 4*np.pi, 9)\n",
    "x_ticklabels = [f'{x}$\\pi$' for x in x_ticks/np.pi]\n",
    "\n",
    "ax.set_xticks(x_ticks)\n",
    "ax.set_xticklabels(x_ticklabels)\n",
    "\n",
    "# add horizontal line at y=0\n",
    "ax.axhline(0, c='gray', ls='--', alpha=0.5)"
   ]
  },
  {
   "cell_type": "markdown",
   "metadata": {},
   "source": [
    "## 3.2. Creating a scatter plot\n",
    "\n",
    "The scatter plot is very common in science and engineering to represent the relationship between two variables. In this example, we'll load a data set which contains polymer density ($g/cm^3$) as the first column and tensile modulus (MPa) data as the second column for a series of polyethylene resins. This data file does not contain column headers, and is all numeric, so we will load it into a `numpy.ndarray`."
   ]
  },
  {
   "cell_type": "code",
   "execution_count": null,
   "metadata": {},
   "outputs": [],
   "source": [
    "pe_data = np.loadtxt('../../data/density_modulus.csv', delimiter=',')\n",
    "\n",
    "# display the first 5 rows to get a feel for what the data looks like\n",
    "pe_data[:5, :]"
   ]
  },
  {
   "cell_type": "markdown",
   "metadata": {},
   "source": [
    "### 3.2.1. The basic scatter plot\n",
    "\n",
    "Everything we learned in the section above is directly applicable to the scatter plot, substituting the [`Axes.scatter()`](https://matplotlib.org/stable/api/_as_gen/matplotlib.axes.Axes.scatter.html) function in place of `Axes.plot()`."
   ]
  },
  {
   "cell_type": "code",
   "execution_count": null,
   "metadata": {},
   "outputs": [],
   "source": [
    "# create the axis\n",
    "fig, ax = plt.subplots()\n",
    "\n",
    "# plot all rows of column 0 as x, all rows of column 1 as y\n",
    "x = pe_data[:, 0]\n",
    "y = pe_data[:, 1]\n",
    "\n",
    "ax.scatter(x, y)\n",
    "\n",
    "# add axis labels by providing a text string as the first argument\n",
    "ax.set_xlabel('Density (g/cm$^3$)')\n",
    "ax.set_ylabel('Tensile Modulus (MPa)')"
   ]
  },
  {
   "cell_type": "markdown",
   "metadata": {},
   "source": [
    "### 3.2.2. Modifying marker properties\n",
    "\n",
    "With the scatter plot we modify the properties of the marker, including its shape (`marker`), size (`s`) and color (`c`). For information on specifying the marker style or color, consult the `matplotlib` documentation:\n",
    "\n",
    "- [`matplotlib` colors](https://matplotlib.org/stable/tutorials/colors/colors.html)\n",
    "- [`matplotlib` markers](https://matplotlib.org/stable/api/markers_api.html)"
   ]
  },
  {
   "cell_type": "code",
   "execution_count": null,
   "metadata": {},
   "outputs": [],
   "source": [
    "# plot the points\n",
    "fig, ax = plt.subplots()\n",
    "ax.scatter(x, y, marker='^', s=30, c='blue')\n",
    "\n",
    "# add axis labels by providing a text string as the first argument\n",
    "ax.set_xlabel('Density (g/cm$^3$)')\n",
    "ax.set_ylabel('Tensile Modulus (MPa)')"
   ]
  },
  {
   "cell_type": "markdown",
   "metadata": {},
   "source": [
    "Interestingly, we can also set the size based on a array of values. Here, we use the modulus, scaled by a factor of 10, to set the marker size. It is best, however, not to use marker size as a primary indicator because it is harder for readers to compare these sizes. "
   ]
  },
  {
   "cell_type": "code",
   "execution_count": null,
   "metadata": {},
   "outputs": [],
   "source": [
    "# plot the points\n",
    "fig, ax = plt.subplots()\n",
    "ax.scatter(x, y, marker='o', s=y/10)\n",
    "\n",
    "# add axis labels by providing a text string as the first argument\n",
    "ax.set_xlabel('Density (g/cm$^3$)')\n",
    "ax.set_ylabel('Tensile Modulus (MPa)')"
   ]
  },
  {
   "cell_type": "markdown",
   "metadata": {},
   "source": [
    "Sometimes, we'll use multiple calls to the `Axes.scatter()` function to highlight certain points in the plot. Here, we use the `ndarray.argsort()` function. This returns a new array of the *index* values of the `y` array that would put the `y` into sorted order."
   ]
  },
  {
   "cell_type": "code",
   "execution_count": null,
   "metadata": {},
   "outputs": [],
   "source": [
    "fig, ax = plt.subplots()\n",
    "\n",
    "# all points are plotted in gray, at 50% opacity\n",
    "ax.scatter(x, y, color='gray', alpha=0.5)\n",
    "\n",
    "# the argsort function returns an array of the index values, in sorted order\n",
    "# we use array slicing to select the last 3 indexes from the sorted array\n",
    "top3_indices = y.argsort()[-3:]\n",
    "\n",
    "# the selected top 3 points are plotted in red\n",
    "ax.scatter(x[top3_indices], y[top3_indices], color='red')\n",
    "\n",
    "# add axis labels by providing a text string as the first argument\n",
    "ax.set_xlabel('Density (g/cm$^3$)')\n",
    "ax.set_ylabel('Tensile Modulus (MPa)')"
   ]
  },
  {
   "cell_type": "markdown",
   "metadata": {},
   "source": [
    "If you want to dig further into how this works, take a look at the code below. This will print out the valus of the `y` array, along with the results of the `ndarray.argsort` function, and the sorted `x`, `y`."
   ]
  },
  {
   "cell_type": "code",
   "execution_count": null,
   "metadata": {},
   "outputs": [],
   "source": [
    "# display the z-values\n",
    "print(f'y values: {np.round(y, 2)}')\n",
    "\n",
    "# display the sort order - the first value is the index of the smallest value in z\n",
    "print(f'y indices in sorted order: {y.argsort()}')\n",
    "\n",
    "# display the x, y, z values in sorted order (by z)\n",
    "df = pd.DataFrame({'x': x[y.argsort()], 'y': y[y.argsort()]})\n",
    "print(df)"
   ]
  },
  {
   "cell_type": "markdown",
   "metadata": {},
   "source": [
    "### 3.2.3 Modifying the style\n",
    "\n",
    "Many people choose to use an alternate to the default `matplotlib` color scheme. There are several options built-in to the package that you can easily select by name with the `plt.style.use()` function. Two styles that I particularly like are the `ggplot` style which is patterned after the popular `ggplot` (grammar of graphics) plotting library in the R language, and the `seaborn` style with is patterned after the default style in the Python `seaborn` package that we will introduce in the next unit. Both of these styles have a light gray background, with white major gridlines that both provide a reference for the reader, while not competing for attention with the data that is being shown.\n",
    "\n",
    "To set the style, just place this line at the top of your code. All subsequent plots, including plots created in other cells, will use the selected style. "
   ]
  },
  {
   "cell_type": "code",
   "execution_count": null,
   "metadata": {},
   "outputs": [],
   "source": [
    "plt.style.use('ggplot')\n",
    "\n",
    "fig, ax = plt.subplots()\n",
    "\n",
    "# all points are plotted in gray, at 50% opacity\n",
    "ax.scatter(x, y, color='gray', alpha=0.5)\n",
    "\n",
    "# the argsort function returns an array of the index values, in sorted order\n",
    "# we use array slicing to select the last 3 indexes from the sorted array\n",
    "top3_indices = y.argsort()[-3:]\n",
    "\n",
    "# the selected top 3 points are plotted in red\n",
    "ax.scatter(x[top3_indices], y[top3_indices], color='red')\n",
    "\n",
    "# add axis labels by providing a text string as the first argument\n",
    "ax.set_xlabel('Density (g/cm$^3$)')\n",
    "ax.set_ylabel('Tensile Modulus (MPa)')"
   ]
  },
  {
   "cell_type": "markdown",
   "metadata": {},
   "source": [
    "## 3.3. Creating a bar chart\n",
    "\n",
    "Bar charts are often used for comparing categorical data. It is much easier to compare the lengths of bars than the area/angles of a pie chart, so consider using this chart type in place of a pie.\n",
    "\n",
    "### 3.3.1. Vertical bar chart\n",
    "\n",
    "For this example, we'll load data from the `dart` worksheet of the `film_testing.xlsx` file. This worksheet provides the energy absorbed (in joules) by a polymer film in a falling dart impact test. The data in this table is the average of several replicates, which we will learn to calculate with a pivot table in Unit 4. "
   ]
  },
  {
   "cell_type": "code",
   "execution_count": null,
   "metadata": {},
   "outputs": [],
   "source": [
    "import pandas as pd\n",
    "\n",
    "dart_df = pd.read_excel('../../data/film_testing.xlsx', sheet_name='dart')\n",
    "dart_df.head()"
   ]
  },
  {
   "cell_type": "markdown",
   "metadata": {},
   "source": [
    "The [`Axes.bar()`](https://matplotlib.org/stable/api/_as_gen/matplotlib.axes.Axes.bar.html) function requires at least 2 parameters: `x` (the x-position for each bar) and `height` (the height of the bar). Because the `index` of the `DataFrame` we created above is an evenly-spaced numerical range, we can use that for our x-coordinate. Otherwise, we would need to generate a range of values using `np.arange()`."
   ]
  },
  {
   "cell_type": "code",
   "execution_count": null,
   "metadata": {},
   "outputs": [],
   "source": [
    "fig, ax = plt.subplots()\n",
    "\n",
    "# create the bars\n",
    "ax.bar(dart_df.index, dart_df['Dart_Energy'])\n",
    "\n",
    "# label the y-axis\n",
    "ax.set_ylabel('Dart Impact, Total Energy (J)')"
   ]
  },
  {
   "cell_type": "markdown",
   "metadata": {},
   "source": [
    "By default, the bars will be labeled with their numeric x-coordinate. This is obviously undesirable; in this case, we would like to use the `FilmID` column to label the bars. This can be accomplished by calling the `axes.set_xticks()` and `axes.set_xticklabels()` functions, as we practiced previously. "
   ]
  },
  {
   "cell_type": "code",
   "execution_count": null,
   "metadata": {},
   "outputs": [],
   "source": [
    "fig, ax = plt.subplots()\n",
    "\n",
    "# create the bars\n",
    "ax.bar(dart_df.index, dart_df['Dart_Energy'])\n",
    "\n",
    "# set the tick labels\n",
    "ax.set_xticks(dart_df.index)\n",
    "ax.set_xticklabels(dart_df['FilmID'])\n",
    "\n",
    "# label the y-axis\n",
    "ax.set_ylabel('Dart Impact, Total Energy (J)')"
   ]
  },
  {
   "cell_type": "markdown",
   "metadata": {},
   "source": [
    "Since this is an extremely common need, the `Axes.bar()` function provides an easy way to accomplish this. Instead of setting the tick labels through separate function calls, you can simply add the `tick_label` parameter to the `axes.bar()` function call. Set the value of this parameter to the series of labels which, in this case, is the `FilmID` column from the `DataFrame`."
   ]
  },
  {
   "cell_type": "code",
   "execution_count": null,
   "metadata": {},
   "outputs": [],
   "source": [
    "fig, ax = plt.subplots()\n",
    "\n",
    "# create the bars\n",
    "ax.bar(dart_df.index, dart_df['Dart_Energy'], tick_label=dart_df['FilmID'])\n",
    "\n",
    "# label the y-axis\n",
    "ax.set_ylabel('Dart Impact, Total Energy (J)')"
   ]
  },
  {
   "cell_type": "markdown",
   "metadata": {},
   "source": [
    "Color can be used to focus the reader's attention on an important result. In the example below, we plot two series of bars to highlight the largest value observed in the dart impact test. To identify the largest point, we call `DataFrame.sort_values()` to sort in descending order (`ascending=False`). This returns a new, sorted `DataFrame`. Then, with the largest value on the top of the `DataFrame`, call `DataFrame.head(1)` to get just that value. Try modifying the code to highlight the smallest value, or top 3 values from the data set."
   ]
  },
  {
   "cell_type": "code",
   "execution_count": null,
   "metadata": {},
   "outputs": [],
   "source": [
    "# find the highest value by sorting by energy in descending order\n",
    "dart_df_sorted = dart_df.sort_values('Dart_Energy', ascending=False)\n",
    "\n",
    "# use head(1) to get the highest value\n",
    "dart_df_top = dart_df_sorted.head(1)\n",
    "\n",
    "# then, plot the data using two separate calls to ax.bar()\n",
    "fig, ax = plt.subplots()\n",
    "\n",
    "# create all of the bars, as done previously, but set to gray\n",
    "ax.bar(dart_df.index, dart_df['Dart_Energy'], color='gray', alpha=0.5,\n",
    "       tick_label = dart_df['FilmID'])\n",
    "\n",
    "# add just the top value\n",
    "ax.bar(dart_df_top.index, dart_df_top['Dart_Energy'], color='darkred')\n",
    "\n",
    "# label the y-axis\n",
    "ax.set_ylabel('Dart Impact, Total Energy (J)')"
   ]
  },
  {
   "cell_type": "markdown",
   "metadata": {},
   "source": [
    "### 3.3.2. Horizontal bar chart\n",
    "\n",
    "When category labels are long, they can be difficult to display. The labels can be rotated, but this is difficult to read. It can be easier to quickly scan a horizontal bar chart, since the labels will be oriented for left-to-right reading. Instead of `Axes.bar()`, we add an \"h\" for horizontal and use the function `Axes.barh()`. The category labels are now on the y-axis. Otherwise, the functions work identically so the coding differences are minimal. In a horizontal bar chart, the bars will be plotted in order from bottom to top, because this is the direction of increasing $y$ coordinate. You can, optionally, use the function `Axes.invert_yaxis()` to flip this around."
   ]
  },
  {
   "cell_type": "code",
   "execution_count": null,
   "metadata": {},
   "outputs": [],
   "source": [
    "fig, ax = plt.subplots()\n",
    "\n",
    "# create the bars\n",
    "ax.barh(dart_df.index, dart_df['Dart_Energy'], tick_label=dart_df['FilmID'])\n",
    "\n",
    "# try running the cell with and without this line\n",
    "# ax.invert_yaxis()\n",
    "\n",
    "# label the y-axis\n",
    "ax.set_xlabel('Dart Impact, Total Energy (J)')"
   ]
  },
  {
   "cell_type": "markdown",
   "metadata": {},
   "source": [
    "## 3.4. Saving your plot\n",
    "\n",
    "Now that we have demonstrated the ability to create common plots in `matplotlib`, it is important that we be able to save them for use in a presentation or report. The `plt.savefig()` function can save these plots to a file using the png, pdf or svg file formats.\n",
    "\n",
    "- **png**: A *portable network graphics* (png) file is a bitmap image format that is easily imported into office documents, or used on the web. You will need to set the image size and resolution, in *dots per inch* (dpi), to scale the image to larger or smaller displays. The file size will increase as you increase either of these variables. \n",
    "- **pdf**: You are probably familiar with the common pdf format from documents, but this can be used for images as well. A pdf image is stored in a vector format. The technical details are not important, but with a vector format you don't need to worry about an image getting fuzzy as you increase the size. This can be a good choice for publication graphics, but also has compatibility issues with current versions of some office software.\n",
    "- **svg**: The *standardized vector graphics* (svg) file is an xml-based file format that can be used for web graphics. Image files are stored as plain text, and can be edited in a graphics editor like [Inkscape]().\n",
    "\n",
    "For most uses, I recommend the *png* format. If you're going to make large (or high resolution) prints of a graph, choose *pdf*. \n",
    "\n",
    "In the example below, we'll save our plot in 3 formats:\n",
    "\n",
    "- **png**, at 30 dpi\n",
    "- **png**, at 300 dpi\n",
    "- **pdf**\n",
    "\n",
    "The file type is inferred from the filename that you provide as the first argument. The `dpi` parameter is optional. Take a look at (and, optionally, print) the image files and observe the differences between the formats.\n",
    "\n",
    "You'll notice that I have added another function before saving the files. The function `plt.tight_layout()` will render the plot to fit the plot axes to the file, to eliminate whitespace and ensure that all labels are properly placed inside of the file. Alternatively, you can set the layout to *tight* using the `bbox_inches` (bounding box inches) parameter in the `plt.savefig()` function."
   ]
  },
  {
   "cell_type": "code",
   "execution_count": null,
   "metadata": {},
   "outputs": [],
   "source": [
    "fig, ax = plt.subplots()\n",
    "\n",
    "ax.plot(x_arr, y_sin, label='$\\sin (x)$')\n",
    "ax.plot(x_arr, y_cos, label='$\\cos (x)$')\n",
    "\n",
    "ax.legend()\n",
    "\n",
    "plt.tight_layout()\n",
    "\n",
    "plt.savefig('../../output/unit3_plot_30dpi.png', dpi=30)\n",
    "plt.savefig('../../output/unit3_plot_300dpi.png', dpi=300)\n",
    "plt.savefig('../../output/unit3_plot.pdf')\n",
    "plt.savefig('../../output/unit3_plot_bboxinches.pdf', bbox_inches='tight')"
   ]
  },
  {
   "cell_type": "markdown",
   "metadata": {},
   "source": [
    "## 3.4. Adding text to the Axes\n",
    "\n",
    "Text labels can be a powerful addition to a plot, especially when highlighting the most important results in your analysis. We can further improve the plot of dart impact energy by adding the value of the energy absorbed by the strongest film. This uses the [`Axes.text()`](https://matplotlib.org/stable/api/_as_gen/matplotlib.axes.Axes.text.html) function. Text placement is specified using $x$, $y$ coordinates. In the example, values from the `DataFrame` are used to determine the correct positioning of the text. The `ha` (horizontal alignment) parameter can be used to center the text at the selected point."
   ]
  },
  {
   "cell_type": "code",
   "execution_count": null,
   "metadata": {},
   "outputs": [],
   "source": [
    "# find the highest value by sorting by energy in descending order\n",
    "dart_df_sorted = dart_df.sort_values('Dart_Energy', ascending=False)\n",
    "\n",
    "# use head(1) to get the highest value\n",
    "dart_df_top = dart_df_sorted.head(1)\n",
    "\n",
    "# then, plot the data using two separate calls to ax.bar()\n",
    "fig, ax = plt.subplots()\n",
    "ax.set_ylim((0, 1))\n",
    "\n",
    "# create all of the bars, as done previously, but set to gray\n",
    "ax.bar(dart_df.index, dart_df['Dart_Energy'], color='gray', alpha=0.5,\n",
    "       tick_label = dart_df['FilmID'])\n",
    "\n",
    "# add just the top value\n",
    "ax.bar(dart_df_top.index, dart_df_top['Dart_Energy'], color='darkred')\n",
    "\n",
    "# add text to the largest value\n",
    "# get the index value for the x-coordinate\n",
    "text_x = dart_df_top.index[0]\n",
    "\n",
    "# position the text 5% over the top edge of the bar\n",
    "text_y = dart_df_top.iloc[0]['Dart_Energy']*1.05\n",
    "\n",
    "# get the value of the energy to format\n",
    "text_value = dart_df_top.iloc[0]['Dart_Energy']\n",
    "\n",
    "# apply the text, providing the x, y coordinates and text as the first parameters\n",
    "# the ha='center' parameter will center the text horizontally\n",
    "ax.text(text_x, text_y, f'{text_value:0.2f} J', ha='center')\n",
    "\n",
    "# label the y-axis\n",
    "ax.set_ylabel('Dart Impact, Total Energy (J)')"
   ]
  },
  {
   "cell_type": "markdown",
   "metadata": {},
   "source": [
    "--------------\n",
    "## Next Steps:\n",
    "\n",
    "1. Complete the [Unit 3 Problems](./unit03-problems.ipynb) to test your understanding\n",
    "2. Advance to [Unit 4](../04-pandas-dataframe/unit04-lesson.ipynb) when you're ready for the next step"
   ]
  }
 ],
 "metadata": {
  "kernelspec": {
   "display_name": "Python 3.8.13 ('base')",
   "language": "python",
   "name": "python3"
  },
  "language_info": {
   "codemirror_mode": {
    "name": "ipython",
    "version": 3
   },
   "file_extension": ".py",
   "mimetype": "text/x-python",
   "name": "python",
   "nbconvert_exporter": "python",
   "pygments_lexer": "ipython3",
   "version": "3.8.13"
  },
  "vscode": {
   "interpreter": {
    "hash": "2af3520cf2d099315c509e23b0f679c1508a4671732b5e09eee0e9586de4a344"
   }
  }
 },
 "nbformat": 4,
 "nbformat_minor": 2
}
