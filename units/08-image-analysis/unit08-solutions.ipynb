{
 "cells": [
  {
   "cell_type": "markdown",
   "metadata": {},
   "source": [
    "# Solutions: Unit 8\n",
    "-------------------\n",
    "\n",
    "Complete the problems below in your copy of the Jupyter Notebook."
   ]
  },
  {
   "cell_type": "markdown",
   "metadata": {},
   "source": [
    "## Problem 8.1. \n",
    "\n",
    "Image analysis can be used to digitize a printed graph. The reference book \"Permeability and Other Film Properties\" (1995) provides information on gas transmission through polymers. Use file `eva_otr.png`, which is a scan from page 224, and provides the oxygen barrier of ethylene-co-vinyl acetate copolymers as a function of the vinyl acetate percentage. \n",
    "\n",
    "1. Load the image, convert to black/white and crop the image to fit the graph and display the resulting cropped image\n",
    "2. Analyze the image to find the $x$, $y$ coordinates of the plotted points\n",
    "3. Use regression analysis to fit a function to the data\n",
    "4. Plot the identified points and regression line\n",
    "\n",
    "It may be helpful to know that a column from a `pandas.DataFrame` can be converted to a `numpy.ndarray` by selecting the column and calling the `to_numpy()` function: `df['colname'].to_numpy()`."
   ]
  },
  {
   "cell_type": "code",
   "execution_count": null,
   "metadata": {},
   "outputs": [],
   "source": [
    "# problem 8.1. solution\n",
    "\n",
    "from skimage import io, measure\n",
    "from skimage.filters import threshold_otsu\n",
    "from sklearn import linear_model, preprocessing\n",
    "import numpy as np\n",
    "from scipy import ndimage\n",
    "import matplotlib.pyplot as plt\n",
    "import pandas as pd\n",
    "\n",
    "# load and display the raw image in grayscale\n",
    "img = io.imread('../../data/eva_otr.png', as_gray=True)\n",
    "\n",
    "# convert the image to black and white\n",
    "# because the points are black (low number) on white (high number), \n",
    "# we select points less than the threshold\n",
    "threshold = threshold_otsu(img)\n",
    "img_bw = img < threshold\n",
    "\n",
    "# display image\n",
    "fig, ax = plt.subplots()\n",
    "ax.imshow(img_bw)"
   ]
  },
  {
   "cell_type": "code",
   "execution_count": null,
   "metadata": {},
   "outputs": [],
   "source": [
    "# crop the image\n",
    "\n",
    "# you could crop the image in an image editor, or crop using matrix slicing\n",
    "# this method will require some trial and error to get dialed in\n",
    "img_crop = img_bw[185:1275, 340:2150]\n",
    "\n",
    "# display the cropped image\n",
    "fig, ax = plt.subplots()\n",
    "ax.imshow(img_crop)"
   ]
  },
  {
   "cell_type": "code",
   "execution_count": null,
   "metadata": {},
   "outputs": [],
   "source": [
    "# use object detection to get the points in the plot\n",
    "\n",
    "# label the plotted points in the image\n",
    "labels, no_objects = ndimage.label(img_crop)\n",
    "\n",
    "props_table = measure.regionprops_table(labels, properties=['centroid'])\n",
    "props_df = pd.DataFrame(props_table)\n",
    "\n",
    "props_df.head()"
   ]
  },
  {
   "cell_type": "code",
   "execution_count": null,
   "metadata": {},
   "outputs": [],
   "source": [
    "# plot the identified objects\n",
    "\n",
    "# these points are read off of the original graph scales\n",
    "ticks_x_min = 0\n",
    "ticks_x_max = 30\n",
    "ticks_y_min = 2000\n",
    "ticks_y_max = 6000\n",
    "\n",
    "# the number of pixels in the graph will be used to set the scale factor\n",
    "img_x_max = img_crop.shape[1]\n",
    "img_y_max = img_crop.shape[0]\n",
    "\n",
    "# calculate the x, y coordinates by scaling the centroid (in pixel units) to the \n",
    "# x, y scale of the original plot\n",
    "props_df['x'] = props_df['centroid-1'] / img_x_max * (ticks_x_max - ticks_x_min) + ticks_x_min\n",
    "props_df['y'] = (1 - props_df['centroid-0'] / img_y_max) * (ticks_y_max - ticks_y_min) + ticks_y_min\n",
    "\n",
    "# display the results, in the scale of the original\n",
    "fig, ax = plt.subplots()\n",
    "ax.scatter(props_df['x'], props_df['y'])"
   ]
  },
  {
   "cell_type": "code",
   "execution_count": null,
   "metadata": {},
   "outputs": [],
   "source": [
    "# clean up the errors around the edges\n",
    "# alternatively, these could have been erased in an image editor before loading\n",
    "\n",
    "# filter out the edges, these were the tick marks in the image\n",
    "props_df = props_df[props_df['x'] > 2]\n",
    "props_df = props_df[props_df['x'] < 29]\n",
    "props_df = props_df[props_df['y'] > 2100]\n",
    "props_df = props_df[props_df['y'] < 5200]\n",
    "\n",
    "# display the cleaned data set\n",
    "fig, ax = plt.subplots()\n",
    "ax.scatter(props_df['x'], props_df['y'])\n",
    "\n",
    "ax.set_xlabel('Vinyl Acetate Content (wt%)')\n",
    "ax.set_ylabel('O$_2$ Permeability (cm$^3$/m$^2$$\\cdot$bar$\\cdot$day)')"
   ]
  },
  {
   "cell_type": "code",
   "execution_count": null,
   "metadata": {},
   "outputs": [],
   "source": [
    "# apply regression to the extracted points\n",
    "# this appears to have some curvature, so we will use a quadratic polynomial\n",
    "\n",
    "# use sklearn to generate the polynomial feature matrix\n",
    "poly = preprocessing.PolynomialFeatures(2)\n",
    "X = poly.fit_transform(props_df['x'].to_numpy().reshape(-1, 1))\n",
    "y = props_df['y'].to_numpy()\n",
    "\n",
    "# fit a linear regression model to the data\n",
    "reg = linear_model.LinearRegression(fit_intercept=False)\n",
    "reg.fit(X, y)\n",
    "\n",
    "# create a new array to plot the regression line from 0-30% VA\n",
    "# this must also be transformed into a polynomial feature matrix\n",
    "x_model = np.linspace(0, 30, 100)\n",
    "X_model = poly.fit_transform(x_model.reshape(-1, 1))\n",
    "\n",
    "# use the regression model to calculate the points on the fitted line\n",
    "y_hat = reg.predict(X_model)\n",
    "\n",
    "# display the points and the regression line\n",
    "fig, ax = plt.subplots()\n",
    "ax.scatter(props_df['x'], props_df['y'])\n",
    "ax.plot(x_model, y_hat)\n",
    "\n",
    "ax.set_xlabel('Vinyl Acetate Content (wt%)')\n",
    "ax.set_ylabel('O$_2$ Permeability (cm$^3$/m$^2$$\\cdot$bar$\\cdot$day)')\n",
    "\n",
    "# display the equation and R**2 on the plot as text\n",
    "ax.text(0, 4500, f'y={reg.coef_[0]:0.1f}+{reg.coef_[1]:0.1f}$x$+{reg.coef_[2]:0.1f}$x^2$')\n",
    "ax.text(0, 4250, f'$R^2$={reg.score(X, y):0.2f}')"
   ]
  },
  {
   "cell_type": "markdown",
   "metadata": {},
   "source": [
    "## Problem 8.2.\n",
    "\n",
    "Sometimes it is helpful to use individual RGB color channels to provide more contrast than is apparent in the full color image. The files `gel1.jpg` and `gel2.jpg` are photographs of \"gels\" (cross-linked defects) in polymer films. These are especially common in recycled materials. Compare the gel content in these two images. \n",
    "\n",
    "1. Load the files `gel1.jpg` and `gel2.jpg`\n",
    "2. Determine which color channel in `gel1.jpg` is most suitable for image analysis\n",
    "3. Using this color channel for both images, count and find the area of each defect in the film\n",
    "   - Manually set two different values for the black/white threshold\n",
    "   - Produce histograms of the results for each image, at each threshold\n",
    "4. Compare the results of the two images, and the impact of the different threshold values"
   ]
  },
  {
   "cell_type": "code",
   "execution_count": null,
   "metadata": {},
   "outputs": [],
   "source": [
    "# problem 8.2. solution\n",
    "\n",
    "gel1 = io.imread('../../data/gel1.jpg')\n",
    "gel2 = io.imread('../../data/gel2.jpg')\n",
    "\n",
    "# plot the channels individually\n",
    "fig, ax = plt.subplots(ncols=3)\n",
    "\n",
    "# red channel\n",
    "ax[0].imshow(gel1[:, :, 0], cmap='Reds')\n",
    "ax[0].set_axis_off()\n",
    "ax[0].set_title(f'min={gel1[:, :, 0].min()}, max={gel1[:, :, 0].max()}', fontsize='small')\n",
    "\n",
    "# green channel\n",
    "ax[1].imshow(gel1[:, :, 1], cmap='Greens')\n",
    "ax[1].set_axis_off()\n",
    "ax[1].set_title(f'min={gel1[:, :, 1].min()}, max={gel1[:, :, 1].max()}', fontsize='small')\n",
    "\n",
    "# blue channel\n",
    "ax[2].imshow(gel1[:, :, 2], cmap='Blues')\n",
    "ax[2].set_axis_off()\n",
    "ax[2].set_title(f'min={gel1[:, :, 2].min()}, max={gel1[:, :, 2].max()}', fontsize='small')"
   ]
  },
  {
   "cell_type": "markdown",
   "metadata": {},
   "source": [
    "This shows us that the blue channel uses the widest range within the 8-bit [0, 255] space. We should proceed with the blue channel."
   ]
  },
  {
   "cell_type": "code",
   "execution_count": null,
   "metadata": {},
   "outputs": [],
   "source": [
    "# wrote a function to plot each image/threshold combination to reduce redundant code\n",
    "def process_image(img_arr, threshold, ax, ax_col, title):\n",
    "\n",
    "    # apply threshold to convert to black and white\n",
    "    img_bw = img_arr > threshold\n",
    "\n",
    "    # label and count the defects\n",
    "    labels, no_objects = ndimage.label(img_bw)\n",
    "    props_table = measure.regionprops_table(labels, properties=['centroid', \n",
    "                                                                'area'])\n",
    "    df = pd.DataFrame(props_table)\n",
    "\n",
    "    defect_count = len(df)\n",
    "    defect_area_fraction = df['area'].sum() / (img_arr.shape[0] * img_arr.shape[1])\n",
    "\n",
    "\n",
    "    # plot the image and histogram\n",
    "    ax[0, ax_col].imshow(img_bw)\n",
    "    ax[0, ax_col].set_axis_off()\n",
    "    ax[0, ax_col].set_title(title, fontsize='x-small')\n",
    "\n",
    "    ax[1, ax_col].hist(df['area'], bins=np.arange(0, 700, 50))\n",
    "    ax[1, ax_col].set_xticks(np.arange(0, 700, 300))\n",
    "    ax[1, ax_col].set_xlabel('Defect Size (px)', fontsize='x-small')\n",
    "\n",
    "    ax[1, ax_col].text(100, 350, f'Count: {defect_count}', fontsize='small')\n",
    "    ax[1, ax_col].text(100, 300, f'Area: {defect_area_fraction:0.2%}', fontsize='small')\n",
    "\n",
    "# create a faceted plot to display the results\n",
    "fig, ax = plt.subplots(nrows=2, ncols=4, sharex='row', sharey='row', dpi=150)\n",
    "\n",
    "# calculate and plot each combination\n",
    "# threshold of 80\n",
    "process_image(gel1[:, :, 2], 80, ax, 0, 'gel1.jpg\\nthreshold=80')\n",
    "process_image(gel2[:, :, 2], 80, ax, 1, 'gel2.jpg\\nthreshold=80')\n",
    "\n",
    "# threshold of 120\n",
    "process_image(gel1[:, :, 2], 120, ax, 2, 'gel1.jpg\\nthreshold=120')\n",
    "process_image(gel2[:, :, 2], 120, ax, 3, 'gel2.jpg\\nthreshold=120')"
   ]
  },
  {
   "cell_type": "markdown",
   "metadata": {},
   "source": [
    "With the higher threshold value of 120 (compared to 80), the count of identified defects and total area were both decreased. Using the higher threshold meant that some small defects where considered as black and excluded from the analysis. Additionally, the medium-gray edges of the gels were cut off and considered as background. This is not necessary good or bad, but needs to be managed for consistent results. At both threshold values, it appears that gel1 has a larger count and total defect area when compared to gel2. Additional measurements from other samples (or a knowledge of the test variance) would be required to conduct a statistical t-test to assess signficance of this result."
   ]
  },
  {
   "cell_type": "markdown",
   "metadata": {},
   "source": [
    "------------------\n",
    "## Congratulations\n",
    "\n",
    "This concludes the Python for Engineering Data Analytics course. You should now be confident exploring engineering data in Python! Feel free to refer back to these lessons and copy code that helps jumpstart your analytics problems. Additionally, look at the [References](../../REFERENCES.md) file for a summary of useful links that were presented in the lessons."
   ]
  }
 ],
 "metadata": {
  "kernelspec": {
   "display_name": "Python 3.8.13 ('base')",
   "language": "python",
   "name": "python3"
  },
  "language_info": {
   "codemirror_mode": {
    "name": "ipython",
    "version": 3
   },
   "file_extension": ".py",
   "mimetype": "text/x-python",
   "name": "python",
   "nbconvert_exporter": "python",
   "pygments_lexer": "ipython3",
   "version": "3.8.13"
  },
  "orig_nbformat": 4,
  "vscode": {
   "interpreter": {
    "hash": "2af3520cf2d099315c509e23b0f679c1508a4671732b5e09eee0e9586de4a344"
   }
  }
 },
 "nbformat": 4,
 "nbformat_minor": 2
}
