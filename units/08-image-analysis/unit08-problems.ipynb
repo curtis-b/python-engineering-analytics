{
 "cells": [
  {
   "cell_type": "markdown",
   "metadata": {},
   "source": [
    "# Assessment: Unit 8\n",
    "--------------------\n",
    "\n",
    "Complete the problems below in your copy of the Jupyter Notebook."
   ]
  },
  {
   "cell_type": "markdown",
   "metadata": {},
   "source": [
    "## Problem 8.1. \n",
    "\n",
    "Image analysis can be used to digitize a printed graph. The reference book \"Permeability and Other Film Properties\" (1995) provides information on gas transmission through polymers. Use file `eva_otr.png`, which is a scan from page 224, and provides the oxygen barrier of ethylene-co-vinyl acetate copolymers as a function of the vinyl acetate percentage. \n",
    "\n",
    "1. Load the image, convert to black/white and crop the image to fit the graph and display the resulting cropped image\n",
    "2. Analyze the image to find the $x$, $y$ coordinates of the plotted points\n",
    "3. Use regression analysis to fit a function to the data\n",
    "4. Plot the identified points and regression line\n",
    "\n",
    "It may be helpful to know that a column from a `pandas.DataFrame` can be converted to a `numpy.ndarray` by selecting the column and calling the `to_numpy()` function: `df['colname'].to_numpy()`."
   ]
  },
  {
   "cell_type": "code",
   "execution_count": null,
   "metadata": {},
   "outputs": [],
   "source": [
    "# problem 8.1. solution\n"
   ]
  },
  {
   "cell_type": "markdown",
   "metadata": {},
   "source": [
    "## Problem 8.2.\n",
    "\n",
    "Sometimes it is helpful to use individual RGB color channels to provide more contrast than is apparent in the full color image. The files `gel1.jpg` and `gel2.jpg` are photographs of \"gels\" (cross-linked defects) in polymer films. These are especially common in recycled materials. Compare the gel content in these two images. \n",
    "\n",
    "1. Load the files `gel1.jpg` and `gel2.jpg`\n",
    "2. Determine which color channel in `gel1.jpg` is most suitable for image analysis\n",
    "3. Using this color channel for both images, count and find the area of each defect in the film\n",
    "   - Manually set two different values for the black/white threshold\n",
    "   - Produce histograms of the results for each image, at each threshold\n",
    "4. Compare the results of the two images, and the impact of the different threshold values"
   ]
  },
  {
   "cell_type": "code",
   "execution_count": null,
   "metadata": {},
   "outputs": [],
   "source": [
    "# problem 8.2. solution\n"
   ]
  },
  {
   "cell_type": "markdown",
   "metadata": {},
   "source": [
    "--------------\n",
    "## Next Steps:\n",
    "\n",
    "1. Check your work with the [Unit 8 Solutions](./unit08-solutions.ipynb)"
   ]
  }
 ],
 "metadata": {
  "kernelspec": {
   "display_name": "Python 3.8.13 ('base')",
   "language": "python",
   "name": "python3"
  },
  "language_info": {
   "codemirror_mode": {
    "name": "ipython",
    "version": 3
   },
   "file_extension": ".py",
   "mimetype": "text/x-python",
   "name": "python",
   "nbconvert_exporter": "python",
   "pygments_lexer": "ipython3",
   "version": "3.8.13"
  },
  "orig_nbformat": 4,
  "vscode": {
   "interpreter": {
    "hash": "2af3520cf2d099315c509e23b0f679c1508a4671732b5e09eee0e9586de4a344"
   }
  }
 },
 "nbformat": 4,
 "nbformat_minor": 2
}
