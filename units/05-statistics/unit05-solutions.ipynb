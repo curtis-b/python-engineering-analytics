{
 "cells": [
  {
   "cell_type": "markdown",
   "metadata": {},
   "source": [
    "# Solutions: Unit 5\n",
    "-------------------\n",
    "\n",
    "Complete the problems below in your copy of the Jupyter Notebook."
   ]
  },
  {
   "cell_type": "markdown",
   "metadata": {},
   "source": [
    "## Problem 5.1.\n",
    "\n",
    "For this problem, assume $\\mu=15$, $\\sigma=3.5$\n",
    "\n",
    "1. Random sampling 20 values from the normal distribution\n",
    "2. Plot a histogram of these randomly sampled values as a population density\n",
    "3. Overlay the normal probability function\n",
    "4. Using the t distribution, calculate the 95% confidence interval for the mean of the random sample, and identify this range with dashed vertical lines"
   ]
  },
  {
   "cell_type": "code",
   "execution_count": null,
   "metadata": {},
   "outputs": [],
   "source": [
    "# problem 5.1. solution\n",
    "\n",
    "import numpy as np\n",
    "import matplotlib.pyplot as plt\n",
    "from scipy import stats\n",
    "\n",
    "plt.style.use('ggplot')\n",
    "\n",
    "# part 1: generate the random sample\n",
    "n = 20\n",
    "mu = 15\n",
    "sigma = 3.5\n",
    "\n",
    "random_values = stats.norm.rvs(loc=mu, scale=sigma, size=n)\n",
    "\n",
    "# part 2: plot the histogram\n",
    "first_color = colors = plt.rcParams['axes.prop_cycle'].by_key()['color'][0]\n",
    "\n",
    "fig, ax = plt.subplots()\n",
    "ax.hist(random_values, density=True, alpha=0.5, color=first_color)\n",
    "\n",
    "# part 3: overlay the normal probability function\n",
    "x = np.linspace(mu-3*sigma, mu+3*sigma, 100)\n",
    "y = stats.norm.pdf(x, loc=mu, scale=sigma)\n",
    "ax.plot(x, y, c=first_color)\n",
    "\n",
    "# part 4: compute the interval\n",
    "x_bar = random_values.mean()\n",
    "stdev = random_values.std(ddof=-1)\n",
    "\n",
    "interval = stats.t.interval(0.95, loc=x_bar, scale=stdev/np.sqrt(n), df=n)\n",
    "ax.axvline(interval[0], ls='--')\n",
    "ax.axvline(interval[1], ls='--')"
   ]
  },
  {
   "cell_type": "markdown",
   "metadata": {},
   "source": [
    "The location of the confidence interval is based on the random sampling of values, so it will vary from this example. In fact, it will change every time the cell is run. Because a 95% confidence interval is constructed, it should bound the true mean of the population an average of 95% of the times that the cell is run."
   ]
  },
  {
   "cell_type": "markdown",
   "metadata": {},
   "source": [
    "## Problem 5.2.\n",
    "\n",
    "The `physical_properties` workseet in the `film_testing.xlsx` file contains long-form data on the physical properties of a number of polymer films. Use this data to compare the dart impact energy of BOPP and BOPET films. Plot the histograms, and test the data to determine if there is there is statistical evidence that these two film chemistries have a different impact strength. Assume that the data for each film type is sampled from the normal distribution, but the variance for each film type may not be the same."
   ]
  },
  {
   "cell_type": "code",
   "execution_count": null,
   "metadata": {},
   "outputs": [],
   "source": [
    "# problem 5.2. solution\n",
    "\n",
    "import matplotlib.pyplot as plt\n",
    "from scipy import stats\n",
    "import pandas as pd\n",
    "\n",
    "# open and review the data set to get the column headings and format\n",
    "film_df = pd.read_excel('../../data/film_testing.xlsx', sheet_name='physical_properties')\n",
    "film_df.head()"
   ]
  },
  {
   "cell_type": "code",
   "execution_count": null,
   "metadata": {},
   "outputs": [],
   "source": [
    "# select the two datasets to make the code easier to follow\n",
    "dart_bopet = film_df[(film_df['FilmType']=='BOPET') & (film_df['Property']=='Dart Impact')]\n",
    "dart_bopp = film_df[(film_df['FilmType']=='BOPP') & (film_df['Property']=='Dart Impact')]\n",
    "\n",
    "# compute bin edges that span the entire range of data\n",
    "dart_min = film_df[film_df['Property']=='Dart Impact']['Measurement'].min()\n",
    "dart_max = film_df[film_df['Property']=='Dart Impact']['Measurement'].max()\n",
    "\n",
    "dart_bin_width = 0.05\n",
    "dart_bin_min = dart_bin_width * np.floor(dart_min / dart_bin_width)\n",
    "dart_bin_max = dart_bin_width * (np.ceil(dart_max / dart_bin_width) + 1)\n",
    "\n",
    "dart_bins = np.arange(dart_bin_min, dart_bin_max, dart_bin_width)\n",
    "\n",
    "# plot the histograms of the two data sets\n",
    "fig, ax = plt.subplots()\n",
    "ax.hist(dart_bopet['Measurement'], bins=dart_bins, alpha=0.5, label='BOPET')\n",
    "ax.hist(dart_bopp['Measurement'], bins=dart_bins, alpha=0.5, label='BOPP')"
   ]
  },
  {
   "cell_type": "code",
   "execution_count": null,
   "metadata": {},
   "outputs": [],
   "source": [
    "# assume a null hypothesis that the means of these two distributions are equal\n",
    "stats.ttest_ind(dart_bopet['Measurement'], dart_bopp['Measurement'], equal_var=False)"
   ]
  },
  {
   "cell_type": "markdown",
   "metadata": {},
   "source": [
    "If we use a 0.05 as the limit for significance in the t-test, we find that the observed p-value << 0.05, so we reject the null hypothesis that these two film types have the same dart impact strength. There is a statistically significant different in the dart impact of BOPP and BOPET films."
   ]
  },
  {
   "cell_type": "markdown",
   "metadata": {},
   "source": [
    "## Problem 5.3.\n",
    "\n",
    "The *basis weight* (mass / unit area) is a common quality measurement in the production of polymer films. The file `basis_weight.txt` contains a series of basis weight values in grams per square meter, with no column heading. Load this data set and construct an $\\bar{x}$ run chart of the data, using $n=4$ and setting limits of $\\pm 1.5 \\sigma$. Use the first 15 $\\bar{x}$ points to estimate the mean and standard deviation of the data. Plot any out of control points with an \"x\" marker and comment on what is observed."
   ]
  },
  {
   "cell_type": "code",
   "execution_count": null,
   "metadata": {},
   "outputs": [],
   "source": [
    "# problem 5.3. solution\n",
    "\n",
    "import matplotlib.pyplot as plt\n",
    "import numpy as np\n",
    "\n",
    "# load the data array\n",
    "bw = np.loadtxt('../../data/basis_weight.txt')\n",
    "\n",
    "# compute the x-bar values, using n=4\n",
    "bw_matrix = bw.reshape(-1, 4)\n",
    "bw_xbar = bw_matrix.mean(axis=1)\n",
    "\n",
    "# compute the mean and standard deviation for the first 15 x-bar values\n",
    "xbar_mean = bw_xbar[:15].mean()\n",
    "xbar_std = bw_xbar[:15].std(ddof=1)\n",
    "\n",
    "# compute the upper and lower control limits\n",
    "ucl = xbar_mean + 1.5 * xbar_std\n",
    "lcl = xbar_mean - 1.5 * xbar_std\n",
    "\n",
    "# plot the x-bar run chart, including limits at +/- \n",
    "fig, ax = plt.subplots()\n",
    "\n",
    "# plot the observed x-bar values\n",
    "ax.plot(np.arange(len(bw_xbar)), bw_xbar, c='blue', lw=1)\n",
    "\n",
    "# plot the calculated control limits\n",
    "ax.axhline(xbar_mean + 1.5*xbar_std, label='UCL', c='red')\n",
    "ax.axhline(xbar_mean, label='CL', c='gray', ls='--')\n",
    "ax.axhline(xbar_mean - 1.5*xbar_std, label='LCL', c='red')\n",
    "\n",
    "# get the array index values where the x-bar points are outside the control limits\n",
    "outofcontrol_index = np.argwhere((bw_xbar > ucl) | (bw_xbar < lcl))\n",
    "\n",
    "# using the index values as the x-coordinates, plot the out of control points from the array\n",
    "# use the index values to select the out of control points\n",
    "ax.scatter(outofcontrol_index, bw_xbar[outofcontrol_index], marker='x', c='blue', \n",
    "           label='Out of Control')\n",
    "\n",
    "ax.legend()"
   ]
  },
  {
   "cell_type": "markdown",
   "metadata": {},
   "source": [
    "There are several observations that exceed the upper control limit, with the first being at index 17. This indicates that there may have been a disruption in the manufacturing process at this time."
   ]
  },
  {
   "cell_type": "markdown",
   "metadata": {},
   "source": [
    "--------------\n",
    "## Next Steps:\n",
    "\n",
    "1. Advance to [Unit 6](../06-regression-classification/unit06-lesson.ipynb) when you're ready for the next step"
   ]
  }
 ],
 "metadata": {
  "kernelspec": {
   "display_name": "Python 3.8.13 ('base')",
   "language": "python",
   "name": "python3"
  },
  "language_info": {
   "codemirror_mode": {
    "name": "ipython",
    "version": 3
   },
   "file_extension": ".py",
   "mimetype": "text/x-python",
   "name": "python",
   "nbconvert_exporter": "python",
   "pygments_lexer": "ipython3",
   "version": "3.8.13"
  },
  "orig_nbformat": 4,
  "vscode": {
   "interpreter": {
    "hash": "2af3520cf2d099315c509e23b0f679c1508a4671732b5e09eee0e9586de4a344"
   }
  }
 },
 "nbformat": 4,
 "nbformat_minor": 2
}
