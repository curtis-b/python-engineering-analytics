{
 "cells": [
  {
   "cell_type": "markdown",
   "metadata": {},
   "source": [
    "# Assessment: Unit 5\n",
    "--------------------\n",
    "\n",
    "Complete the problems below in your copy of the Jupyter Notebook."
   ]
  },
  {
   "cell_type": "markdown",
   "metadata": {},
   "source": [
    "## Problem 5.1.\n",
    "\n",
    "For the following problems, assume $\\mu=15$, $\\sigma=3.5$\n",
    "\n",
    "1. Random sampling 20 values from the normal distribution\n",
    "2. Plot a histogram of these randomly sampled values as a population density\n",
    "3. Overlay the normal probability function\n",
    "4. Using the t distribution, calculate the 95% confidence interval for the mean of the random sample, and identify this range with dashed vertical lines"
   ]
  },
  {
   "cell_type": "code",
   "execution_count": 39,
   "metadata": {},
   "outputs": [
    {
     "data": {
      "text/plain": [
       "<matplotlib.lines.Line2D at 0x2846be68b80>"
      ]
     },
     "execution_count": 39,
     "metadata": {},
     "output_type": "execute_result"
    },
    {
     "data": {
      "image/png": "[encoded data removed]",
      "text/plain": [
       "<Figure size 432x288 with 1 Axes>"
      ]
     },
     "metadata": {},
     "output_type": "display_data"
    }
   ],
   "source": [
    "import numpy as np\n",
    "import matplotlib.pyplot as plt\n",
    "from scipy import stats\n",
    "\n",
    "plt.style.use('ggplot')\n",
    "\n",
    "# part 1: generate the random sample\n",
    "n = 20\n",
    "mu = 15\n",
    "sigma = 3.5\n",
    "\n",
    "random_values = stats.norm.rvs(loc=mu, scale=sigma, size=n)\n",
    "\n",
    "# part 2: plot the histogram\n",
    "first_color = colors = plt.rcParams['axes.prop_cycle'].by_key()['color'][0]\n",
    "\n",
    "fig, ax = plt.subplots()\n",
    "ax.hist(random_values, density=True, alpha=0.5, color=first_color)\n",
    "\n",
    "# part 3: overlay the normal probability function\n",
    "x = np.linspace(mu-3*sigma, mu+3*sigma, 100)\n",
    "y = stats.norm.pdf(x, loc=mu, scale=sigma)\n",
    "ax.plot(x, y, c=first_color)\n",
    "\n",
    "# part 4: compute the interval\n",
    "x_bar = random_values.mean()\n",
    "stdev = random_values.std(ddof=-1)\n",
    "\n",
    "interval = stats.t.interval(alpha=0.95, loc=x_bar, scale=stdev/np.sqrt(n), df=n)\n",
    "ax.axvline(interval[0], ls='--')\n",
    "ax.axvline(interval[1], ls='--')"
   ]
  },
  {
   "cell_type": "markdown",
   "metadata": {},
   "source": [
    "## Problem 5.2.\n",
    "\n",
    "\n",
    "\n",
    "Load data and plot histogram for MD v TD for a particular film\n",
    "\n",
    "\n",
    "\n",
    "T-Test"
   ]
  },
  {
   "cell_type": "code",
   "execution_count": null,
   "metadata": {},
   "outputs": [],
   "source": []
  },
  {
   "cell_type": "markdown",
   "metadata": {},
   "source": [
    "## Problem 5.3."
   ]
  },
  {
   "cell_type": "markdown",
   "metadata": {},
   "source": [
    "Load data\n",
    "\n",
    "x-bar run chart"
   ]
  },
  {
   "cell_type": "code",
   "execution_count": null,
   "metadata": {},
   "outputs": [],
   "source": []
  },
  {
   "cell_type": "markdown",
   "metadata": {},
   "source": [
    "--------------\n",
    "## Next Steps:\n",
    "\n",
    "1. Advance to [Unit 6](../06-regression-classification/unit06-lesson.ipynb) when you're ready for the next step"
   ]
  }
 ],
 "metadata": {
  "kernelspec": {
   "display_name": "Python 3.8.13 ('base')",
   "language": "python",
   "name": "python3"
  },
  "language_info": {
   "codemirror_mode": {
    "name": "ipython",
    "version": 3
   },
   "file_extension": ".py",
   "mimetype": "text/x-python",
   "name": "python",
   "nbconvert_exporter": "python",
   "pygments_lexer": "ipython3",
   "version": "3.8.13"
  },
  "orig_nbformat": 4,
  "vscode": {
   "interpreter": {
    "hash": "2af3520cf2d099315c509e23b0f679c1508a4671732b5e09eee0e9586de4a344"
   }
  }
 },
 "nbformat": 4,
 "nbformat_minor": 2
}
