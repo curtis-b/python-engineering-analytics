{
 "cells": [
  {
   "cell_type": "markdown",
   "metadata": {},
   "source": [
    "# Unit 5: Statistical Analysis\n",
    "------------------------------\n",
    "\n",
    "- Calculate and plot the histogram for a dataset\n",
    "- Calculate random samples from a distribution\n",
    "- Calculate a confidence interval\n",
    "- Central limit theorem\n",
    "- Create an x-bar R run chart"
   ]
  },
  {
   "cell_type": "markdown",
   "metadata": {},
   "source": [
    "## 5.1. Calculating and plotting a histogram\n",
    "\n",
    "The histogram is a common visualization taught in statistics classes. It helps us to summarize a large set of values to observe the spread of a data set. To generate a histogram, we first define a set of *bins* that are relevent for our dataset. For example, if we were looking at ages of people, we might consider bins with a width of 10 years (0-9 years, 10-19 years, 20-29 years, ...). Then, as you go through the data, you will count the number of entries that fall within each bin. The results of this process are typically visualized as a bar graph, with no space in between the bars.\n",
    "\n",
    "### 5.1.1. Plotting the histogram in `matplotlib`\n",
    "\n",
    "In the example below, we load a set of tensile modulus measurements for polymer films. The `matplotlib` package provides a function `hist(x)` that can be used to easily plot a histogram for a set of data. This function will figure out the bin size and spacing on its own. By viewing the sample below, we can quickly identify that this dataset appears to have two separate distributions, which may indicate that it represents two different polymer films."
   ]
  },
  {
   "cell_type": "code",
   "execution_count": null,
   "metadata": {},
   "outputs": [],
   "source": [
    "import numpy as np\n",
    "import matplotlib.pyplot as plt\n",
    "\n",
    "plt.style.use('ggplot')\n",
    "\n",
    "modulus = np.loadtxt('../../data/bopet_modulus-MPa.csv')\n",
    "\n",
    "fig, ax = plt.subplots() \n",
    "\n",
    "ax.hist(modulus)\n",
    "ax.set_xlabel('Tensile Modulus (MPa)')\n",
    "ax.set_ylabel('Count')"
   ]
  },
  {
   "cell_type": "markdown",
   "metadata": {},
   "source": [
    "We have options in how we can set up the bins. In addition to the data array. The `hist()` function has an additional parameter called `bins` that can be used to either set a number of bins, or to fix the bin edges. In the example below, we set the bin count to 50. While it might seem like more bins will always improve resolution, there is a point at which you make the bins too narrow and you lose sight of the distribution."
   ]
  },
  {
   "cell_type": "code",
   "execution_count": null,
   "metadata": {},
   "outputs": [],
   "source": [
    "fig, ax = plt.subplots() \n",
    "\n",
    "ax.hist(modulus, bins=50, density=True)\n",
    "ax.set_xlabel('Tensile Modulus (MPa)')\n",
    "ax.set_ylabel('Density')"
   ]
  },
  {
   "cell_type": "markdown",
   "metadata": {},
   "source": [
    "Additionally, you can set the actual bin edges. Recall the `np.arange()` function that we learned in Unit 2."
   ]
  },
  {
   "cell_type": "code",
   "execution_count": null,
   "metadata": {},
   "outputs": [],
   "source": [
    "bin_edges = np.arange(4300, 5700, 100)\n",
    "\n",
    "fig, ax = plt.subplots() \n",
    "\n",
    "ax.hist(modulus, bins=bin_edges)\n",
    "ax.set_xlabel('Tensile Modulus (MPa)')\n",
    "ax.set_ylabel('Count')"
   ]
  },
  {
   "cell_type": "markdown",
   "metadata": {},
   "source": [
    "### Calculating the histogram values in `numpy`\n",
    "\n",
    "Sometimes, it is helpful to have the actual data, so that you can do something with it, like plotting a "
   ]
  },
  {
   "cell_type": "code",
   "execution_count": null,
   "metadata": {},
   "outputs": [],
   "source": [
    "counts, bins = np.histogram(modulus, bins=bin_edges)\n",
    "\n",
    "counts, bins"
   ]
  },
  {
   "cell_type": "code",
   "execution_count": null,
   "metadata": {},
   "outputs": [],
   "source": [
    "fig, ax = plt.subplots() \n",
    "\n",
    "counts, bins, bars = ax.hist(modulus, bins=bin_edges)\n",
    "ax.set_xlabel('Tensile Modulus (MPa)')\n",
    "ax.set_ylabel('Count')\n",
    "\n",
    "counts, bins"
   ]
  },
  {
   "cell_type": "markdown",
   "metadata": {},
   "source": [
    "### 5.1.2. Adding the cumulative sum"
   ]
  },
  {
   "cell_type": "code",
   "execution_count": null,
   "metadata": {},
   "outputs": [],
   "source": [
    "fig, ax = plt.subplots() \n",
    "\n",
    "counts, bins, bars = ax.hist(modulus, bins=bin_edges)\n",
    "ax.plot(bins[0:-1] + 50, counts.cumsum())\n",
    "\n",
    "ax.set_xlabel('Tensile Modulus (MPa)')\n",
    "ax.set_ylabel('Count')"
   ]
  },
  {
   "cell_type": "code",
   "execution_count": null,
   "metadata": {},
   "outputs": [],
   "source": [
    "fig, ax = plt.subplots() \n",
    "\n",
    "counts, bins, bars = ax.hist(modulus, bins=bin_edges)\n",
    "ax2 = ax.twinx()\n",
    "ax2.plot(bins[0:-1] + 50, counts.cumsum())\n",
    "\n",
    "ax.set_xlabel('Tensile Modulus (MPa)')\n",
    "ax.set_ylabel('Count')"
   ]
  },
  {
   "cell_type": "code",
   "execution_count": null,
   "metadata": {},
   "outputs": [],
   "source": [
    "fig, ax = plt.subplots() \n",
    "\n",
    "counts, bins, bars = ax.hist(modulus, bins=bin_edges, alpha=0.5)\n",
    "ax.set_xlabel('Tensile Modulus (MPa)')\n",
    "ax.set_ylabel('Count')\n",
    "ax.set_ylim((0, 12))\n",
    "\n",
    "ax2 = ax.twinx()\n",
    "ax2.plot(bins[0:-1] + 50, counts.cumsum())\n",
    "ax2.set_ylabel('Cumulative Sum')\n",
    "ax2.set_ylim((0, 60))\n",
    "ax2.grid(False)\n"
   ]
  },
  {
   "cell_type": "markdown",
   "metadata": {},
   "source": [
    "### 5.1.3. Overlaying the normal distribution\n",
    "\n"
   ]
  },
  {
   "cell_type": "code",
   "execution_count": null,
   "metadata": {},
   "outputs": [],
   "source": [
    "from scipy import stats\n",
    "\n",
    "fig, ax = plt.subplots() \n",
    "\n",
    "counts, bins, bars = ax.hist(modulus, bins=bin_edges, density=True, alpha=0.5)\n",
    "ax.set_xlabel('Tensile Modulus (MPa)')\n",
    "ax.set_ylabel('Frequency')\n",
    "\n",
    "x = np.linspace(modulus.min()-modulus.std(), modulus.max()+modulus.std(), 100)\n",
    "pdf = stats.norm.pdf(x, loc=modulus.mean(), scale=modulus.std())\n",
    "\n",
    "ax.plot(x, pdf)\n",
    "\n"
   ]
  },
  {
   "cell_type": "code",
   "execution_count": null,
   "metadata": {},
   "outputs": [],
   "source": [
    "fig, ax = plt.subplots() \n",
    "\n",
    "counts, bins, bars = ax.hist(modulus, bins=bin_edges, density=True, alpha=0.5)\n",
    "ax.set_xlabel('Tensile Modulus (MPa)')\n",
    "ax.set_ylabel('Frequency')\n",
    "\n",
    "x = np.linspace(modulus.min()-modulus.std(), modulus.max()+modulus.std(), 100)\n",
    "pdf = stats.norm.pdf(x, loc=modulus.mean(), scale=modulus.std())\n",
    "\n",
    "\n",
    "lower_limit = modulus.mean() - modulus.std()\n",
    "upper_limit = modulus.mean() + modulus.std()\n",
    "\n",
    "ax.plot(x, pdf)\n",
    "ax.fill_between(x, 0, pdf, where=((x>lower_limit) & (x<upper_limit)), alpha=0.8)\n",
    "\n"
   ]
  },
  {
   "cell_type": "code",
   "execution_count": null,
   "metadata": {},
   "outputs": [],
   "source": []
  },
  {
   "cell_type": "code",
   "execution_count": null,
   "metadata": {},
   "outputs": [],
   "source": [
    "np.random.random()"
   ]
  },
  {
   "cell_type": "code",
   "execution_count": null,
   "metadata": {},
   "outputs": [],
   "source": []
  },
  {
   "cell_type": "code",
   "execution_count": null,
   "metadata": {},
   "outputs": [],
   "source": []
  },
  {
   "cell_type": "markdown",
   "metadata": {},
   "source": [
    "--------------\n",
    "## Next Steps:\n",
    "\n",
    "1. Complete the [Unit 5 Problems](./unit05-solutions.ipynb) to test your understanding\n",
    "2. Advance to [Unit 6](../06-regression-classification/unit06-lesson.ipynb) when you're ready for the next step"
   ]
  }
 ],
 "metadata": {
  "kernelspec": {
   "display_name": "Python 3.8.5 ('base')",
   "language": "python",
   "name": "python3"
  },
  "language_info": {
   "codemirror_mode": {
    "name": "ipython",
    "version": 3
   },
   "file_extension": ".py",
   "mimetype": "text/x-python",
   "name": "python",
   "nbconvert_exporter": "python",
   "pygments_lexer": "ipython3",
   "version": "3.8.5"
  },
  "orig_nbformat": 4,
  "vscode": {
   "interpreter": {
    "hash": "2af3520cf2d099315c509e23b0f679c1508a4671732b5e09eee0e9586de4a344"
   }
  }
 },
 "nbformat": 4,
 "nbformat_minor": 2
}
