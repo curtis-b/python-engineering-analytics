{
 "cells": [
  {
   "cell_type": "markdown",
   "metadata": {},
   "source": [
    "# Assessment: Unit 5\n",
    "--------------------\n",
    "\n",
    "Complete the problems below in your copy of the Jupyter Notebook."
   ]
  },
  {
   "cell_type": "markdown",
   "metadata": {},
   "source": [
    "## Problem 5.1.\n",
    "\n",
    "For this problem, assume $\\mu=15$, $\\sigma=3.5$\n",
    "\n",
    "1. Random sampling 20 values from the normal distribution\n",
    "2. Plot a histogram of these randomly sampled values as a population density\n",
    "3. Overlay the normal probability function\n",
    "4. Using the t distribution, calculate the 95% confidence interval for the mean of the random sample, and identify this range with dashed vertical lines"
   ]
  },
  {
   "cell_type": "code",
   "execution_count": 2,
   "metadata": {},
   "outputs": [],
   "source": [
    "# problem 5.1. solution\n"
   ]
  },
  {
   "cell_type": "markdown",
   "metadata": {},
   "source": [
    "## Problem 5.2.\n",
    "\n",
    "The `physical_properties` workseet in the `film_testing.xlsx` file contains long-form data on the physical properties of a number of polymer films. Use this data to compare the dart impact energy of BOPP and BOPET films. Plot the histograms, and test the data to determine if there is there is statistical evidence that these two film chemistries have a different impact strength. Assume that the data for each film type is sampled from the normal distribution, but the variance for each film type may not be the same."
   ]
  },
  {
   "cell_type": "code",
   "execution_count": 3,
   "metadata": {},
   "outputs": [],
   "source": [
    "# problem 5.2. solution\n"
   ]
  },
  {
   "cell_type": "markdown",
   "metadata": {},
   "source": [
    "## Problem 5.3.\n",
    "\n",
    "The *basis weight* (mass / unit area) is a common quality measurement in the production of polymer films. The file `basis_weight.txt` contains a series of basis weight values in grams per square meter, with no column heading. Load this data set and construct an $\\bar{x}$ run chart of the data, using $n=4$ and setting limits of $\\pm 1.5 \\sigma$. Use the first 15 $\\bar{x}$ points to estimate the mean and standard deviation of the data. Plot any out of control points with an \"x\" marker and comment on what is observed."
   ]
  },
  {
   "cell_type": "code",
   "execution_count": 4,
   "metadata": {},
   "outputs": [],
   "source": [
    "# problem 5.3. solution\n",
    "\n",
    "import matplotlib.pyplot as plt\n",
    "import numpy as np\n"
   ]
  },
  {
   "cell_type": "markdown",
   "metadata": {},
   "source": [
    "--------------\n",
    "## Next Steps:\n",
    "\n",
    "1. Check your work with the [Unit 5 Solutions](./unit05-solutions.ipynb)\n",
    "1. Advance to [Unit 6](../06-regression-classification/unit06-lesson.ipynb) when you're ready for the next step"
   ]
  }
 ],
 "metadata": {
  "kernelspec": {
   "display_name": "Python 3.8.13 ('base')",
   "language": "python",
   "name": "python3"
  },
  "language_info": {
   "codemirror_mode": {
    "name": "ipython",
    "version": 3
   },
   "file_extension": ".py",
   "mimetype": "text/x-python",
   "name": "python",
   "nbconvert_exporter": "python",
   "pygments_lexer": "ipython3",
   "version": "3.8.13"
  },
  "orig_nbformat": 4,
  "vscode": {
   "interpreter": {
    "hash": "2af3520cf2d099315c509e23b0f679c1508a4671732b5e09eee0e9586de4a344"
   }
  }
 },
 "nbformat": 4,
 "nbformat_minor": 2
}
