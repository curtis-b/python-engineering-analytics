{
 "cells": [
  {
   "cell_type": "markdown",
   "metadata": {},
   "source": [
    "# Assessment: Unit 4\n",
    "--------------------\n",
    "\n",
    "Complete the problems below in your copy of the Jupyter Notebook."
   ]
  },
  {
   "cell_type": "markdown",
   "metadata": {},
   "source": [
    "## Problem 4.1.\n",
    "\n",
    "Polymer films are commonly tested by clamping the film between two points, starting at a known separation distance, $l_0$ and beginning to move one of the clamps away from the other at a fixed rate. The time, displacement and force are recorded with a microcontroller.\n",
    "\n",
    "Given a starting clamp separation, $l_0$, and clamp displacement, $l$, the elongation of the film is given by\n",
    "\n",
    "$$\\text{elongation}=\\frac{l+l_0}{l_0}=\\frac{l}{l_0}+1$$\n",
    "\n",
    "In addition to the maximum force and elongation to break the film, a \"yield\" point may be observed, where the slope of the force v. elongation curve goes to zero and decreases. This is the result of a \"neck\" forming in the sample. \n",
    "\n",
    "1. Load the data from the `tensile_curve.csv` file into a `pandas.DataFrame`\n",
    "2. Compute the elongation from the displacement data, assuming a starting separation of 50 cm\n",
    "3. Smooth the noisy force data by computing the rolling mean over an interval $N=5$, centering the value in the interval\n",
    "4. Identify the yield point\n",
    "   - Compute the numerical derivative of the force/elongation curve\n",
    "   - Find the first zero of the derivative\n",
    "5. Plot the results of the analysis\n",
    "   - The raw force, elongation data as scatter points\n",
    "   - The smoothed\n",
    "\n",
    "\n",
    "\n",
    "Filter by categorial variable and plot scatter with smoothing\n",
    "\n"
   ]
  },
  {
   "cell_type": "code",
   "execution_count": null,
   "metadata": {},
   "outputs": [],
   "source": [
    "import pandas as pd\n",
    "import numpy as np\n",
    "import matplotlib.pyplot as plt\n",
    "\n",
    "df = pd.read_csv('../../data/tensile_curve.csv')\n",
    "\n",
    "\n",
    "# compute the elongation\n",
    "df['Elongation'] = df['Displacement'] / 50 + 1\n",
    "\n",
    "# apply rolling mean\n",
    "N = 5\n",
    "df['Smoothed'] = df['Force'].rolling(N, center=True).mean()\n",
    "\n",
    "# compute the derivative\n",
    "df['Derivative'] = df['Smoothed'].diff() / df['Elongation'].diff()\n",
    "\n",
    "yield_index = df[df['Derivative']<0].index.min()\n",
    "yield_x = df.iloc[yield_index]['Elongation']\n",
    "yield_y = df.iloc[yield_index]['Force']\n",
    "\n",
    "\n",
    "fig, ax = plt.subplots()\n",
    "\n",
    "ax.scatter(df['Elongation'], df['Force'])\n",
    "ax.plot(df['Elongation'], df['Smoothed'])\n",
    "\n",
    "ax.set_xlabel('Elongation (%)')\n",
    "ax.set_ylabel('Force (N)')\n",
    "\n",
    "ax.annotate('Yield', (yield_x, yield_y), (0.8*yield_x, 1.2*yield_y), arrowprops={'width': 1})"
   ]
  },
  {
   "cell_type": "markdown",
   "metadata": {},
   "source": [
    "## Problem 4.2.\n",
    "\n",
    "Plot the mean modulus in MPa for a series of polymer films, using the `ggplot` style.\n",
    "\n",
    "1. Load the file `film_testing.xlsx` into a `pandas.DataFrame`\n",
    "2. Select the \"Tensile Modulus\" data\n",
    "3. Create a pivot table of this measurement, by film id\n",
    "4. Create a bar chart with the mean values of the modulus, by grade\n",
    "5. Label the plot axes"
   ]
  },
  {
   "cell_type": "code",
   "execution_count": null,
   "metadata": {},
   "outputs": [],
   "source": [
    "import pandas as pd\n",
    "import numpy as np\n",
    "import matplotlib.pyplot as plt\n",
    "\n",
    "plt.style.use('ggplot')\n",
    "\n",
    "# load data and filter\n",
    "df = pd.read_excel('../../data/film_testing.xlsx', sheet_name='physical_properties')\n",
    "df_mod = df[df['Property']=='Tensile Modulus']\n",
    "\n",
    "# pivot to average by film id\n",
    "pt = df_mod.pivot_table('Measurement', index='FilmID', aggfunc='mean')\n",
    "\n",
    "# create a range for the x-values in the plot\n",
    "x = np.arange(len(pt))\n",
    "\n",
    "# plot the bar\n",
    "fig, ax = plt.subplots()\n",
    "ax.bar(x, pt['Measurement'])\n",
    "\n",
    "# set the x tick marks and labels\n",
    "ax.set_xticks(x)\n",
    "ax.set_xticklabels(pt.index)\n",
    "\n",
    "# label the plot axes\n",
    "ax.set_xlabel('Film')\n",
    "ax.set_ylabel('Tensile Modulus (MPa)')"
   ]
  },
  {
   "cell_type": "markdown",
   "metadata": {},
   "source": [
    "## Problem 4.3."
   ]
  },
  {
   "cell_type": "markdown",
   "metadata": {},
   "source": [
    "Numerical integration of DSC data to calculate total energy"
   ]
  },
  {
   "cell_type": "markdown",
   "metadata": {},
   "source": [
    "--------------\n",
    "## Next Steps:\n",
    "\n",
    "1. Advance to [Unit 5](../05-/unit05-lesson.ipynb) when you're ready for the next step"
   ]
  }
 ],
 "metadata": {
  "kernelspec": {
   "display_name": "Python 3.8.13 ('base')",
   "language": "python",
   "name": "python3"
  },
  "language_info": {
   "codemirror_mode": {
    "name": "ipython",
    "version": 3
   },
   "file_extension": ".py",
   "mimetype": "text/x-python",
   "name": "python",
   "nbconvert_exporter": "python",
   "pygments_lexer": "ipython3",
   "version": "3.8.13"
  },
  "orig_nbformat": 4,
  "vscode": {
   "interpreter": {
    "hash": "2af3520cf2d099315c509e23b0f679c1508a4671732b5e09eee0e9586de4a344"
   }
  }
 },
 "nbformat": 4,
 "nbformat_minor": 2
}
