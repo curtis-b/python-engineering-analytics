{
 "cells": [
  {
   "cell_type": "markdown",
   "metadata": {},
   "source": [
    "# Assessment: Unit 4\n",
    "--------------------\n",
    "\n",
    "Complete the problems below in your copy of the Jupyter Notebook."
   ]
  },
  {
   "cell_type": "markdown",
   "metadata": {},
   "source": [
    "## Problem 4.1.\n",
    "\n",
    "Polymer films are commonly tested by clamping the film between two points, starting at a known separation distance, $l_0$. One of the clamps is then mechanically driven away from the other at a fixed rate. The time, displacement and force are recorded with a microcontroller.\n",
    "\n",
    "Given a starting clamp separation, $l_0$, and clamp displacement, $\\Delta l$, the elongation of the film is given by\n",
    "\n",
    "$$\\text{elongation}=\\frac{\\Delta l}{l_0}$$\n",
    "\n",
    "In addition to the maximum force and elongation to break the film, a \"yield\" point may be observed, where the slope of the force v. elongation curve goes to zero and decreases. This is the result of a \"neck\" forming in the sample. \n",
    "\n",
    "1. Load the data from the `tensile_curve.csv` file into a `pandas.DataFrame`\n",
    "2. Compute the elongation from the displacement data, assuming a starting separation of 50 cm\n",
    "3. Smooth the noisy force data by computing the rolling mean over an interval $n=51$, centering the value in the interval\n",
    "4. Identify the yield point\n",
    "   - Compute the numerical derivative of the force/elongation curve\n",
    "   - Find the first zero of the derivative\n",
    "5. Plot the results of the analysis from 0 to 200% elongation\n",
    "   - Scatter plot every 500th point of the force, elongation data\n",
    "   - The smoothed curve as a line\n",
    "6. Label the yield point on the plot"
   ]
  },
  {
   "cell_type": "code",
   "execution_count": null,
   "metadata": {},
   "outputs": [],
   "source": [
    "# problem 4.1. solution\n",
    " \n",
    "import pandas as pd\n",
    "import numpy as np\n",
    "import matplotlib.pyplot as plt\n",
    "\n",
    "plt.style.use('ggplot')\n",
    "\n",
    "# read the data\n",
    "tensile_df = pd.read_csv('../../data/tensile_curve.csv')\n",
    "tensile_df.head()"
   ]
  },
  {
   "cell_type": "code",
   "execution_count": null,
   "metadata": {},
   "outputs": [],
   "source": [
    "# compute the percent elongation\n",
    "tensile_df['Elongation'] = 100*(tensile_df['Displacement (mm)'] / 50)\n",
    "\n",
    "# apply rolling mean\n",
    "n = 51\n",
    "tensile_df['Smoothed'] = tensile_df['Force (N)'].rolling(n, center=True).mean()\n",
    "\n",
    "# compute the derivative on the smoothed data\n",
    "tensile_df['Derivative'] = tensile_df['Smoothed'].diff() / tensile_df['Elongation'].diff()\n",
    "\n",
    "# the derivative starts positive, so find the first index where it is below 0\n",
    "yield_index = tensile_df[tensile_df['Derivative']<0].index.min()\n",
    "\n",
    "# get the x, y points for the yield point\n",
    "yield_x = tensile_df.iloc[yield_index]['Elongation']\n",
    "yield_y = tensile_df.iloc[yield_index]['Force (N)']\n",
    "\n",
    "# plot the results\n",
    "fig, ax = plt.subplots()\n",
    "\n",
    "# use iloc slicing to select every 500th point\n",
    "ax.scatter(tensile_df['Elongation'].iloc[::500], tensile_df['Force (N)'].iloc[::500], marker='x')\n",
    "\n",
    "# plot the smoothed curve as a line\n",
    "ax.plot(tensile_df['Elongation'], tensile_df['Smoothed'], c='black')\n",
    "\n",
    "ax.set_xlabel('Elongation (%)')\n",
    "ax.set_ylabel('Force (N)')\n",
    "\n",
    "# label the yield\n",
    "ax.annotate('Yield', (yield_x, yield_y), (0.8*yield_x, 1.5*yield_y), arrowprops={'width': 1}, ha='center')"
   ]
  },
  {
   "cell_type": "markdown",
   "metadata": {},
   "source": [
    "## Problem 4.2.\n",
    "\n",
    "The `physical_properties` worksheet in `film_testing.xlsx` contains a long-form data set with a variety of measured film properties. Plot the mean \"Tensile Modulus\" (in MPa, as provided) for each polymer film, using the `ggplot` style.\n",
    "\n",
    "1. Load the `film_testing.xlsx` file\n",
    "2. Select the \"Tensile Modulus\" data\n",
    "3. Create a pivot table of this measurement, by film id\n",
    "4. Create a bar chart with the mean values of the modulus, by grade\n",
    "5. Label the plot axes"
   ]
  },
  {
   "cell_type": "code",
   "execution_count": null,
   "metadata": {},
   "outputs": [],
   "source": [
    "# problem 4.2. solution\n",
    "\n",
    "import pandas as pd\n",
    "import numpy as np\n",
    "import matplotlib.pyplot as plt\n",
    "\n",
    "plt.style.use('ggplot')\n",
    "\n",
    "# load data and filter\n",
    "film_df = pd.read_excel('../../data/film_testing.xlsx', sheet_name='physical_properties')\n",
    "film_df.head()"
   ]
  },
  {
   "cell_type": "code",
   "execution_count": null,
   "metadata": {},
   "outputs": [],
   "source": [
    "modulus_df = film_df[film_df['Property']=='Tensile Modulus']\n",
    "\n",
    "# pivot to average by film id\n",
    "modulus_pt = modulus_df.pivot_table(values='Measurement', index='FilmID', aggfunc='mean')\n",
    "\n",
    "# create a range for the x-values in the plot\n",
    "x = np.arange(len(modulus_pt))\n",
    "\n",
    "# plot the bar\n",
    "fig, ax = plt.subplots()\n",
    "ax.bar(x, modulus_pt['Measurement'])\n",
    "\n",
    "# set the x tick marks and labels\n",
    "ax.set_xticks(x)\n",
    "ax.set_xticklabels(modulus_pt.index)\n",
    "\n",
    "# label the plot axes\n",
    "ax.set_xlabel('Film')\n",
    "ax.set_ylabel('Tensile Modulus (MPa)')"
   ]
  },
  {
   "cell_type": "markdown",
   "metadata": {},
   "source": [
    "## Problem 4.3.\n",
    "\n",
    "A data set containing the results of a heat sealing test was introduced previously in Problem 3.3. Refer back to that problem set for further background. Load the file, `seal_curve.csv`, into a `DataFrame` object. At each test temperature there are 3 replicate measurements. \n",
    "\n",
    "1. Use a pivot table to average the results for each temperature\n",
    "2. Scatter plot the average of the `peak_strength` measurements as a function of temperature\n",
    "   - As in Problem 3.3, plot the points with a \"peelable\" failure mode as an 'x' and points with a \"destruct\" failure mode as a square\n",
    "   - Plot a horizontal line at the force where the failure mode changes from peelable to destruct\n",
    "3. Add a solid line, showing the heat seal curve smoothed by the rolling mean with n=3\n",
    "4. Additionally, for each temperature calculate the minimum and maximum force that was measured\n",
    "   - Smooth the min/max values using a rolling mean with n=3\n",
    "   - Plot this range as a semi-transparent band using the function [`Axes.fill_between(x, y_min, y_max)`](https://matplotlib.org/stable/api/_as_gen/matplotlib.axes.Axes.fill_between.html)\n",
    "5. Save the plot to the output director as `problem4-3.png`"
   ]
  },
  {
   "cell_type": "code",
   "execution_count": null,
   "metadata": {},
   "outputs": [],
   "source": [
    "# problem 4.3. solution\n",
    "\n",
    "# load the data\n",
    "seal_df = pd.read_csv('../../data/seal_curve.csv')\n",
    "seal_df.head()"
   ]
  },
  {
   "cell_type": "code",
   "execution_count": null,
   "metadata": {},
   "outputs": [],
   "source": [
    "# part 1\n",
    "# calculate the average value at each temperature\n",
    "# include the failure mode in the data set so that we can use it for plotting\n",
    "seal_pt = seal_df.pivot_table(index='temperature', values=['peak_strength', 'failure_mode'], aggfunc='mean')\n",
    "\n",
    "\n",
    "# part 2\n",
    "# separate the data into peelable and destruct data sets\n",
    "# because the failure mode is averaged, allow for non-integer values\n",
    "peelable_df = seal_pt[seal_pt['failure_mode']<0.5]\n",
    "destruct_df = seal_pt[seal_pt['failure_mode']>=0.5]\n",
    "\n",
    "# compute the force and temperature, as done in Problem 3.3\n",
    "destruct_force = (peelable_df['peak_strength'].max() + destruct_df['peak_strength'].min())/2\n",
    "initiation_temp = (peelable_df.index.max() + destruct_df.index.min())/2\n",
    "\n",
    "# smooth the data using a rolling mean, centered in the window\n",
    "seal_smoothed = seal_pt['peak_strength'].rolling(3, center=True).mean()\n",
    "\n",
    "fig, ax = plt.subplots()\n",
    "\n",
    "ax.scatter(peelable_df.index, peelable_df['peak_strength'], marker='x')\n",
    "ax.scatter(destruct_df.index, destruct_df['peak_strength'], marker='s')\n",
    "\n",
    "ax.plot(seal_pt.index, seal_smoothed)\n",
    "\n",
    "ax.set_xlabel('Temperature (°C)')\n",
    "ax.set_ylabel('Force (N)')\n",
    "\n",
    "\n",
    "# part 3\n",
    "ax.axhline(destruct_force, ls='--', zorder=0, alpha=0.5)\n",
    "ax.text(80, 60, f'Initiation Temperature: {initiation_temp:0.0f}°C')\n",
    "\n",
    "\n",
    "# part 4: calculate the minimum and maximum values\n",
    "seal_pt_minmax = seal_df.pivot_table(index='temperature', values='peak_strength', aggfunc=['min', 'max'])\n",
    "\n",
    "# create a series with the rolling mean smoothed minimum\n",
    "seal_min = seal_pt_minmax['min']['peak_strength'].rolling(3, center=True).mean()\n",
    "\n",
    "# create a series with the rolling mean smoothed maximum\n",
    "seal_max = seal_pt_minmax['max']['peak_strength'].rolling(3, center=True).mean()\n",
    "\n",
    "# use the fill-between to plot this band\n",
    "ax.fill_between(seal_pt_minmax.index, seal_min, seal_max, alpha=0.5, zorder=1)\n",
    "\n",
    "\n",
    "# part 5: save the figure\n",
    "plt.savefig('../../output/problem4-3-solution.png', dpi=300)"
   ]
  },
  {
   "cell_type": "markdown",
   "metadata": {},
   "source": [
    "--------------\n",
    "## Next Steps:\n",
    "\n",
    "1. Advance to [Unit 5](../05-statistics/unit05-lesson.ipynb) when you're ready for the next step"
   ]
  }
 ],
 "metadata": {
  "kernelspec": {
   "display_name": "Python 3.8.13 ('base')",
   "language": "python",
   "name": "python3"
  },
  "language_info": {
   "codemirror_mode": {
    "name": "ipython",
    "version": 3
   },
   "file_extension": ".py",
   "mimetype": "text/x-python",
   "name": "python",
   "nbconvert_exporter": "python",
   "pygments_lexer": "ipython3",
   "version": "3.8.13"
  },
  "orig_nbformat": 4,
  "vscode": {
   "interpreter": {
    "hash": "2af3520cf2d099315c509e23b0f679c1508a4671732b5e09eee0e9586de4a344"
   }
  }
 },
 "nbformat": 4,
 "nbformat_minor": 2
}
