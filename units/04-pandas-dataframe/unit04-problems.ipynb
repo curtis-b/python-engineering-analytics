{
 "cells": [
  {
   "cell_type": "markdown",
   "metadata": {},
   "source": [
    "# Assessment: Unit 4\n",
    "--------------------\n",
    "\n",
    "Complete the problems below in your copy of the Jupyter Notebook."
   ]
  },
  {
   "cell_type": "markdown",
   "metadata": {},
   "source": [
    "## Problem 4.1.\n",
    "\n",
    "Polymer films are commonly tested by clamping the film between two points, starting at a known separation distance, $l_0$. One of the clamps is then mechanically driven away from the other at a fixed rate. The time, displacement and force are recorded with a microcontroller.\n",
    "\n",
    "Given a starting clamp separation, $l_0$, and clamp displacement, $\\Delta l$, the elongation of the film is given by\n",
    "\n",
    "$$\\text{elongation}=\\frac{\\Delta l}{l_0}$$\n",
    "\n",
    "In addition to the maximum force and elongation to break the film, a \"yield\" point may be observed, where the slope of the force v. elongation curve goes to zero and decreases. This is the result of a \"neck\" forming in the sample. \n",
    "\n",
    "1. Load the data from the `tensile_curve.csv` file into a `pandas.DataFrame`\n",
    "2. Compute the elongation from the displacement data, assuming a starting separation of 50 cm\n",
    "3. Smooth the noisy force data by computing the rolling mean over an interval $n=51$, centering the value in the interval\n",
    "4. Identify the yield point\n",
    "   - Compute the numerical derivative of the force/elongation curve\n",
    "   - Find the first zero of the derivative\n",
    "5. Plot the results of the analysis from 0 to 200% elongation\n",
    "   - Scatter plot every 500th point of the force, elongation data\n",
    "   - The smoothed curve as a line\n",
    "6. Label the yield point on the plot"
   ]
  },
  {
   "cell_type": "code",
   "execution_count": 4,
   "metadata": {},
   "outputs": [],
   "source": [
    "# problem 4.1. solution\n"
   ]
  },
  {
   "cell_type": "markdown",
   "metadata": {},
   "source": [
    "## Problem 4.2.\n",
    "\n",
    "The `physical_properties` worksheet in `film_testing.xlsx` contains a long-form data set with a variety of measured film properties. Plot the mean \"Tensile Modulus\" (in MPa, as provided) for each polymer film, using the `ggplot` style.\n",
    "\n",
    "1. Load the `film_testing.xlsx` file\n",
    "2. Select the \"Tensile Modulus\" data\n",
    "3. Create a pivot table of this measurement, by film id\n",
    "4. Create a bar chart with the mean values of the modulus, by grade\n",
    "5. Label the plot axes"
   ]
  },
  {
   "cell_type": "code",
   "execution_count": 2,
   "metadata": {},
   "outputs": [],
   "source": [
    "# problem 4.2. solution\n"
   ]
  },
  {
   "cell_type": "markdown",
   "metadata": {},
   "source": [
    "## Problem 4.3.\n",
    "\n",
    "A data set containing the results of a heat sealing test was introduced previously in Problem 3.3. Refer back to that problem set for further background. Load the file, `seal_curve.csv`, into a `DataFrame` object. At each test temperature there are 3 replicate measurements. \n",
    "\n",
    "1. Use a pivot table to average the results for each temperature\n",
    "2. Scatter plot the average of the `peak_strength` measurements as a function of temperature\n",
    "   - As in Problem 3.3, plot the points with a \"peelable\" failure mode as an 'x' and points with a \"destruct\" failure mode as a square\n",
    "   - Plot a horizontal line at the force where the failure mode changes from peelable to destruct\n",
    "3. Add a solid line, showing the heat seal curve smoothed by the rolling mean with n=3\n",
    "4. Additionally, for each temperature calculate the minimum and maximum force that was measured\n",
    "   - Smooth the min/max values using a rolling mean with n=3\n",
    "   - Plot this range as a semi-transparent band using the function [`Axes.fill_between(x, y_min, y_max)`](https://matplotlib.org/stable/api/_as_gen/matplotlib.axes.Axes.fill_between.html)\n",
    "5. Save the plot to the output director as `problem4-3.png`"
   ]
  },
  {
   "cell_type": "code",
   "execution_count": 1,
   "metadata": {},
   "outputs": [],
   "source": [
    "# problem 4.3. solution\n"
   ]
  },
  {
   "cell_type": "markdown",
   "metadata": {},
   "source": [
    "--------------\n",
    "## Next Steps:\n",
    "\n",
    "1. Check your work with the [Unit 4 Solutions](./unit04-solutions.ipynb)\n",
    "2. Advance to [Unit 5](../05-statistics/unit05-lesson.ipynb) when you're ready for the next step"
   ]
  }
 ],
 "metadata": {
  "kernelspec": {
   "display_name": "Python 3.8.13 ('base')",
   "language": "python",
   "name": "python3"
  },
  "language_info": {
   "codemirror_mode": {
    "name": "ipython",
    "version": 3
   },
   "file_extension": ".py",
   "mimetype": "text/x-python",
   "name": "python",
   "nbconvert_exporter": "python",
   "pygments_lexer": "ipython3",
   "version": "3.8.13"
  },
  "orig_nbformat": 4,
  "vscode": {
   "interpreter": {
    "hash": "2af3520cf2d099315c509e23b0f679c1508a4671732b5e09eee0e9586de4a344"
   }
  }
 },
 "nbformat": 4,
 "nbformat_minor": 2
}
