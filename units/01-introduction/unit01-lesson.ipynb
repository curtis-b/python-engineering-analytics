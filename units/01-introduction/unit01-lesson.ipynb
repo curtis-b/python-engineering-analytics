{
 "cells": [
  {
   "cell_type": "markdown",
   "metadata": {},
   "source": [
    "# Unit 1: Introduction to Python for Engineering Data Analytics\n",
    "\n",
    "As engineers we work with data on a daily basis. You are probably familiar with analyzing data in spreadsheets, statistical software packages and the applications that run equipment or laboratory instruments. Each of these has strengths, so why learn another tool for processing data? \n",
    "\n",
    "Have you ever:\n",
    "- Tried to analyze a dataset that was too large to load as a spreadsheet, and crashed the application?\n",
    "- Struggled to follow the chain of calculations between cells in a spreadsheet that a colleague built?\n",
    "- Given up on creating the data visualization that you sketched in your notebook, because it didn't exist in your office software suite?\n",
    "- Wished you could automate the data visualization (graphing) process so that your graphs looked consistent time after time?\n",
    "- Wanted to try multi-variate regression or deep learning on a data set, but didn't know how to get started?\n",
    "\n",
    "A programming tool like Python or R can help you overcome these challenges. Having spent time working with both languages, I find Python to be the more broadly useful tool so we'll focus there. [Python](https://www.python.org/) is a high-level programming language that has been around since about 1991. It is open-source and free to use. For someone just getting started with engineering data analysis in Python, I recommend installing the [Anaconda Distribution](https://www.anaconda.com/products/distribution), which contains all of the basic modules that you'll need for this course. A full study of the the Python language or computer programming is not in scope for this course. Our focus here is on the application of simple Python concepts, and well-known Python code libraries, to the field of engineering data analysis. I'll assume that you have a basic familiarity with statistics, regression and plotting data. \n",
    "\n",
    "The purpose of this introduction is to provide the non-programmer basic skills in navigating the Jupyter Notebook and creating Python code.\n",
    "\n",
    "**After completing this unit, you should be able to:**\n",
    "\n",
    "- Describe reasons to use Python for data analysis\n",
    "- Add markdown and code cells to a Jupyter Notebook using keyboard shortcuts\n",
    "- Code and execute a Python function\n",
    "- Select one or more elements from a Python list"
   ]
  },
  {
   "cell_type": "markdown",
   "metadata": {},
   "source": [
    "## 1.1. Engineering data analytics\n",
    "\n",
    "Akin to the closely-related term *data science*, *engineering data analytics* is a specialization that cuts across all disciplines of engineering. While *data science* may not be specific to any particular problem type, we use *engineering data analytics* to focus on problem types and data sets that are relevent to the practicing engineer.\n",
    "\n",
    "To address this specialization, the College of Engineering at the University of Wisconsin offers a specific master's degree program termed *Engineering Data Analytics*. Topics include:\n",
    "\n",
    "- **Statistical data analysis and quality control**<br>\n",
    "Statistic analysis and testing, statistical process control (control charts, etc...).\n",
    "- **Machine learning**<br>\n",
    "Classification and regression, including regularization, kernelized methods, support vector machines and deep learning.\n",
    "- **Data visualization**<br>\n",
    "Plotting data to maximize impact and minimize clutter. \n",
    "- **High-performance computing**<br>\n",
    "Code design for data-heavy and processor-intensive scientific computing, including parallel computing, in C/C++/CUDA. \n",
    "- **Data management**<br>\n",
    "Organization, storage and retrieval of data in SQL databases.\n",
    "\n",
    " This series of lessons is being developed as a project in pursuit of that degree. Because I am obviously most familiar with the UW program, I may reference specific courses that likely have analogs at other academic institutions. We obviously won't cover all elements of a data science or engineering data analytics degree in this short series of units. My focus is to introduce a number of fundamental concepts for data analytics, together with the code to execute the analytics task in the Python programming language. This should allow an engineer to become comfortable using Python for basic data analytics tasks, and to open their eyes to a broader set of resources that are available as problem-solving tools."
   ]
  },
  {
   "cell_type": "markdown",
   "metadata": {},
   "source": [
    "## 1.2. Working with Python and the Jupyter Notebook\n",
    "\n",
    "Python offers you these benefits versus spreadsheets for engineering data analysis:\n",
    "\n",
    "- **Control**: You have complete control over how your program analyzes the data, and don't need to fight against autocorrect  features. When you have code that works, you can easily and automatically run the same processing steps on new or updated dataset.\n",
    "- **Power**: Programming tools can handle large datasets more efficiently than a spreadsheet. Some of the modules for data analytics are already multi-core or GPU-accelerated, but you can also extend Python if necessary by developing custom C/C++ code to further improve speed.\n",
    "- **Documentation**: When immersed in a project, it's easy for me to feel like I'll remember the details forever and that don't need to take good notes. It's never true. Being able to document your analysis steps is critically important to ensuring accuracy of the results, allowing for robust peer review, and being able to reuse the code for a project in the future. Within Python, there are a few ways that we can approach documentation, using Jupyter Notebooks (as we are here) and/or code comments. To me, the fact that a code file is organized step-by-step also helps me to retrace my steps. \n",
    "- **User Community**: Python has an active user community comprising academic institutions, individuals and corporations that publish modules that you can download and use. High-performance matrix math, data analysis and statistics and machine learning packages have been built and published for your use. They seemlessly integrate with Python, and many of the most popular are included with the Anaconda Distribution. When you have a new problem that you've solved, you can also start a project to give your work back to the community (if you choose to). \n",
    "\n",
    "The [Jupyter Notebook](https://jupyter.org/) format is a great way to get started using Python, and can be useful for exploratory data analysis projects. This format allows you to intersperse blocks of code along with formatted text. You can use the formatted text cells to clearly explain your work and, if you choose, export the entire file: text, code and results as a pdf report to share your work. \n",
    "\n",
    "When you run Jupyter on your local computer, it creates a local \"server\" that runs the Python interpreter. A window is opened in your default web browser with the user interface. Every time you \"run\" a cell, that cell is interpreted by Python and the results are stored in memory. When you run the next cell, previous results are still available to you. Jupyter can also be set up on a remote server that you can access, again through a web browser. In this arrangement, the Python is not executed on your computer, but on the remove server.\n",
    "\n",
    "The notebook itself is organized into \"cells\". Before you have clicked into any cells (or after you hit the \"escape\" key), you are in **command-mode**. In this mode, you can move, add, run or delete cells. By clicking into a cell, you enter **edit-mode**, where you can change the contents of the text or code.\n",
    "\n",
    "### 1.2.1. Markdown-formatted text\n",
    "\n",
    "As you can see, there is no toolbar in the Jupyter Notebook to change the font, or set a word to **bold**. So, how do data scientists create great looking text in their notebooks? Jupyter Notebooks use the \"markdown\" text format, which is also commonly used for documentation in github repositories. Markdown uses additional characters to tag and modify the text, like a hashtag (`#`) at the start of a line to denote a top-level heading, or double-asterisks (`**`) enclosing a work to make it bold. An introduction can be found at [markdownguide.org](https://www.markdownguide.org/basic-syntax/). If you really like the markdown format you might check out the note-management app [Obsidian](https://obsidian.md/), which was recommended to me by a professor. The raw markdown-coded text is translated into HTML code when the cell is \"run\" (ctrl-enter), and individuals familiar with web design will recognize concepts such as heading levels.\n",
    "\n",
    "One very cool feature for an engineer is the ability to embed [LaTeX](https://www.latex-project.org/)-encoded equations into your notebooks. LaTeX can be overwhelming when you first see it. But, after using it for a while, I would choose this over Microsoft Equation Editor any day. For example, we might want to write the formula for the standard deviation of a sample:\n",
    "\n",
    "$$s=\\sqrt{\\frac{\\left(x-\\bar{x}\\right)^2}{n-1}}$$\n",
    "\n",
    "By using this code: `$$s=\\sqrt{\\frac{\\left(x-\\bar{x}\\right)^2}{n-1}}$$`. You'll see the code when you enter edit-mode for this cell. The LaTeX equation is identified by enclosing it between the dollar sign (`$`) characters. When the dollar sign is doubled, as in the example, the equation is centered. Words starting with a backslash (`\\`) are LaTeX commands, and the braces (`{}`) group code that that command will act upon. We don't go into more depth on LaTeX formatting here, but it can be useful outside of Jupyter markdown, so I encourage you to seek out more information. Specifically, when we get to the section on plotting using the `matplotlib` library, we'll find that we can incorporate LaTeX-formatted equations in our plot labels and text annotations. You can search the web any find many references to the available LaTeX math symbols, but my favorite reference (which I have printed at my desk) can be downloaded from [https://www.caam.rice.edu/~heinken/latex/symbols.pdf].\n",
    "\n",
    "### 1.2.2. Code\n",
    "\n",
    "Code cells accept Python programming code, just as you would write in other Python programming environments (Idle, Spyder, ...). \n",
    "\n",
    "### 1.2.3. Keyboard Shortcuts\n",
    "\n",
    "The Jupyter Notebook system has a number of keyboard shortcuts that can greatly speed up your work. A complete list of keyboard shortcuts can be accessed by pressing **h** from command-mode. Here are my most-used shortcuts, which I recommend that you commit to memory:\n",
    "\n",
    "| shortcut key | action |\n",
    "|--------------|--------|\n",
    "| `h` | show keyboard shortcuts |\n",
    "| `a` | insert a new cell above the selected cell |\n",
    "| `b` | insert a new cell below the selected cell |\n",
    "| `m` | change the selected cell to a markdown (text) cell |\n",
    "| `y` | change the selected cell to a code cell |\n",
    "| `dd` | delete the selected cell |\n",
    "| `ctrl-enter` | execute the selected cell(s) |\n",
    "| `enter` | enter the selected cell for editing (switch to edit-mode) |\n",
    "| `esc` | exit edit-mode (switch to command-mode) |\n"
   ]
  },
  {
   "cell_type": "markdown",
   "metadata": {},
   "source": [
    "## 1.3. Creating and excecuting Python code\n",
    "\n",
    "### 1.3.1. Variables\n",
    "\n",
    "A core concept in programming is the assigment of values to named variables. In this example, we assign a value of `3` to a variable named `i`, by using the equal sign. Now, any time we reference `i` later in our code, we are retrieving the value that we had previously stored there. "
   ]
  },
  {
   "cell_type": "code",
   "execution_count": null,
   "metadata": {},
   "outputs": [],
   "source": [
    "i = 3"
   ]
  },
  {
   "cell_type": "markdown",
   "metadata": {},
   "source": [
    "We can also supply the variable name to the built-in `print()` function to output the value of the variable to the screen."
   ]
  },
  {
   "cell_type": "code",
   "execution_count": null,
   "metadata": {},
   "outputs": [],
   "source": [
    "print(i)"
   ]
  },
  {
   "cell_type": "markdown",
   "metadata": {},
   "source": [
    "Actually, though, a Jupyter Notebook will automatically display the last item in a cell (unless it is assigned to a variable), without the `print()` function. So, this example does exactly the same thing."
   ]
  },
  {
   "cell_type": "code",
   "execution_count": null,
   "metadata": {},
   "outputs": [],
   "source": [
    "i"
   ]
  },
  {
   "cell_type": "markdown",
   "metadata": {},
   "source": [
    "Python variables can contain numbers, strings (text) or other data types. In this example, we assign a text string (`user_name`) and a number (`user_age`) to variables. Note that the value of the text string is placed inside of quotes. In Python, you can use either single (`'`) or double (`\"`) quotes to enclose the string value. There's even another string type, for multi-line strings, that uses a triple-double quote (`\"\"\"`) at the beginning and end of the string. \n",
    "\n",
    "Now we might want to print those values out to the screen together, in a sentence. Python has an awesome way to insert the values of a variable into another string, called an **f-string**, for the lowercase *f* that preceeds the string value."
   ]
  },
  {
   "cell_type": "code",
   "execution_count": null,
   "metadata": {},
   "outputs": [],
   "source": [
    "user_name = 'Curt'\n",
    "user_age = 40\n",
    "\n",
    "print(f'Happy {user_age}th Birthday, {user_name}')"
   ]
  },
  {
   "cell_type": "markdown",
   "metadata": {},
   "source": [
    "There are few restrictions on how you name variables, but the names you choose can have a profound difference on how easy it is to follow your code. Choose names that are descriptive, so that you don't need to add comments to understand what the variable is. \n",
    "\n",
    "As in other programming languages, Python variable names cannot have spaces. To make multi-word variable name easy to read, there are two typical forms: \n",
    "\n",
    "- **camelCase**: capitalizes the first letter of each word (except the first)\n",
    "- **snake_case**: uses the underscore character between words\n",
    "\n",
    "Either one will get the job done, so there is an element of personal preference. In Python, I more typically see snake_case used, and this is my preference. "
   ]
  },
  {
   "cell_type": "markdown",
   "metadata": {},
   "source": [
    "### 1.3.2. Comments\n",
    "\n",
    "A Python comment is any line that begins with a hashtag character (`#`). The Python interpreter will ignore any text that follows this character, so these comments are for you and others trying to follow your code. Do not underestimate the importance of good code documentation! Even relatively simple code can be difficult to follow after not looking at it for a few weeks or months. Getting in the habit of explaining what you've done is an important skill and, indeed, one of the reasons you should be using a tool like Python for data analysis in the first place! Generally, you won't add comments that only reiterate what the code already says. There may be some examples in these units that are obvious, but included for teaching purposes to explain the code."
   ]
  },
  {
   "cell_type": "code",
   "execution_count": null,
   "metadata": {},
   "outputs": [],
   "source": [
    "# use comments liberally to explain what your code does\n",
    "\n",
    "# assign value to user_name (not a useful comment, too obvious)\n",
    "user_name = 'Curt'"
   ]
  },
  {
   "cell_type": "markdown",
   "metadata": {},
   "source": [
    "### 1.3.3. Basic math operators\n",
    "\n",
    "The basic arithmetic operators (`+`, `-`, `*`, `/`) in Python are just as you would expect from spreadsheets or other math programs that you may have used. Note that an exponent is denoted in Python by a double-asterisk (`**`), not the caret. In the code block below, each of these operators is used on the value of the variable `a`. Each line modifies `a` and re-assigns the new calculated value back into this variable. Try to follow the code below to determine what the ending value of `a` should be. Then, run the code cell to check your understanding. \n",
    "\n",
    "The Python documentation on [Numeric Types](https://docs.python.org/3/library/stdtypes.html#numeric-types-int-float-complex) provides more detail on the available operators."
   ]
  },
  {
   "cell_type": "code",
   "execution_count": null,
   "metadata": {},
   "outputs": [],
   "source": [
    "n = 10\n",
    "n = n + 5\n",
    "n = n / 3\n",
    "n = n * 4\n",
    "n = n - 15\n",
    "n = n**2\n",
    "\n",
    "n"
   ]
  },
  {
   "cell_type": "markdown",
   "metadata": {},
   "source": [
    "### 1.3.4. Importing the `math` module for additional functionality\n",
    "\n",
    "The Python standard library comes with a number of useful modules that contain code that is necessary to build applications. To improve speed and responsiveness, not all of these modules are loaded into memory automatically - you need to choose what modules you need in your program by using `import` statements. In the example below, the first line of code loads the Python [`math`](https://docs.python.org/3/library/math.html) module into memory, so that it's functions are available for you to use. You can click on the link to access the official documenation, which includes descriptions of the functions and constants available for you to use.\n",
    "\n",
    "One specific set of functions that may be useful are the trigonometric functions, such as: `math.sin(x)`, `math.cos(x)`, `math.tan(x)`. Note that these use angles in radians, so you may need to convert if you are accustomed to degrees. The math is obviously pretty easy, but there are also helper functions `math.degrees(x)` (convert *from* radians *to* degrees) and `math.radians(x)` (convert *from* degrees *to* radians) for your convenience.\n",
    "\n",
    "To use these functions, first `import` the module, and then call the function using the from `<modulename>.<functionname>(arguments)`, as shown in the example below."
   ]
  },
  {
   "cell_type": "code",
   "execution_count": null,
   "metadata": {},
   "outputs": [],
   "source": [
    "import math\n",
    "\n",
    "angle_in_degrees = 90\n",
    "angle_in_radians = math.radians(angle_in_degrees)\n",
    "\n",
    "math.sin(angle_in_radians)"
   ]
  },
  {
   "cell_type": "markdown",
   "metadata": {},
   "source": [
    "As you may have seen in the documentation, the `math` module also includes natural and base-10 logarithms (`math.log(x)`, `math.log10(x)`) and the exponential function (`math.exp(x)`). These can be called in the same way that we have shown above. Note that, now that the `math` module was imported in the previous cell, it is still available and does not need to be re-imported."
   ]
  },
  {
   "cell_type": "code",
   "execution_count": null,
   "metadata": {},
   "outputs": [],
   "source": [
    "n = 100\n",
    "math.log10(n)"
   ]
  },
  {
   "cell_type": "markdown",
   "metadata": {},
   "source": [
    "While these are possibly the most broadly applicable `math` functions, there are others available that may be interesting for different engineering problems."
   ]
  },
  {
   "cell_type": "markdown",
   "metadata": {},
   "source": [
    "### 1.3.5. Functions\n",
    "\n",
    "In the previous example, we used a **function** from the `math` module. Let's dissect the components of the `math.sin(x)` function:\n",
    "\n",
    "- **Name**: A function name is just like a variable name, but that variable stores a reference to a function (instead of a number or text string). The same basic naming rules apply. This particular function is called `sin`, which is easily recognizable to a user who has taken a trigonometry course or used a scientific calculator. \n",
    "- **Argument(s)** or **Parameter(s)**: The arguments are the values that we pass into the function for it to act upon. I use these terms more or less interchangeably, but you may find that others use *parameters* to specifically refer to the placeholder in the function call and *arguments* for the data that is passed into that parameter. For our purposes, I don't think that is a necessary distinction. The `sin` function has a parameter for the angle in radians.\n",
    "- **Code**: For the `sin` example we don't see the code that is executed when the function is called, but it obviously needs to exist somewhere. One of the nice features of a function is that we don't need to know exactly how the code is implemented to make full use of it. Additionally, if mathematitians / computer scientists come up with a newer/faster method for estimating the sine, they can update the `math` library without affecting our code.\n",
    "- **Return value**: Many (but not all) functions return a value that can be saved into a variable. Not surprisingly, the `sin` function is returning the value of the sine of the supplied angle.\n",
    "\n",
    "Using the same components, we can define our own Python function. This allows us to bundle a piece of code together, so that it can be accessed from different parts of our code.\n",
    "\n",
    "A function definition in Python starts with the `def` keyword, followed by the function name, parameters (in parentheses) and a colon. Then, the function code is written below, indented in by either 4 spaces or a tab. The `return` keyword indicates that the result of that line of code will be sent back out of the function. Again, naming of the function, parameters, and any variables used in the code is entirely up to the programmer. One watchout: Python process your code from the top down, so the function must be defined *before* it is called. "
   ]
  },
  {
   "cell_type": "code",
   "execution_count": null,
   "metadata": {},
   "outputs": [],
   "source": [
    "# function that computes the sin of an angle, given in degrees\n",
    "def sin_degrees(angle_in_degrees):\n",
    "\n",
    "    angle_in_radians = math.radians(angle_in_degrees)\n",
    "    return math.sin(angle_in_radians)\n",
    "\n",
    "# demonstrate the use of the function.\n",
    "sin_degrees(90)"
   ]
  },
  {
   "cell_type": "markdown",
   "metadata": {},
   "source": [
    "## 1.4. Working with Python lists\n",
    "\n",
    "### 1.4.1. List assignment"
   ]
  },
  {
   "cell_type": "code",
   "execution_count": null,
   "metadata": {},
   "outputs": [],
   "source": [
    "# assign a list of numerical values to a variable 'a'\n",
    "a = [1, 2, 5, 6, 7]\n",
    "\n",
    "# assign a list of string values to a variable 'b'\n",
    "polymer_properties = ['modulus', 'density', 'viscosity', 'Mn', 'Mw']\n",
    "\n",
    "# display the contents of the list object stored as 'a'\n",
    "a"
   ]
  },
  {
   "cell_type": "markdown",
   "metadata": {},
   "source": [
    "### 1.4.2. Selecting list items\n",
    "\n",
    "We can select an individual item from a list by using its \"index\" value, which is the numerical position in the list. Like the C or Java programming languages, Python uses zero-based indexing so the first value is at index \"0\". "
   ]
  },
  {
   "cell_type": "code",
   "execution_count": null,
   "metadata": {},
   "outputs": [],
   "source": [
    "# retrieve the value of the list 'b', from index '0' (the first position)\n",
    "polymer_properties[0]"
   ]
  },
  {
   "cell_type": "markdown",
   "metadata": {},
   "source": [
    "It may not be intuitive, but you can actually use negative values for the index. This will wrap around and begin counting backwards from the end of list. An index of `-1` is the last element of the list, `-2` is the second-to-last, etc."
   ]
  },
  {
   "cell_type": "code",
   "execution_count": null,
   "metadata": {},
   "outputs": [],
   "source": [
    "polymer_properties[-2]"
   ]
  },
  {
   "cell_type": "markdown",
   "metadata": {},
   "source": [
    "But, the index value must be an *integer* value. Division operations (and many of the `math` functions) in Python will be a floating-point (*real*) number, even if there is no remainder. The example below will throw an error, even though we know it should work."
   ]
  },
  {
   "cell_type": "code",
   "execution_count": null,
   "metadata": {},
   "outputs": [],
   "source": [
    "polymer_properties[6/3]"
   ]
  },
  {
   "cell_type": "markdown",
   "metadata": {},
   "source": [
    "Luckily, Python offers us a solution, which involves *casting* the value of the result to an integer type, which clips off anything after the decimal point: `int(x)`. By putting the quotient inside of `int(x)`, the code will now execute."
   ]
  },
  {
   "cell_type": "code",
   "execution_count": null,
   "metadata": {},
   "outputs": [],
   "source": [
    "polymer_properties[int(6/3)]"
   ]
  },
  {
   "cell_type": "markdown",
   "metadata": {},
   "source": [
    "If you are using specific numerical index values, you are responsible to make sure that they actually exist in the list -- otherwise, Python will throw an exception! Try running the following example, and see what happens."
   ]
  },
  {
   "cell_type": "code",
   "execution_count": null,
   "metadata": {},
   "outputs": [],
   "source": [
    "polymer_properties[42]"
   ]
  },
  {
   "cell_type": "markdown",
   "metadata": {},
   "source": [
    "The code did not execute, because no value existed. If we want to prevent this, we can check the length of a list using the built-in `len()` function and checking to make sure that the selected index is less than the length of the list. The syntax for an in/else statement in Python is given below. The indenting matters! This is how Python knows that the statement is only to execute under the given conditions. Either a tab, or four spaces can be used to indent your code.\n",
    "\n",
    "```\n",
    "if <True/False expression>:\n",
    "    <statement if True>\n",
    "else:\n",
    "    <statement if False>\n",
    "```\n",
    "\n",
    "The true/false expression will use on of the boolean operators (`<`, `>`, `<=`, `>=`, `==`, `!=`). The double-equal sign (`==`) is used to test for equality (versus assigning a value to a variable, as we did previously) and the exclamation-equal (`!=`) tests for non-equality. First, run the code below to see how it works. Then, experiment with modifying the code to behave differently. Note that you can omit the `else:` statement entirely if you want, and not execute any additional code if the statement evaluates to `False`."
   ]
  },
  {
   "cell_type": "code",
   "execution_count": null,
   "metadata": {},
   "outputs": [],
   "source": [
    "index = 42\n",
    "\n",
    "if index < len(polymer_properties):\n",
    "    print(polymer_properties[index])\n",
    "else:\n",
    "    print('error: index out of range')"
   ]
  },
  {
   "cell_type": "markdown",
   "metadata": {},
   "source": [
    "Then, we can look at selecting more than one item at a time, using list \"slicing\". The slicing syntax is: `start:stop:countby`. If the `start` value is omitted, it is assumed to be the start of the list. If the `stop` value is omitted, it is assumed to be the end of the list. If the `countby` value is omitted, it is assumed to be 1. \n",
    "\n",
    "| Code | Selection |\n",
    "|------|-----------|\n",
    "| a[2:4] | select all items starting with index=2, and ending *before* index=4 |\n",
    "| a[:4] | select all items starting at the beginning of the list (index=0), and ending *before* index=4 |\n",
    "| a[2:] | select all items starting with index=2, through the end of the list |\n",
    "| a[::-1] | select all items starting with index=2, through the end of the list |\n",
    "| a[1::2] | select every other item (count index by 2) starting with index=1, through the end of the list |"
   ]
  },
  {
   "cell_type": "code",
   "execution_count": null,
   "metadata": {},
   "outputs": [],
   "source": [
    "a[1::2]"
   ]
  },
  {
   "cell_type": "markdown",
   "metadata": {},
   "source": [
    "### 1.4.3. List comprehensions\n",
    "\n",
    "If you've taken a programming course before, you are probably familiar with loop contructs such as `for` or `while`. If not, that's ok too. While these are important features of a programming language, they're not ones that I feel are necessary to get started with analyzing engineering data, so we'll set those aside. I do want to introduce a feature of Python called **list comprehensions** that allows us to act upon each member of a list, to generate a new list.\n",
    "\n",
    "In the example below, notice that the command is enclosed within the square brackets (`[]`), just like when we created a new list above. This indicates that we are creating a new list, that generated by the code inside of the brackets. We define a new variable name which, one at a time, takes the value of each item in the list. Then we can act on that item, using mathematical operators, built-in or custom functions, just like any other variable.\n",
    "\n",
    "```\n",
    "[<operation using item variable> for <item variable name> in <list variable name>]\n",
    "```\n",
    "\n",
    "In the example below, we use a variable named `x` for each number in the list `a`, and square the value of `x`."
   ]
  },
  {
   "cell_type": "code",
   "execution_count": null,
   "metadata": {},
   "outputs": [],
   "source": [
    "[x**2 for x in a]"
   ]
  },
  {
   "cell_type": "markdown",
   "metadata": {},
   "source": [
    "The `string` object has a function called `upper`, which returns the same characters in UPPER CASE. We can also apply this function to each item in the list of polymer properties."
   ]
  },
  {
   "cell_type": "code",
   "execution_count": null,
   "metadata": {},
   "outputs": [],
   "source": [
    "[prop_name.upper() for prop_name in polymer_properties]"
   ]
  },
  {
   "cell_type": "markdown",
   "metadata": {},
   "source": [
    "## Next Steps:\n",
    "\n",
    "1. Complete the [Unit 1 Exercise](./unit01-solutions.ipynb) to test your understanding\n",
    "2. Advance to [Unit 2](../02-loading-data/unit02-lesson.ipynb) when you're ready for the next step"
   ]
  }
 ],
 "metadata": {
  "kernelspec": {
   "display_name": "Python 3.8.5 ('base')",
   "language": "python",
   "name": "python3"
  },
  "language_info": {
   "codemirror_mode": {
    "name": "ipython",
    "version": 3
   },
   "file_extension": ".py",
   "mimetype": "text/x-python",
   "name": "python",
   "nbconvert_exporter": "python",
   "pygments_lexer": "ipython3",
   "version": "3.8.5"
  },
  "orig_nbformat": 4,
  "vscode": {
   "interpreter": {
    "hash": "2af3520cf2d099315c509e23b0f679c1508a4671732b5e09eee0e9586de4a344"
   }
  }
 },
 "nbformat": 4,
 "nbformat_minor": 2
}
