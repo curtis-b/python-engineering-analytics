{
 "cells": [
  {
   "cell_type": "markdown",
   "metadata": {},
   "source": [
    "# Assessment: Unit 1\n",
    "--------------------\n",
    "\n",
    "Complete the problems below in your copy of the Jupyter Notebook."
   ]
  },
  {
   "cell_type": "markdown",
   "metadata": {},
   "source": [
    "## Problem 1.1.\n",
    "\n",
    "Create a markdown cell immediately below this one, using the appropriate keyboard shortcut(s). Title this cell \"problem 1.1. solution\" using the heading 3 format, and write down the shortcut(s) that you used to create the cell. Then, jot down a few data analysis challenges that you've run across and how Python might help you to overcome them."
   ]
  },
  {
   "cell_type": "markdown",
   "metadata": {},
   "source": [
    "### problem 1.1. solution\n",
    "\n",
    "Used keystroke `b` to create a new cell *below* the selected problem, keystroke `m` to convert to markdown format and then `enter` to change to edit-mode and fill in the cell.\n",
    "\n",
    "You should also have a personal response on previous challenges in this cell."
   ]
  },
  {
   "cell_type": "markdown",
   "metadata": {},
   "source": [
    "## Problem 1.2.\n",
    "\n",
    "The Gaussian distribution is defined as:\n",
    "\n",
    "$$f(x)=\\frac{1}{\\sigma \\sqrt{2\\pi}}e^{-\\frac{1}{2}\\frac{\\left(x-\\mu\\right)^2}{\\sigma^2}}$$\n",
    "\n",
    "1. Define a Python function that computes the value of the Gaussian probability density function given the mean, $\\mu$, and standard deviation, $\\sigma$. \n",
    "2. Call this function to compute the result $x=1.1$, given $\\mu=1$, $\\sigma=0.2$.\n",
    "3. Given a list of x values, use list comprehension to calculate the value of the Gaussian probability distribution, using the same $\\mu$, $\\sigma$. Round the results to 3 decimal place precision."
   ]
  },
  {
   "cell_type": "code",
   "execution_count": null,
   "metadata": {},
   "outputs": [],
   "source": [
    "x_values = [0.57, 0.65, 0.81, 0.86, 0.89, 0.92, 1.06, 1.19, 1.21, 1.23]\n",
    "\n",
    "# problem 1.2. solution\n",
    "\n",
    "import math\n",
    "\n",
    "# part 1: define function\n",
    "def gaussian(x, mu, sigma):\n",
    "\n",
    "    # parts of equation broken out for improved readability (not required)\n",
    "    scale_factor = 1 / (sigma * math.sqrt(2 * math.pi))\n",
    "    exponent = -0.5 * (x - mu)**2 / sigma**2\n",
    "\n",
    "    # complete the equation, using the pieces defined above, and return result\n",
    "    return scale_factor * math.exp(exponent)\n",
    "\n",
    "# part 2: calculate the single value\n",
    "result_p2_2 = gaussian(1.1, 1, 0.2)\n",
    "print(f'Subpart 2 Answer: {result_p2_2}')\n",
    "\n",
    "# part 3: calculate probability for the list of x values\n",
    "result_p2_3 = [round(gaussian(x, 1, 0.2), 3) for x in x_values]\n",
    "print(f'Subpart 3 Answer: {result_p2_3}')"
   ]
  },
  {
   "cell_type": "markdown",
   "metadata": {},
   "source": [
    "## Problem 1.3.\n",
    "\n",
    "Using the supplied list of values:\n",
    "\n",
    "1. Slice the supplied list to create a new list variable that contains only the values with an even-numbered index (0, 2, 4, ...)\n",
    "2. Process the list values from #1 to create a new list that is $\\log_e x$, rounding the result to 1 decimal place\n",
    "3. Print the results of #2 in forward order\n",
    "4. Slice the supplied list to create a new list variable that contains only the values with an odd-numbered index (1, 3, 5, ...)\n",
    "5. Process the list values from #4 to create a new list that is $e^x$, rounding the result to 1 decimal place\n",
    "6. Print the results of #5 in reverse order"
   ]
  },
  {
   "cell_type": "code",
   "execution_count": null,
   "metadata": {},
   "outputs": [],
   "source": [
    "values = [2.71828183e+00, 2.30258509e+00, 7.38905610e+00, 2.19722458e+00,\n",
    "          2.00855369e+01, 2.07944154e+00, 5.45981500e+01, 1.94591015e+00,\n",
    "          1.48413159e+02, 1.79175947e+00, 4.03428793e+02, 1.60943791e+00,\n",
    "          1.09663316e+03, 1.38629436e+00, 2.98095799e+03, 1.09861229e+00,\n",
    "          8.10308393e+03, 6.93147181e-01, 2.20264658e+04, 0.00000000e+00]\n",
    "\n",
    "# problem 1.3. solution\n",
    "\n",
    "# part 1: even-numbered indices\n",
    "evens_values = values[::2]\n",
    "\n",
    "# part 2: list comprehension to calculate log of each item, and round\n",
    "evens_result = [round(math.log(x), 1) for x in evens_values]\n",
    "\n",
    "# part 3: print results\n",
    "print(evens_result)\n",
    "\n",
    "# part 4: odd number indices\n",
    "odds_values = values[1::2]\n",
    "\n",
    "# part 5: list comprehension to calculate the exponential of each item, and round\n",
    "odds_result = [round(math.exp(x), 1) for x in odds_values]\n",
    "\n",
    "# part 6: print in reverse order\n",
    "print(odds_result[::-1])\n"
   ]
  },
  {
   "cell_type": "markdown",
   "metadata": {},
   "source": [
    "--------------\n",
    "## Next Steps:\n",
    "\n",
    "1. Advance to [Unit 2](../02-loading-data/unit02-lesson.ipynb) when you're ready for the next step"
   ]
  }
 ],
 "metadata": {
  "kernelspec": {
   "display_name": "Python 3.8.5 ('base')",
   "language": "python",
   "name": "python3"
  },
  "language_info": {
   "codemirror_mode": {
    "name": "ipython",
    "version": 3
   },
   "file_extension": ".py",
   "mimetype": "text/x-python",
   "name": "python",
   "nbconvert_exporter": "python",
   "pygments_lexer": "ipython3",
   "version": "3.8.13"
  },
  "orig_nbformat": 4,
  "vscode": {
   "interpreter": {
    "hash": "2af3520cf2d099315c509e23b0f679c1508a4671732b5e09eee0e9586de4a344"
   }
  }
 },
 "nbformat": 4,
 "nbformat_minor": 2
}
