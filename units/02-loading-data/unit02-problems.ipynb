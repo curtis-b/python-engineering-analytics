{
 "cells": [
  {
   "cell_type": "markdown",
   "metadata": {},
   "source": [
    "# Assessment: Unit 2\n",
    "--------------------\n",
    "\n",
    "Complete the problems below in your copy of the Jupyter Notebook."
   ]
  },
  {
   "cell_type": "markdown",
   "metadata": {},
   "source": [
    "## Problem 2.1.\n",
    "\n",
    "Random data is often used to test algorithms, and may be used in simulations. In this problem, you will generate random 2d matrices and perform matrix multiplication.\n",
    "\n",
    "1. Create two $100 \\times 100$ matrices, populated with random numbers selected from the interval [-5, 5)\n",
    "2. Print out the shape and average value for each matrix, with the mean value formatted to display 2 decimal places\n",
    "3. Multiply the two matrices together using matrix multiplication\n",
    "4. Save the result to the output directory as `problem2-1.txt`"
   ]
  },
  {
   "cell_type": "code",
   "execution_count": 1,
   "metadata": {},
   "outputs": [],
   "source": [
    "# problem 2.1. solution\n"
   ]
  },
  {
   "cell_type": "markdown",
   "metadata": {},
   "source": [
    "## Problem 2.2.\n",
    "\n",
    "When performing math on matrices, it is important to understand which operations are element-wise, and which are matrix operations. Follow the direction below and check your result versus this example.\n",
    "\n",
    "1. Load the comma-delimited matrix `matrix_C.csv` into a `numpy.ndarray` and check its shape\n",
    "2. Load the comma-delimited matrix `matrix_D.csv` into a `numpy.ndarray` and check its shape\n",
    "3. Compute $C^*=C^2-1$, element-wise\n",
    "4. Compute $D^*=\\sin \\left( D \\right)$, element-wise\n",
    "5. Matrix-multiply $C^* \\times D^*$\n",
    "6. Round the values in the resulting matrix to 2 decimal places\n",
    "7. Save the rounded results to the output directory as `problem2-2.csv`\n",
    "8. Display the results to the output window"
   ]
  },
  {
   "cell_type": "code",
   "execution_count": 2,
   "metadata": {},
   "outputs": [],
   "source": [
    "# problem 2.2. solution\n"
   ]
  },
  {
   "cell_type": "markdown",
   "metadata": {},
   "source": [
    "## Problem 2.3.\n",
    "\n",
    "Tensile modulus is commonly used as a measure of stiffness in polymer films. The file `modulus.csv` contains modulus data for different film types, measured in the *MD* (machine direction) and *TD* (transverse direction).\n",
    "\n",
    "1. Load the data from `modulus.csv`\n",
    "2. Compute the descriptive statistics for just the **BOPET** films. Save the results to a variable, and display on the screen\n",
    "3. Save the descriptive statistics to the output directory as `problem2-3.xlsx`\n",
    "4. Using the results of part 2, print out the limits of the interval $\\bar{x} \\pm 3 \\sigma$"
   ]
  },
  {
   "cell_type": "code",
   "execution_count": 3,
   "metadata": {},
   "outputs": [],
   "source": [
    "# problem 2.3. solution\n"
   ]
  },
  {
   "cell_type": "markdown",
   "metadata": {},
   "source": [
    "## Problem 2.4.\n",
    "\n",
    "One excellent use for Python code is automating the processing of data. Imagine you have a series of Excel files in legacy U.S. units that you would like to convert to metric. We can accomplish this process using Python code. \n",
    "\n",
    "1. Open the file `seal_curve_us.xlsx`\n",
    "2. Convert the temperatures to Celsius (°C), rounded to 1 decimal place\n",
    "3. Convert the forces to Newtons (N), rounded to 2 decimal places\n",
    "4. Select only the converted data and save to a file `seal_curve_metric.xlsx` in the output directory"
   ]
  },
  {
   "cell_type": "code",
   "execution_count": 4,
   "metadata": {},
   "outputs": [],
   "source": [
    "# problem 2.4. solution\n"
   ]
  },
  {
   "cell_type": "markdown",
   "metadata": {},
   "source": [
    "--------------\n",
    "## Next Steps:\n",
    "\n",
    "1. Check your work with the [Unit 2 Solutions](./unit02-solutions.ipynb)\n",
    "2. Advance to [Unit 3](../03-basic-plotting/unit03-lesson.ipynb) when you're ready for the next step"
   ]
  }
 ],
 "metadata": {
  "kernelspec": {
   "display_name": "Python 3.8.13 ('base')",
   "language": "python",
   "name": "python3"
  },
  "language_info": {
   "codemirror_mode": {
    "name": "ipython",
    "version": 3
   },
   "file_extension": ".py",
   "mimetype": "text/x-python",
   "name": "python",
   "nbconvert_exporter": "python",
   "pygments_lexer": "ipython3",
   "version": "3.8.13"
  },
  "orig_nbformat": 4,
  "vscode": {
   "interpreter": {
    "hash": "2af3520cf2d099315c509e23b0f679c1508a4671732b5e09eee0e9586de4a344"
   }
  }
 },
 "nbformat": 4,
 "nbformat_minor": 2
}
