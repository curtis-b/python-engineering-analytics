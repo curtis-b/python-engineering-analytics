{
 "cells": [
  {
   "cell_type": "markdown",
   "metadata": {},
   "source": [
    "# Assessment: Unit 2\n",
    "--------------------\n",
    "\n",
    "Complete the problems below in your copy of the Jupyter Notebook."
   ]
  },
  {
   "cell_type": "markdown",
   "metadata": {},
   "source": [
    "## Problem 2.1.\n",
    "\n",
    "1. Create two $100 \\times 100$ matrices, populated with random numbers selected from the interval [-5, 5)\n",
    "2. Print out the shape and average value for each matrix, with the average formatted to display 2 decimal places\n",
    "3. Multiply the two matrices together using matrix multiplication\n",
    "4. Save the result to the output directory as \"problem2-1.csv\""
   ]
  },
  {
   "cell_type": "code",
   "execution_count": null,
   "metadata": {},
   "outputs": [],
   "source": [
    "# problem 2.1. solution\n",
    "\n",
    "import numpy as np\n",
    "\n",
    "n = 100\n",
    "\n",
    "# create the n x n matrices\n",
    "# since random() generates values on [0, 1), we multiply by the scalar 10 to get [0, 10) and subtract 5\n",
    "A = np.random.random(n**2).reshape((n, n))*10 - 5\n",
    "B = np.random.random(n**2).reshape((n, n))*10 - 5\n",
    "\n",
    "# compute the averages - these should be ~0 if step 1 was done correctly\n",
    "print(f'Matrix A shape {A.shape}; average: {A.mean():0.2f}')\n",
    "print(f'Matrix B shape {B.shape}; average: {B.mean():0.2f}')\n",
    "\n",
    "# matrix-matrix multiplication\n",
    "C = A@B\n",
    "\n",
    "# save the result\n",
    "np.savetxt('../../output/problem2-1.csv', C, delimiter=',')"
   ]
  },
  {
   "cell_type": "markdown",
   "metadata": {},
   "source": [
    "## Problem 2.2.\n"
   ]
  },
  {
   "cell_type": "code",
   "execution_count": null,
   "metadata": {},
   "outputs": [],
   "source": [
    "# problem 2.2. solution"
   ]
  },
  {
   "cell_type": "markdown",
   "metadata": {},
   "source": [
    "## Problem 2.3.\n",
    "\n",
    "1. Load the dataset into a `pandas.DataFrame`\n",
    "2. Compute the descriptive statistics. Save the results to a variable, and print to the screen\n",
    "3. Using the results of part 2, print out the limits of the interval $\\bar{x} \\pm 3 \\sigma$\n",
    "4. Save the descriptive statistics to a file"
   ]
  },
  {
   "cell_type": "code",
   "execution_count": null,
   "metadata": {},
   "outputs": [],
   "source": [
    "# problem 2.3. solution\n",
    "\n",
    "import pandas as pd\n",
    "\n",
    "df = pd.read_csv('../../data/hdpe_dsc.txt', delimiter='\\t')\n",
    "\n",
    "# \n",
    "stats = df['Energy (J/g)'].describe()\n",
    "print(stats)\n",
    "\n",
    "lower_limit = stats.loc['mean'] - 3*stats.loc['std']\n",
    "upper_limit = stats.loc['mean'] + 3*stats.loc['std']\n",
    "\n",
    "print(f'Mean +/- 3 sigma: [{lower_limit:0.2f}, {upper_limit:0.2f}]')\n",
    "\n",
    "stats.to_excel('../../output/problem2-3.xlsx')\n",
    "\n"
   ]
  },
  {
   "cell_type": "markdown",
   "metadata": {},
   "source": [
    "--------------\n",
    "## Next Steps:\n",
    "\n",
    "1. Advance to [Unit 3](../03-basic-plotting/unit03-lesson.ipynb) when you're ready for the next step"
   ]
  }
 ],
 "metadata": {
  "kernelspec": {
   "display_name": "Python 3.8.5 ('base')",
   "language": "python",
   "name": "python3"
  },
  "language_info": {
   "codemirror_mode": {
    "name": "ipython",
    "version": 3
   },
   "file_extension": ".py",
   "mimetype": "text/x-python",
   "name": "python",
   "nbconvert_exporter": "python",
   "pygments_lexer": "ipython3",
   "version": "3.8.5"
  },
  "orig_nbformat": 4,
  "vscode": {
   "interpreter": {
    "hash": "2af3520cf2d099315c509e23b0f679c1508a4671732b5e09eee0e9586de4a344"
   }
  }
 },
 "nbformat": 4,
 "nbformat_minor": 2
}
