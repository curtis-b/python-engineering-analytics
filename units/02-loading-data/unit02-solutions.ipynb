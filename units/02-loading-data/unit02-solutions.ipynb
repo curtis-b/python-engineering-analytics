{
 "cells": [
  {
   "cell_type": "markdown",
   "metadata": {},
   "source": [
    "# Solutions: Unit 2\n",
    "-------------------\n",
    "\n",
    "Complete the problems below in your copy of the Jupyter Notebook."
   ]
  },
  {
   "cell_type": "markdown",
   "metadata": {},
   "source": [
    "## Problem 2.1.\n",
    "\n",
    "Random data is often used to test algorithms, and may be used in simulations. In this problem, you will generate random 2d matrices and perform matrix multiplication.\n",
    "\n",
    "1. Create two $100 \\times 100$ matrices, populated with random numbers selected from the interval [-5, 5)\n",
    "2. Print out the shape and average value for each matrix, with the mean value formatted to display 2 decimal places\n",
    "3. Multiply the two matrices together using matrix multiplication\n",
    "4. Save the result to the output directory as `problem2-1.txt`"
   ]
  },
  {
   "cell_type": "code",
   "execution_count": null,
   "metadata": {},
   "outputs": [],
   "source": [
    "# problem 2.1. solution\n",
    "\n",
    "import numpy as np\n",
    "\n",
    "n = 100\n",
    "\n",
    "# create the n x n matrices\n",
    "# since random() generates values on [0, 1), we multiply by the scalar 10 to get [0, 10) and subtract 5\n",
    "A = np.random.random(n**2).reshape((n, n))*10 - 5\n",
    "B = np.random.random(n**2).reshape((n, n))*10 - 5\n",
    "\n",
    "# compute the averages - these should be ~0 if step 1 was done correctly\n",
    "print(f'Matrix A shape {A.shape}; average: {A.mean():0.2f}')\n",
    "print(f'Matrix B shape {B.shape}; average: {B.mean():0.2f}')\n",
    "\n",
    "# matrix-matrix multiplication\n",
    "C = A@B\n",
    "\n",
    "# save the result\n",
    "np.savetxt('../../output/problem2-1-solution.txt', C)"
   ]
  },
  {
   "cell_type": "markdown",
   "metadata": {},
   "source": [
    "## Problem 2.2.\n",
    "\n",
    "When performing math on matrices, it is important to understand which operations are element-wise, and which are matrix operations. Follow the direction below and check your result versus this example.\n",
    "\n",
    "1. Load the comma-delimited matrix `matrix_C.csv` into a `numpy.ndarray` and check its shape\n",
    "2. Load the comma-delimited matrix `matrix_D.csv` into a `numpy.ndarray` and check its shape\n",
    "3. Compute $C^*=C^2-1$, element-wise\n",
    "4. Compute $D^*=\\sin \\left( D \\right)$, element-wise\n",
    "5. Matrix-multiply $C^* \\times D^*$\n",
    "6. Round the values in the resulting matrix to 2 decimal places\n",
    "7. Save the rounded results to the output directory as `problem2-2.csv`\n",
    "8. Display the results to the output window"
   ]
  },
  {
   "cell_type": "code",
   "execution_count": null,
   "metadata": {},
   "outputs": [],
   "source": [
    "# problem 2.2. solution\n",
    "\n",
    "# parts 1-2: load matrices\n",
    "C = np.loadtxt('../../data/matrix_C.csv', delimiter=',')\n",
    "D = np.loadtxt('../../data/matrix_D.csv', delimiter=',')\n",
    "\n",
    "# display matrix shape\n",
    "print(f'Shape C: {C.shape}')\n",
    "print(f'Shape D: {D.shape}')\n",
    "\n",
    "\n",
    "# parts 3-5\n",
    "# OPTION 1: store intermediates to improve readability\n",
    "C_star = C**2 - 1\n",
    "D_star = np.sin(D)\n",
    "\n",
    "result = C_star@D_star\n",
    "\n",
    "# OPTION 2: compute the result directly, using parentheses\n",
    "result = (C**2 - 1)@np.sin(D)\n",
    "\n",
    "\n",
    "# parts 6-7: round values, save and display\n",
    "result_rounded = np.round(result, 2)\n",
    "np.savetxt('../../output/problem2-2-solution.csv', result_rounded, delimiter=',')\n",
    "\n",
    "\n",
    "# part 8: display the result - for this example, we should have the identity matrix\n",
    "print(result_rounded)"
   ]
  },
  {
   "cell_type": "markdown",
   "metadata": {},
   "source": [
    "## Problem 2.3.\n",
    "\n",
    "Tensile modulus is commonly used as a measure of stiffness in polymer films. The file `modulus.csv` contains modulus data for different film types, measured in the *MD* (machine direction) and *TD* (transverse direction).\n",
    "\n",
    "1. Load the data from `modulus.csv`\n",
    "2. Compute the descriptive statistics for just the **BOPET** films. Save the results to a variable, and display on the screen\n",
    "3. Save the descriptive statistics to the output directory as `problem2-3.xlsx`\n",
    "4. Using the results of part 2, print out the limits of the interval $\\bar{x} \\pm 3 \\sigma$"
   ]
  },
  {
   "cell_type": "code",
   "execution_count": null,
   "metadata": {},
   "outputs": [],
   "source": [
    "# problem 2.3. solution\n",
    "\n",
    "import pandas as pd\n",
    "\n",
    "# part 1: load and view the data to see the column headings\n",
    "mod_df = pd.read_csv('../../data/modulus.csv', delimiter=',')\n",
    "mod_df.head()"
   ]
  },
  {
   "cell_type": "code",
   "execution_count": null,
   "metadata": {},
   "outputs": [],
   "source": [
    "# part 2\n",
    "\n",
    "# select only the BOPET films from the data set\n",
    "bopet_df = mod_df[mod_df['FilmType']=='BOPET']\n",
    "\n",
    "# compute descriptive statistics for the Measurement column\n",
    "stats = bopet_df['Measurement'].describe()\n",
    "print(stats)\n",
    "\n",
    "\n",
    "# part 3\n",
    "stats.to_excel('../../output/problem2-3-solution.xlsx')\n",
    "\n",
    "\n",
    "# part 4\n",
    "lower_limit = stats.loc['mean'] - 3*stats.loc['std']\n",
    "upper_limit = stats.loc['mean'] + 3*stats.loc['std']\n",
    "\n",
    "print(f'Mean +/- 3 sigma: [{lower_limit:0.2f}, {upper_limit:0.2f}]')"
   ]
  },
  {
   "cell_type": "markdown",
   "metadata": {},
   "source": [
    "## Problem 2.4.\n",
    "\n",
    "One excellent use for Python code is automating the processing of data. Imagine you have a series of Excel files in legacy U.S. units that you would like to convert to metric. We can accomplish this process using Python code. \n",
    "\n",
    "1. Open the file `seal_curve_us.xlsx`, using the worksheet named *sealcurve*\n",
    "2. Convert the temperatures to Celsius (°C), rounded to 1 decimal place\n",
    "3. Convert the forces to Newtons (N), rounded to 2 decimal places\n",
    "4. Select only the converted data and save to a file `seal_curve_metric.xlsx` in the output directory"
   ]
  },
  {
   "cell_type": "code",
   "execution_count": null,
   "metadata": {},
   "outputs": [],
   "source": [
    "# problem 2.4. solution\n",
    "\n",
    "import pandas as pd\n",
    "import numpy as np\n",
    "\n",
    "# part 1\n",
    "seal_df = pd.read_excel('../../data/seal_curve_us.xlsx', sheet_name='sealcurve')\n",
    "seal_df.head()"
   ]
  },
  {
   "cell_type": "code",
   "execution_count": null,
   "metadata": {},
   "outputs": [],
   "source": [
    "# part 2: convert the temperature and round to 1 decimal place\n",
    "seal_df['temperature_C'] = np.round((seal_df['temperature_F'] - 32) * 5/9, 1)\n",
    "\n",
    "# part 3: create a new column with the converted force, rounded to 2 decimal places\n",
    "seal_df['force_N'] = np.round(seal_df['force_lbs'] / 0.225, 2)\n",
    "\n",
    "# part 4: select the two columns that we want to save\n",
    "metric_df = seal_df[['temperature_C', 'force_N']]\n",
    "\n",
    "# save these columns to excel, set index=False to exclude the row numbers\n",
    "metric_df.to_excel('../../output/seal_curve_metric-solution.xlsx', sheet_name='sealcurve', index=False)"
   ]
  },
  {
   "cell_type": "markdown",
   "metadata": {},
   "source": [
    "--------------\n",
    "## Next Steps:\n",
    "\n",
    "1. Advance to [Unit 3](../03-basic-plotting/unit03-lesson.ipynb) when you're ready for the next step"
   ]
  }
 ],
 "metadata": {
  "kernelspec": {
   "display_name": "Python 3.9.12 ('base')",
   "language": "python",
   "name": "python3"
  },
  "language_info": {
   "codemirror_mode": {
    "name": "ipython",
    "version": 3
   },
   "file_extension": ".py",
   "mimetype": "text/x-python",
   "name": "python",
   "nbconvert_exporter": "python",
   "pygments_lexer": "ipython3",
   "version": "3.9.12"
  },
  "orig_nbformat": 4,
  "vscode": {
   "interpreter": {
    "hash": "2857618fbf4d4bb3d9a88a0331cc9f5539aea2b45b45163c4b048952b7884495"
   }
  }
 },
 "nbformat": 4,
 "nbformat_minor": 2
}
