{
 "cells": [
  {
   "cell_type": "markdown",
   "metadata": {},
   "source": [
    "# Assessment: Unit 2\n",
    "--------------------\n",
    "\n",
    "Complete the problems below in your copy of the Jupyter Notebook."
   ]
  },
  {
   "cell_type": "markdown",
   "metadata": {},
   "source": [
    "## Problem 2.1.\n",
    "\n",
    "1. Create two $100 \\times 100$ matrices, populated with random numbers selected from the interval [-5, 5)\n",
    "2. Print out the shape and average value for each matrix, with the average formatted to display 2 decimal places\n",
    "3. Multiply the two matrices together using matrix multiplication\n",
    "4. Save the result to the output directory as `problem2-1.txt`"
   ]
  },
  {
   "cell_type": "code",
   "execution_count": 6,
   "metadata": {},
   "outputs": [
    {
     "name": "stdout",
     "output_type": "stream",
     "text": [
      "Matrix A shape (100, 100); average: 0.01\n",
      "Matrix B shape (100, 100); average: 0.00\n"
     ]
    }
   ],
   "source": [
    "# problem 2.1. solution\n",
    "\n",
    "import numpy as np\n",
    "\n",
    "n = 100\n",
    "\n",
    "# create the n x n matrices\n",
    "# since random() generates values on [0, 1), we multiply by the scalar 10 to get [0, 10) and subtract 5\n",
    "A = np.random.random(n**2).reshape((n, n))*10 - 5\n",
    "B = np.random.random(n**2).reshape((n, n))*10 - 5\n",
    "\n",
    "# compute the averages - these should be ~0 if step 1 was done correctly\n",
    "print(f'Matrix A shape {A.shape}; average: {A.mean():0.2f}')\n",
    "print(f'Matrix B shape {B.shape}; average: {B.mean():0.2f}')\n",
    "\n",
    "# matrix-matrix multiplication\n",
    "C = A@B\n",
    "\n",
    "# save the result\n",
    "np.savetxt('../../output/problem2-1.txt', C)"
   ]
  },
  {
   "cell_type": "markdown",
   "metadata": {},
   "source": [
    "## Problem 2.2.\n",
    "\n",
    "1. Load the comma-delimited matrix `matrix_C.csv` into a `numpy.ndarray` and check its shape\n",
    "2. Load the comma-delimited matrix `matrix_D.csv` into a `numpy.ndarray` and check its shape\n",
    "3. Compute $C^*=C^2-1$, element-wise\n",
    "4. Compute $D^*=\\sin \\left( D \\right)$, element-wise\n",
    "5. Matrix-multiply $C^* \\times D^*$\n",
    "6. Round the values in the resulting matrix to 2 decimal places\n",
    "7. Save the rounded results to the output directory as `problem2-2.csv`\n",
    "8. Display the results to the output window"
   ]
  },
  {
   "cell_type": "code",
   "execution_count": null,
   "metadata": {},
   "outputs": [],
   "source": [
    "# problem 2.2. solution\n",
    "\n",
    "# load matrices\n",
    "C = np.loadtxt('../../data/matrix_C.csv', delimiter=',')\n",
    "D = np.loadtxt('../../data/matrix_D.csv', delimiter=',')\n",
    "\n",
    "# display matrix shape\n",
    "print(f'Shape C: {C.shape}')\n",
    "print(f'Shape D: {D.shape}')\n",
    "\n",
    "# OPTION 1: store intermediates to improve readability\n",
    "C_star = C**2 - 1\n",
    "D_star = np.sin(D)\n",
    "\n",
    "result = C_star@D_star\n",
    "\n",
    "# OPTION 2: compute the result directly, using parentheses\n",
    "result = (C**2 - 1)@np.sin(D)\n",
    "\n",
    "# round values, save and display\n",
    "result_rounded = np.round(result, 2)\n",
    "\n",
    "np.savetxt('../../output/problem2-2.csv', result_rounded, delimiter=',')\n",
    "print(result_rounded)"
   ]
  },
  {
   "cell_type": "markdown",
   "metadata": {},
   "source": [
    "## Problem 2.3.\n",
    "\n",
    "1. Load the data from `modulus.csv`\n",
    "2. Compute the descriptive statistics for the **BOPET** films. Save the results to a variable, and print to the screen\n",
    "3. Save the descriptive statistics to the output directory as `problem2-3.xlsx`\n",
    "4. Using the results of part 2, print out the limits of the interval $\\bar{x} \\pm 3 \\sigma$"
   ]
  },
  {
   "cell_type": "code",
   "execution_count": 14,
   "metadata": {},
   "outputs": [
    {
     "data": {
      "text/html": [
       "<div>\n",
       "<style scoped>\n",
       "    .dataframe tbody tr th:only-of-type {\n",
       "        vertical-align: middle;\n",
       "    }\n",
       "\n",
       "    .dataframe tbody tr th {\n",
       "        vertical-align: top;\n",
       "    }\n",
       "\n",
       "    .dataframe thead th {\n",
       "        text-align: right;\n",
       "    }\n",
       "</style>\n",
       "<table border=\"1\" class=\"dataframe\">\n",
       "  <thead>\n",
       "    <tr style=\"text-align: right;\">\n",
       "      <th></th>\n",
       "      <th>FilmType</th>\n",
       "      <th>Direction</th>\n",
       "      <th>Measurement</th>\n",
       "    </tr>\n",
       "  </thead>\n",
       "  <tbody>\n",
       "    <tr>\n",
       "      <th>0</th>\n",
       "      <td>BOPET</td>\n",
       "      <td>MD</td>\n",
       "      <td>4321.0</td>\n",
       "    </tr>\n",
       "    <tr>\n",
       "      <th>1</th>\n",
       "      <td>BOPET</td>\n",
       "      <td>MD</td>\n",
       "      <td>4211.0</td>\n",
       "    </tr>\n",
       "    <tr>\n",
       "      <th>2</th>\n",
       "      <td>BOPET</td>\n",
       "      <td>MD</td>\n",
       "      <td>4200.0</td>\n",
       "    </tr>\n",
       "    <tr>\n",
       "      <th>3</th>\n",
       "      <td>BOPET</td>\n",
       "      <td>MD</td>\n",
       "      <td>4199.0</td>\n",
       "    </tr>\n",
       "    <tr>\n",
       "      <th>4</th>\n",
       "      <td>BOPET</td>\n",
       "      <td>MD</td>\n",
       "      <td>4221.0</td>\n",
       "    </tr>\n",
       "  </tbody>\n",
       "</table>\n",
       "</div>"
      ],
      "text/plain": [
       "  FilmType Direction  Measurement\n",
       "0    BOPET        MD       4321.0\n",
       "1    BOPET        MD       4211.0\n",
       "2    BOPET        MD       4200.0\n",
       "3    BOPET        MD       4199.0\n",
       "4    BOPET        MD       4221.0"
      ]
     },
     "execution_count": 14,
     "metadata": {},
     "output_type": "execute_result"
    }
   ],
   "source": [
    "# problem 2.3. solution\n",
    "\n",
    "\n",
    "# part 1\n",
    "import pandas as pd\n",
    "\n",
    "# load and view the data to see the column headings\n",
    "mod_df = pd.read_csv('../../data/modulus.csv', delimiter=',')\n",
    "mod_df.head()"
   ]
  },
  {
   "cell_type": "code",
   "execution_count": 17,
   "metadata": {},
   "outputs": [
    {
     "name": "stdout",
     "output_type": "stream",
     "text": [
      "count     459.000000\n",
      "mean     4844.191721\n",
      "std       556.914376\n",
      "min      1940.000000\n",
      "25%      4573.000000\n",
      "50%      4865.000000\n",
      "75%      5169.000000\n",
      "max      6654.000000\n",
      "Name: Measurement, dtype: float64\n",
      "Mean +/- 3 sigma: [3173.45, 6514.93]\n"
     ]
    }
   ],
   "source": [
    "# part 2\n",
    "\n",
    "# select only the BOPET films from the data set\n",
    "bopet_df = mod_df[mod_df['FilmType']=='BOPET']\n",
    "\n",
    "# compute descriptive statistics for the Measurement column\n",
    "stats = bopet_df['Measurement'].describe()\n",
    "print(stats)\n",
    "\n",
    "\n",
    "# part 3\n",
    "stats.to_excel('../../output/problem2-3.xlsx')\n",
    "\n",
    "\n",
    "# part 4\n",
    "lower_limit = stats.loc['mean'] - 3*stats.loc['std']\n",
    "upper_limit = stats.loc['mean'] + 3*stats.loc['std']\n",
    "\n",
    "print(f'Mean +/- 3 sigma: [{lower_limit:0.2f}, {upper_limit:0.2f}]')"
   ]
  },
  {
   "cell_type": "markdown",
   "metadata": {},
   "source": [
    "## Problem 2.4.\n",
    "\n",
    "One excellent use for Python code is automating the processing of data. Imagine you have a series of Excel files in legacy U.S. units that you would like to convert to metric. We can accomplish that process using Python code. \n",
    "\n",
    "1. Open the file `seal_curve_us.xlsx`\n",
    "2. Convert the temperatures to Celsius (°C), rounded to 1 decimal place\n",
    "3. Convert the forces to Newtons (N), rounded to 2 decimal places\n",
    "4. Select only the converted data and save to a file `seal_curve_metric.xlsx` in the output directory"
   ]
  },
  {
   "cell_type": "code",
   "execution_count": 8,
   "metadata": {},
   "outputs": [
    {
     "data": {
      "text/html": [
       "<div>\n",
       "<style scoped>\n",
       "    .dataframe tbody tr th:only-of-type {\n",
       "        vertical-align: middle;\n",
       "    }\n",
       "\n",
       "    .dataframe tbody tr th {\n",
       "        vertical-align: top;\n",
       "    }\n",
       "\n",
       "    .dataframe thead th {\n",
       "        text-align: right;\n",
       "    }\n",
       "</style>\n",
       "<table border=\"1\" class=\"dataframe\">\n",
       "  <thead>\n",
       "    <tr style=\"text-align: right;\">\n",
       "      <th></th>\n",
       "      <th>temperature_F</th>\n",
       "      <th>force_lbs</th>\n",
       "    </tr>\n",
       "  </thead>\n",
       "  <tbody>\n",
       "    <tr>\n",
       "      <th>0</th>\n",
       "      <td>175</td>\n",
       "      <td>0.0</td>\n",
       "    </tr>\n",
       "    <tr>\n",
       "      <th>1</th>\n",
       "      <td>185</td>\n",
       "      <td>0.0</td>\n",
       "    </tr>\n",
       "    <tr>\n",
       "      <th>2</th>\n",
       "      <td>195</td>\n",
       "      <td>0.0</td>\n",
       "    </tr>\n",
       "    <tr>\n",
       "      <th>3</th>\n",
       "      <td>205</td>\n",
       "      <td>0.1</td>\n",
       "    </tr>\n",
       "    <tr>\n",
       "      <th>4</th>\n",
       "      <td>215</td>\n",
       "      <td>0.3</td>\n",
       "    </tr>\n",
       "  </tbody>\n",
       "</table>\n",
       "</div>"
      ],
      "text/plain": [
       "   temperature_F  force_lbs\n",
       "0            175        0.0\n",
       "1            185        0.0\n",
       "2            195        0.0\n",
       "3            205        0.1\n",
       "4            215        0.3"
      ]
     },
     "execution_count": 8,
     "metadata": {},
     "output_type": "execute_result"
    }
   ],
   "source": [
    "import pandas as pd\n",
    "import numpy as np\n",
    "\n",
    "seal_df = pd.read_excel('../../data/seal_curve_us.xlsx', sheet_name='sealcurve')\n",
    "seal_df.head()"
   ]
  },
  {
   "cell_type": "code",
   "execution_count": 11,
   "metadata": {},
   "outputs": [],
   "source": [
    "# convert the temperature and round to 1 decimal place\n",
    "seal_df['temperature_C'] = np.round((seal_df['temperature_F'] - 32) * 5/9, 1)\n",
    "\n",
    "# create a new column with the converted force, rounded to 2 decimal places\n",
    "seal_df['force_N'] = np.round(seal_df['force_lbs'] / 0.225, 2)\n",
    "\n",
    "# select the two columns that we want to save\n",
    "metric_df = seal_df[['temperature_C', 'force_N']]\n",
    "\n",
    "# save these columns to excel, set index=False to exclude the row numbers\n",
    "metric_df.to_excel('../../output/seal_curve_metric.xlsx', sheet_name='sealcurve', index=False)"
   ]
  },
  {
   "cell_type": "markdown",
   "metadata": {},
   "source": [
    "--------------\n",
    "## Next Steps:\n",
    "\n",
    "1. Advance to [Unit 3](../03-basic-plotting/unit03-lesson.ipynb) when you're ready for the next step"
   ]
  }
 ],
 "metadata": {
  "kernelspec": {
   "display_name": "Python 3.9.12 ('base')",
   "language": "python",
   "name": "python3"
  },
  "language_info": {
   "codemirror_mode": {
    "name": "ipython",
    "version": 3
   },
   "file_extension": ".py",
   "mimetype": "text/x-python",
   "name": "python",
   "nbconvert_exporter": "python",
   "pygments_lexer": "ipython3",
   "version": "3.9.12"
  },
  "orig_nbformat": 4,
  "vscode": {
   "interpreter": {
    "hash": "2857618fbf4d4bb3d9a88a0331cc9f5539aea2b45b45163c4b048952b7884495"
   }
  }
 },
 "nbformat": 4,
 "nbformat_minor": 2
}
